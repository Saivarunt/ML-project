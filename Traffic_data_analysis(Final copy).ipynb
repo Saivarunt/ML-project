{
  "nbformat": 4,
  "nbformat_minor": 0,
  "metadata": {
    "colab": {
      "name": "Traffic_data_analysis.ipynb",
      "provenance": [],
      "collapsed_sections": []
    },
    "kernelspec": {
      "name": "python3",
      "display_name": "Python 3"
    },
    "language_info": {
      "name": "python"
    }
  },
  "cells": [
    {
      "cell_type": "markdown",
      "metadata": {
        "id": "i68-eqJnvx46"
      },
      "source": [
        "TRAFIC FORECAST USING TIME SERIES ANALYSIS\n",
        "\n",
        "The dataset contains information about the date, time and an attribute count which denotes the number of vehicles passing through a given area at that particular time. The objective behind this project is to predict the trend in traffic in that particular area at any given time or date based on the 'count' of previous years.We also try to use various different functions and other algorithms to predict the trend in the dataset."
      ]
    },
    {
      "cell_type": "markdown",
      "metadata": {
        "id": "5o5TguG2ybpL"
      },
      "source": [
        "IMPORTING NECESSARY PACKAGES"
      ]
    },
    {
      "cell_type": "code",
      "metadata": {
        "id": "k3huai6Cvws5"
      },
      "source": [
        "import pandas as pd\n",
        "import numpy as np \n",
        "from sklearn.ensemble import RandomForestClassifier\n",
        "import matplotlib.pyplot as plt\n",
        "%matplotlib inline\n",
        "import warnings\n",
        "warnings.filterwarnings('ignore')\n",
        "from fbprophet import Prophet\n",
        "import seaborn as sns"
      ],
      "execution_count": 69,
      "outputs": []
    },
    {
      "cell_type": "markdown",
      "metadata": {
        "id": "k1GBGc24Vf_d"
      },
      "source": [
        "LOADING DATASET"
      ]
    },
    {
      "cell_type": "code",
      "metadata": {
        "colab": {
          "base_uri": "https://localhost:8080/",
          "height": 204
        },
        "id": "yIJWE8H_yaCX",
        "outputId": "2d18b297-81ff-4ed8-876b-5687baaa4e63"
      },
      "source": [
        "df = pd.read_csv('Traffic data.csv')\n",
        "df.head()"
      ],
      "execution_count": 31,
      "outputs": [
        {
          "output_type": "execute_result",
          "data": {
            "text/html": [
              "<div>\n",
              "<style scoped>\n",
              "    .dataframe tbody tr th:only-of-type {\n",
              "        vertical-align: middle;\n",
              "    }\n",
              "\n",
              "    .dataframe tbody tr th {\n",
              "        vertical-align: top;\n",
              "    }\n",
              "\n",
              "    .dataframe thead th {\n",
              "        text-align: right;\n",
              "    }\n",
              "</style>\n",
              "<table border=\"1\" class=\"dataframe\">\n",
              "  <thead>\n",
              "    <tr style=\"text-align: right;\">\n",
              "      <th></th>\n",
              "      <th>ID</th>\n",
              "      <th>Datetime</th>\n",
              "      <th>Count</th>\n",
              "    </tr>\n",
              "  </thead>\n",
              "  <tbody>\n",
              "    <tr>\n",
              "      <th>0</th>\n",
              "      <td>0</td>\n",
              "      <td>25-08-2012 00:00</td>\n",
              "      <td>8</td>\n",
              "    </tr>\n",
              "    <tr>\n",
              "      <th>1</th>\n",
              "      <td>1</td>\n",
              "      <td>25-08-2012 01:00</td>\n",
              "      <td>2</td>\n",
              "    </tr>\n",
              "    <tr>\n",
              "      <th>2</th>\n",
              "      <td>2</td>\n",
              "      <td>25-08-2012 02:00</td>\n",
              "      <td>6</td>\n",
              "    </tr>\n",
              "    <tr>\n",
              "      <th>3</th>\n",
              "      <td>3</td>\n",
              "      <td>25-08-2012 03:00</td>\n",
              "      <td>2</td>\n",
              "    </tr>\n",
              "    <tr>\n",
              "      <th>4</th>\n",
              "      <td>4</td>\n",
              "      <td>25-08-2012 04:00</td>\n",
              "      <td>2</td>\n",
              "    </tr>\n",
              "  </tbody>\n",
              "</table>\n",
              "</div>"
            ],
            "text/plain": [
              "   ID          Datetime  Count\n",
              "0   0  25-08-2012 00:00      8\n",
              "1   1  25-08-2012 01:00      2\n",
              "2   2  25-08-2012 02:00      6\n",
              "3   3  25-08-2012 03:00      2\n",
              "4   4  25-08-2012 04:00      2"
            ]
          },
          "metadata": {
            "tags": []
          },
          "execution_count": 31
        }
      ]
    },
    {
      "cell_type": "code",
      "metadata": {
        "colab": {
          "base_uri": "https://localhost:8080/",
          "height": 419
        },
        "id": "4DKNUJRYzYlK",
        "outputId": "70f1fc74-2761-40ed-cf3c-ff6e95f457a2"
      },
      "source": [
        "df"
      ],
      "execution_count": 32,
      "outputs": [
        {
          "output_type": "execute_result",
          "data": {
            "text/html": [
              "<div>\n",
              "<style scoped>\n",
              "    .dataframe tbody tr th:only-of-type {\n",
              "        vertical-align: middle;\n",
              "    }\n",
              "\n",
              "    .dataframe tbody tr th {\n",
              "        vertical-align: top;\n",
              "    }\n",
              "\n",
              "    .dataframe thead th {\n",
              "        text-align: right;\n",
              "    }\n",
              "</style>\n",
              "<table border=\"1\" class=\"dataframe\">\n",
              "  <thead>\n",
              "    <tr style=\"text-align: right;\">\n",
              "      <th></th>\n",
              "      <th>ID</th>\n",
              "      <th>Datetime</th>\n",
              "      <th>Count</th>\n",
              "    </tr>\n",
              "  </thead>\n",
              "  <tbody>\n",
              "    <tr>\n",
              "      <th>0</th>\n",
              "      <td>0</td>\n",
              "      <td>25-08-2012 00:00</td>\n",
              "      <td>8</td>\n",
              "    </tr>\n",
              "    <tr>\n",
              "      <th>1</th>\n",
              "      <td>1</td>\n",
              "      <td>25-08-2012 01:00</td>\n",
              "      <td>2</td>\n",
              "    </tr>\n",
              "    <tr>\n",
              "      <th>2</th>\n",
              "      <td>2</td>\n",
              "      <td>25-08-2012 02:00</td>\n",
              "      <td>6</td>\n",
              "    </tr>\n",
              "    <tr>\n",
              "      <th>3</th>\n",
              "      <td>3</td>\n",
              "      <td>25-08-2012 03:00</td>\n",
              "      <td>2</td>\n",
              "    </tr>\n",
              "    <tr>\n",
              "      <th>4</th>\n",
              "      <td>4</td>\n",
              "      <td>25-08-2012 04:00</td>\n",
              "      <td>2</td>\n",
              "    </tr>\n",
              "    <tr>\n",
              "      <th>...</th>\n",
              "      <td>...</td>\n",
              "      <td>...</td>\n",
              "      <td>...</td>\n",
              "    </tr>\n",
              "    <tr>\n",
              "      <th>18283</th>\n",
              "      <td>18283</td>\n",
              "      <td>25-09-2014 19:00</td>\n",
              "      <td>868</td>\n",
              "    </tr>\n",
              "    <tr>\n",
              "      <th>18284</th>\n",
              "      <td>18284</td>\n",
              "      <td>25-09-2014 20:00</td>\n",
              "      <td>732</td>\n",
              "    </tr>\n",
              "    <tr>\n",
              "      <th>18285</th>\n",
              "      <td>18285</td>\n",
              "      <td>25-09-2014 21:00</td>\n",
              "      <td>702</td>\n",
              "    </tr>\n",
              "    <tr>\n",
              "      <th>18286</th>\n",
              "      <td>18286</td>\n",
              "      <td>25-09-2014 22:00</td>\n",
              "      <td>580</td>\n",
              "    </tr>\n",
              "    <tr>\n",
              "      <th>18287</th>\n",
              "      <td>18287</td>\n",
              "      <td>25-09-2014 23:00</td>\n",
              "      <td>534</td>\n",
              "    </tr>\n",
              "  </tbody>\n",
              "</table>\n",
              "<p>18288 rows × 3 columns</p>\n",
              "</div>"
            ],
            "text/plain": [
              "          ID          Datetime  Count\n",
              "0          0  25-08-2012 00:00      8\n",
              "1          1  25-08-2012 01:00      2\n",
              "2          2  25-08-2012 02:00      6\n",
              "3          3  25-08-2012 03:00      2\n",
              "4          4  25-08-2012 04:00      2\n",
              "...      ...               ...    ...\n",
              "18283  18283  25-09-2014 19:00    868\n",
              "18284  18284  25-09-2014 20:00    732\n",
              "18285  18285  25-09-2014 21:00    702\n",
              "18286  18286  25-09-2014 22:00    580\n",
              "18287  18287  25-09-2014 23:00    534\n",
              "\n",
              "[18288 rows x 3 columns]"
            ]
          },
          "metadata": {
            "tags": []
          },
          "execution_count": 32
        }
      ]
    },
    {
      "cell_type": "code",
      "metadata": {
        "colab": {
          "base_uri": "https://localhost:8080/"
        },
        "id": "JIEmfwI9zlTQ",
        "outputId": "93069184-f2ae-4dc2-89ea-4e351fe1c822"
      },
      "source": [
        "np.shape(df)"
      ],
      "execution_count": 33,
      "outputs": [
        {
          "output_type": "execute_result",
          "data": {
            "text/plain": [
              "(18288, 3)"
            ]
          },
          "metadata": {
            "tags": []
          },
          "execution_count": 33
        }
      ]
    },
    {
      "cell_type": "markdown",
      "metadata": {
        "id": "UkvCMi391G8f"
      },
      "source": [
        "PREPROCESSING"
      ]
    },
    {
      "cell_type": "code",
      "metadata": {
        "colab": {
          "base_uri": "https://localhost:8080/",
          "height": 419
        },
        "id": "NGqFhIl_z0qr",
        "outputId": "aa62f9a9-3f9c-4b63-ab4f-f764446339b0"
      },
      "source": [
        "df.dropna(how='any')"
      ],
      "execution_count": 34,
      "outputs": [
        {
          "output_type": "execute_result",
          "data": {
            "text/html": [
              "<div>\n",
              "<style scoped>\n",
              "    .dataframe tbody tr th:only-of-type {\n",
              "        vertical-align: middle;\n",
              "    }\n",
              "\n",
              "    .dataframe tbody tr th {\n",
              "        vertical-align: top;\n",
              "    }\n",
              "\n",
              "    .dataframe thead th {\n",
              "        text-align: right;\n",
              "    }\n",
              "</style>\n",
              "<table border=\"1\" class=\"dataframe\">\n",
              "  <thead>\n",
              "    <tr style=\"text-align: right;\">\n",
              "      <th></th>\n",
              "      <th>ID</th>\n",
              "      <th>Datetime</th>\n",
              "      <th>Count</th>\n",
              "    </tr>\n",
              "  </thead>\n",
              "  <tbody>\n",
              "    <tr>\n",
              "      <th>0</th>\n",
              "      <td>0</td>\n",
              "      <td>25-08-2012 00:00</td>\n",
              "      <td>8</td>\n",
              "    </tr>\n",
              "    <tr>\n",
              "      <th>1</th>\n",
              "      <td>1</td>\n",
              "      <td>25-08-2012 01:00</td>\n",
              "      <td>2</td>\n",
              "    </tr>\n",
              "    <tr>\n",
              "      <th>2</th>\n",
              "      <td>2</td>\n",
              "      <td>25-08-2012 02:00</td>\n",
              "      <td>6</td>\n",
              "    </tr>\n",
              "    <tr>\n",
              "      <th>3</th>\n",
              "      <td>3</td>\n",
              "      <td>25-08-2012 03:00</td>\n",
              "      <td>2</td>\n",
              "    </tr>\n",
              "    <tr>\n",
              "      <th>4</th>\n",
              "      <td>4</td>\n",
              "      <td>25-08-2012 04:00</td>\n",
              "      <td>2</td>\n",
              "    </tr>\n",
              "    <tr>\n",
              "      <th>...</th>\n",
              "      <td>...</td>\n",
              "      <td>...</td>\n",
              "      <td>...</td>\n",
              "    </tr>\n",
              "    <tr>\n",
              "      <th>18283</th>\n",
              "      <td>18283</td>\n",
              "      <td>25-09-2014 19:00</td>\n",
              "      <td>868</td>\n",
              "    </tr>\n",
              "    <tr>\n",
              "      <th>18284</th>\n",
              "      <td>18284</td>\n",
              "      <td>25-09-2014 20:00</td>\n",
              "      <td>732</td>\n",
              "    </tr>\n",
              "    <tr>\n",
              "      <th>18285</th>\n",
              "      <td>18285</td>\n",
              "      <td>25-09-2014 21:00</td>\n",
              "      <td>702</td>\n",
              "    </tr>\n",
              "    <tr>\n",
              "      <th>18286</th>\n",
              "      <td>18286</td>\n",
              "      <td>25-09-2014 22:00</td>\n",
              "      <td>580</td>\n",
              "    </tr>\n",
              "    <tr>\n",
              "      <th>18287</th>\n",
              "      <td>18287</td>\n",
              "      <td>25-09-2014 23:00</td>\n",
              "      <td>534</td>\n",
              "    </tr>\n",
              "  </tbody>\n",
              "</table>\n",
              "<p>18288 rows × 3 columns</p>\n",
              "</div>"
            ],
            "text/plain": [
              "          ID          Datetime  Count\n",
              "0          0  25-08-2012 00:00      8\n",
              "1          1  25-08-2012 01:00      2\n",
              "2          2  25-08-2012 02:00      6\n",
              "3          3  25-08-2012 03:00      2\n",
              "4          4  25-08-2012 04:00      2\n",
              "...      ...               ...    ...\n",
              "18283  18283  25-09-2014 19:00    868\n",
              "18284  18284  25-09-2014 20:00    732\n",
              "18285  18285  25-09-2014 21:00    702\n",
              "18286  18286  25-09-2014 22:00    580\n",
              "18287  18287  25-09-2014 23:00    534\n",
              "\n",
              "[18288 rows x 3 columns]"
            ]
          },
          "metadata": {
            "tags": []
          },
          "execution_count": 34
        }
      ]
    },
    {
      "cell_type": "code",
      "metadata": {
        "colab": {
          "base_uri": "https://localhost:8080/"
        },
        "id": "XbVFmYKW07XN",
        "outputId": "c18749a3-5dc1-4a0e-a444-e4cb671b5c52"
      },
      "source": [
        "df.info()"
      ],
      "execution_count": 35,
      "outputs": [
        {
          "output_type": "stream",
          "text": [
            "<class 'pandas.core.frame.DataFrame'>\n",
            "RangeIndex: 18288 entries, 0 to 18287\n",
            "Data columns (total 3 columns):\n",
            " #   Column    Non-Null Count  Dtype \n",
            "---  ------    --------------  ----- \n",
            " 0   ID        18288 non-null  int64 \n",
            " 1   Datetime  18288 non-null  object\n",
            " 2   Count     18288 non-null  int64 \n",
            "dtypes: int64(2), object(1)\n",
            "memory usage: 428.8+ KB\n"
          ],
          "name": "stdout"
        }
      ]
    },
    {
      "cell_type": "code",
      "metadata": {
        "colab": {
          "base_uri": "https://localhost:8080/"
        },
        "id": "EccAYB4WP6VZ",
        "outputId": "d154f5a4-18c4-41df-bf8a-795a9c6ffd1a"
      },
      "source": [
        "np.max(df['Count'])"
      ],
      "execution_count": 36,
      "outputs": [
        {
          "output_type": "execute_result",
          "data": {
            "text/plain": [
              "1244"
            ]
          },
          "metadata": {
            "tags": []
          },
          "execution_count": 36
        }
      ]
    },
    {
      "cell_type": "code",
      "metadata": {
        "colab": {
          "base_uri": "https://localhost:8080/"
        },
        "id": "itdD2Me4QJR_",
        "outputId": "7088262b-acc5-4c36-f5cb-16cced9923ce"
      },
      "source": [
        "np.min(df['Count'])"
      ],
      "execution_count": 37,
      "outputs": [
        {
          "output_type": "execute_result",
          "data": {
            "text/plain": [
              "2"
            ]
          },
          "metadata": {
            "tags": []
          },
          "execution_count": 37
        }
      ]
    },
    {
      "cell_type": "code",
      "metadata": {
        "colab": {
          "base_uri": "https://localhost:8080/"
        },
        "id": "39XvHNwPQVvl",
        "outputId": "09cbc99d-38c5-449b-8b8b-0dc8a815b192"
      },
      "source": [
        "x=df['Count']\n",
        "x.values"
      ],
      "execution_count": 38,
      "outputs": [
        {
          "output_type": "execute_result",
          "data": {
            "text/plain": [
              "array([  8,   2,   6, ..., 702, 580, 534])"
            ]
          },
          "metadata": {
            "tags": []
          },
          "execution_count": 38
        }
      ]
    },
    {
      "cell_type": "code",
      "metadata": {
        "colab": {
          "base_uri": "https://localhost:8080/"
        },
        "id": "6U2lKVxbR7sO",
        "outputId": "38c6f79a-54a7-4708-83ae-f438dbc872b3"
      },
      "source": [
        "x.dtype"
      ],
      "execution_count": 39,
      "outputs": [
        {
          "output_type": "execute_result",
          "data": {
            "text/plain": [
              "dtype('int64')"
            ]
          },
          "metadata": {
            "tags": []
          },
          "execution_count": 39
        }
      ]
    },
    {
      "cell_type": "code",
      "metadata": {
        "colab": {
          "base_uri": "https://localhost:8080/"
        },
        "id": "87aXbyFMbe4i",
        "outputId": "09f7efff-712b-4717-ae87-87c0cf540b00"
      },
      "source": [
        "x.shape"
      ],
      "execution_count": 40,
      "outputs": [
        {
          "output_type": "execute_result",
          "data": {
            "text/plain": [
              "(18288,)"
            ]
          },
          "metadata": {
            "tags": []
          },
          "execution_count": 40
        }
      ]
    },
    {
      "cell_type": "code",
      "metadata": {
        "id": "nYlw9EMUX49f"
      },
      "source": [
        "m=x.mean()"
      ],
      "execution_count": 41,
      "outputs": []
    },
    {
      "cell_type": "code",
      "metadata": {
        "colab": {
          "base_uri": "https://localhost:8080/"
        },
        "id": "45ZnZtR3TDmz",
        "outputId": "21366328-a1e8-4111-8793-c4d179910fbd"
      },
      "source": [
        "high=np.empty(x.shape)\n",
        "c=0\n",
        "for i in x:\n",
        "  if i>m:\n",
        "    high[c]=1\n",
        "  else:\n",
        "    high[c]=0\n",
        "  c=c+1\n",
        "high"
      ],
      "execution_count": 42,
      "outputs": [
        {
          "output_type": "execute_result",
          "data": {
            "text/plain": [
              "array([0., 0., 0., ..., 1., 1., 1.])"
            ]
          },
          "metadata": {
            "tags": []
          },
          "execution_count": 42
        }
      ]
    },
    {
      "cell_type": "code",
      "metadata": {
        "colab": {
          "base_uri": "https://localhost:8080/"
        },
        "id": "xkEyXsibcZRc",
        "outputId": "7010b807-37b7-438a-b943-2272bd86f67f"
      },
      "source": [
        "h=pd.Series(high,name=\"Traffic\")\n",
        "h"
      ],
      "execution_count": 43,
      "outputs": [
        {
          "output_type": "execute_result",
          "data": {
            "text/plain": [
              "0        0.0\n",
              "1        0.0\n",
              "2        0.0\n",
              "3        0.0\n",
              "4        0.0\n",
              "        ... \n",
              "18283    1.0\n",
              "18284    1.0\n",
              "18285    1.0\n",
              "18286    1.0\n",
              "18287    1.0\n",
              "Name: Traffic, Length: 18288, dtype: float64"
            ]
          },
          "metadata": {
            "tags": []
          },
          "execution_count": 43
        }
      ]
    },
    {
      "cell_type": "code",
      "metadata": {
        "id": "AaECY9gydEsj"
      },
      "source": [
        "data=pd.merge(df,h,left_on=\"ID\",right_index=True)"
      ],
      "execution_count": 44,
      "outputs": []
    },
    {
      "cell_type": "code",
      "metadata": {
        "colab": {
          "base_uri": "https://localhost:8080/",
          "height": 419
        },
        "id": "hPisXVDuYZXA",
        "outputId": "3b7006c4-b2c9-4c7e-a59c-ef22d4043316"
      },
      "source": [
        "data"
      ],
      "execution_count": 45,
      "outputs": [
        {
          "output_type": "execute_result",
          "data": {
            "text/html": [
              "<div>\n",
              "<style scoped>\n",
              "    .dataframe tbody tr th:only-of-type {\n",
              "        vertical-align: middle;\n",
              "    }\n",
              "\n",
              "    .dataframe tbody tr th {\n",
              "        vertical-align: top;\n",
              "    }\n",
              "\n",
              "    .dataframe thead th {\n",
              "        text-align: right;\n",
              "    }\n",
              "</style>\n",
              "<table border=\"1\" class=\"dataframe\">\n",
              "  <thead>\n",
              "    <tr style=\"text-align: right;\">\n",
              "      <th></th>\n",
              "      <th>ID</th>\n",
              "      <th>Datetime</th>\n",
              "      <th>Count</th>\n",
              "      <th>Traffic</th>\n",
              "    </tr>\n",
              "  </thead>\n",
              "  <tbody>\n",
              "    <tr>\n",
              "      <th>0</th>\n",
              "      <td>0</td>\n",
              "      <td>25-08-2012 00:00</td>\n",
              "      <td>8</td>\n",
              "      <td>0.0</td>\n",
              "    </tr>\n",
              "    <tr>\n",
              "      <th>1</th>\n",
              "      <td>1</td>\n",
              "      <td>25-08-2012 01:00</td>\n",
              "      <td>2</td>\n",
              "      <td>0.0</td>\n",
              "    </tr>\n",
              "    <tr>\n",
              "      <th>2</th>\n",
              "      <td>2</td>\n",
              "      <td>25-08-2012 02:00</td>\n",
              "      <td>6</td>\n",
              "      <td>0.0</td>\n",
              "    </tr>\n",
              "    <tr>\n",
              "      <th>3</th>\n",
              "      <td>3</td>\n",
              "      <td>25-08-2012 03:00</td>\n",
              "      <td>2</td>\n",
              "      <td>0.0</td>\n",
              "    </tr>\n",
              "    <tr>\n",
              "      <th>4</th>\n",
              "      <td>4</td>\n",
              "      <td>25-08-2012 04:00</td>\n",
              "      <td>2</td>\n",
              "      <td>0.0</td>\n",
              "    </tr>\n",
              "    <tr>\n",
              "      <th>...</th>\n",
              "      <td>...</td>\n",
              "      <td>...</td>\n",
              "      <td>...</td>\n",
              "      <td>...</td>\n",
              "    </tr>\n",
              "    <tr>\n",
              "      <th>18283</th>\n",
              "      <td>18283</td>\n",
              "      <td>25-09-2014 19:00</td>\n",
              "      <td>868</td>\n",
              "      <td>1.0</td>\n",
              "    </tr>\n",
              "    <tr>\n",
              "      <th>18284</th>\n",
              "      <td>18284</td>\n",
              "      <td>25-09-2014 20:00</td>\n",
              "      <td>732</td>\n",
              "      <td>1.0</td>\n",
              "    </tr>\n",
              "    <tr>\n",
              "      <th>18285</th>\n",
              "      <td>18285</td>\n",
              "      <td>25-09-2014 21:00</td>\n",
              "      <td>702</td>\n",
              "      <td>1.0</td>\n",
              "    </tr>\n",
              "    <tr>\n",
              "      <th>18286</th>\n",
              "      <td>18286</td>\n",
              "      <td>25-09-2014 22:00</td>\n",
              "      <td>580</td>\n",
              "      <td>1.0</td>\n",
              "    </tr>\n",
              "    <tr>\n",
              "      <th>18287</th>\n",
              "      <td>18287</td>\n",
              "      <td>25-09-2014 23:00</td>\n",
              "      <td>534</td>\n",
              "      <td>1.0</td>\n",
              "    </tr>\n",
              "  </tbody>\n",
              "</table>\n",
              "<p>18288 rows × 4 columns</p>\n",
              "</div>"
            ],
            "text/plain": [
              "          ID          Datetime  Count  Traffic\n",
              "0          0  25-08-2012 00:00      8      0.0\n",
              "1          1  25-08-2012 01:00      2      0.0\n",
              "2          2  25-08-2012 02:00      6      0.0\n",
              "3          3  25-08-2012 03:00      2      0.0\n",
              "4          4  25-08-2012 04:00      2      0.0\n",
              "...      ...               ...    ...      ...\n",
              "18283  18283  25-09-2014 19:00    868      1.0\n",
              "18284  18284  25-09-2014 20:00    732      1.0\n",
              "18285  18285  25-09-2014 21:00    702      1.0\n",
              "18286  18286  25-09-2014 22:00    580      1.0\n",
              "18287  18287  25-09-2014 23:00    534      1.0\n",
              "\n",
              "[18288 rows x 4 columns]"
            ]
          },
          "metadata": {
            "tags": []
          },
          "execution_count": 45
        }
      ]
    },
    {
      "cell_type": "code",
      "metadata": {
        "colab": {
          "base_uri": "https://localhost:8080/"
        },
        "id": "r1Vb1vrp1nAO",
        "outputId": "8d2961d8-62e5-4a64-bc3b-cf6abf0c301d"
      },
      "source": [
        "data['Datetime'] = pd.to_datetime(data['Datetime'], format='%d-%m-%Y %H:%M')\n",
        "df.info()"
      ],
      "execution_count": 49,
      "outputs": [
        {
          "output_type": "stream",
          "text": [
            "<class 'pandas.core.frame.DataFrame'>\n",
            "RangeIndex: 18288 entries, 0 to 18287\n",
            "Data columns (total 3 columns):\n",
            " #   Column    Non-Null Count  Dtype \n",
            "---  ------    --------------  ----- \n",
            " 0   ID        18288 non-null  int64 \n",
            " 1   Datetime  18288 non-null  object\n",
            " 2   Count     18288 non-null  int64 \n",
            "dtypes: int64(2), object(1)\n",
            "memory usage: 428.8+ KB\n"
          ],
          "name": "stdout"
        }
      ]
    },
    {
      "cell_type": "code",
      "metadata": {
        "colab": {
          "base_uri": "https://localhost:8080/",
          "height": 235
        },
        "id": "y2lT9lnF8wSb",
        "outputId": "68cedea6-acab-42a9-c7df-daf6086006cd"
      },
      "source": [
        "data.index=data['Datetime']\n",
        "data['y'] = data['Count']\n",
        "data.drop(columns=['ID', 'Datetime', 'Count'], axis=1, inplace=True)\n",
        "data = data.resample('D').sum()\n",
        "data.head()"
      ],
      "execution_count": 50,
      "outputs": [
        {
          "output_type": "execute_result",
          "data": {
            "text/html": [
              "<div>\n",
              "<style scoped>\n",
              "    .dataframe tbody tr th:only-of-type {\n",
              "        vertical-align: middle;\n",
              "    }\n",
              "\n",
              "    .dataframe tbody tr th {\n",
              "        vertical-align: top;\n",
              "    }\n",
              "\n",
              "    .dataframe thead th {\n",
              "        text-align: right;\n",
              "    }\n",
              "</style>\n",
              "<table border=\"1\" class=\"dataframe\">\n",
              "  <thead>\n",
              "    <tr style=\"text-align: right;\">\n",
              "      <th></th>\n",
              "      <th>Traffic</th>\n",
              "      <th>y</th>\n",
              "    </tr>\n",
              "    <tr>\n",
              "      <th>Datetime</th>\n",
              "      <th></th>\n",
              "      <th></th>\n",
              "    </tr>\n",
              "  </thead>\n",
              "  <tbody>\n",
              "    <tr>\n",
              "      <th>2012-08-25</th>\n",
              "      <td>0.0</td>\n",
              "      <td>76</td>\n",
              "    </tr>\n",
              "    <tr>\n",
              "      <th>2012-08-26</th>\n",
              "      <td>0.0</td>\n",
              "      <td>88</td>\n",
              "    </tr>\n",
              "    <tr>\n",
              "      <th>2012-08-27</th>\n",
              "      <td>0.0</td>\n",
              "      <td>62</td>\n",
              "    </tr>\n",
              "    <tr>\n",
              "      <th>2012-08-28</th>\n",
              "      <td>0.0</td>\n",
              "      <td>58</td>\n",
              "    </tr>\n",
              "    <tr>\n",
              "      <th>2012-08-29</th>\n",
              "      <td>0.0</td>\n",
              "      <td>60</td>\n",
              "    </tr>\n",
              "  </tbody>\n",
              "</table>\n",
              "</div>"
            ],
            "text/plain": [
              "            Traffic   y\n",
              "Datetime               \n",
              "2012-08-25      0.0  76\n",
              "2012-08-26      0.0  88\n",
              "2012-08-27      0.0  62\n",
              "2012-08-28      0.0  58\n",
              "2012-08-29      0.0  60"
            ]
          },
          "metadata": {
            "tags": []
          },
          "execution_count": 50
        }
      ]
    },
    {
      "cell_type": "code",
      "metadata": {
        "colab": {
          "base_uri": "https://localhost:8080/",
          "height": 235
        },
        "id": "o7huPJ_8-lze",
        "outputId": "17e11064-7035-4251-c31b-b2bbbd98bffc"
      },
      "source": [
        "data['ds'] = data.index\n",
        "data.head()"
      ],
      "execution_count": 51,
      "outputs": [
        {
          "output_type": "execute_result",
          "data": {
            "text/html": [
              "<div>\n",
              "<style scoped>\n",
              "    .dataframe tbody tr th:only-of-type {\n",
              "        vertical-align: middle;\n",
              "    }\n",
              "\n",
              "    .dataframe tbody tr th {\n",
              "        vertical-align: top;\n",
              "    }\n",
              "\n",
              "    .dataframe thead th {\n",
              "        text-align: right;\n",
              "    }\n",
              "</style>\n",
              "<table border=\"1\" class=\"dataframe\">\n",
              "  <thead>\n",
              "    <tr style=\"text-align: right;\">\n",
              "      <th></th>\n",
              "      <th>Traffic</th>\n",
              "      <th>y</th>\n",
              "      <th>ds</th>\n",
              "    </tr>\n",
              "    <tr>\n",
              "      <th>Datetime</th>\n",
              "      <th></th>\n",
              "      <th></th>\n",
              "      <th></th>\n",
              "    </tr>\n",
              "  </thead>\n",
              "  <tbody>\n",
              "    <tr>\n",
              "      <th>2012-08-25</th>\n",
              "      <td>0.0</td>\n",
              "      <td>76</td>\n",
              "      <td>2012-08-25</td>\n",
              "    </tr>\n",
              "    <tr>\n",
              "      <th>2012-08-26</th>\n",
              "      <td>0.0</td>\n",
              "      <td>88</td>\n",
              "      <td>2012-08-26</td>\n",
              "    </tr>\n",
              "    <tr>\n",
              "      <th>2012-08-27</th>\n",
              "      <td>0.0</td>\n",
              "      <td>62</td>\n",
              "      <td>2012-08-27</td>\n",
              "    </tr>\n",
              "    <tr>\n",
              "      <th>2012-08-28</th>\n",
              "      <td>0.0</td>\n",
              "      <td>58</td>\n",
              "      <td>2012-08-28</td>\n",
              "    </tr>\n",
              "    <tr>\n",
              "      <th>2012-08-29</th>\n",
              "      <td>0.0</td>\n",
              "      <td>60</td>\n",
              "      <td>2012-08-29</td>\n",
              "    </tr>\n",
              "  </tbody>\n",
              "</table>\n",
              "</div>"
            ],
            "text/plain": [
              "            Traffic   y         ds\n",
              "Datetime                          \n",
              "2012-08-25      0.0  76 2012-08-25\n",
              "2012-08-26      0.0  88 2012-08-26\n",
              "2012-08-27      0.0  62 2012-08-27\n",
              "2012-08-28      0.0  58 2012-08-28\n",
              "2012-08-29      0.0  60 2012-08-29"
            ]
          },
          "metadata": {
            "tags": []
          },
          "execution_count": 51
        }
      ]
    },
    {
      "cell_type": "markdown",
      "metadata": {
        "id": "zwv6iFoNAkSc"
      },
      "source": [
        "VISUALIZING TREND BETWEEN DT AND VC"
      ]
    },
    {
      "cell_type": "code",
      "metadata": {
        "colab": {
          "base_uri": "https://localhost:8080/",
          "height": 428
        },
        "id": "kmimIGVF_D3_",
        "outputId": "4c0bfaa4-4230-47f5-9321-5c346afb4776"
      },
      "source": [
        "plt.figure(figsize=(10,7))\n",
        "plt.plot(data['ds'], data['y'])\n",
        "plt.show()"
      ],
      "execution_count": 52,
      "outputs": [
        {
          "output_type": "display_data",
          "data": {
            "image/png": "[encoded data removed]",
            "text/plain": [
              "<Figure size 720x504 with 1 Axes>"
            ]
          },
          "metadata": {
            "tags": [],
            "needs_background": "light"
          }
        }
      ]
    },
    {
      "cell_type": "code",
      "metadata": {
        "colab": {
          "base_uri": "https://localhost:8080/",
          "height": 296
        },
        "id": "LDuqSA5oVGmG",
        "outputId": "b958bb77-9657-4df5-9b41-a6accf71fff4"
      },
      "source": [
        "sns.scatterplot(x=data['y'],y=data['ds'],hue=data['Traffic'])"
      ],
      "execution_count": 74,
      "outputs": [
        {
          "output_type": "execute_result",
          "data": {
            "text/plain": [
              "<matplotlib.axes._subplots.AxesSubplot at 0x7f08d7688950>"
            ]
          },
          "metadata": {
            "tags": []
          },
          "execution_count": 74
        },
        {
          "output_type": "display_data",
          "data": {
            "image/png": "[encoded data removed]",
            "text/plain": [
              "<Figure size 432x288 with 1 Axes>"
            ]
          },
          "metadata": {
            "tags": [],
            "needs_background": "light"
          }
        }
      ]
    },
    {
      "cell_type": "code",
      "metadata": {
        "colab": {
          "base_uri": "https://localhost:8080/",
          "height": 235
        },
        "id": "CIHwiTHoBAKz",
        "outputId": "000a7bf5-2575-4a9e-d59b-daff27295578"
      },
      "source": [
        "size = 100\n",
        "from sklearn.model_selection import train_test_split\n",
        "train, test = train_test_split(data, test_size=size/len(data), shuffle=False)\n",
        "train.head()"
      ],
      "execution_count": 54,
      "outputs": [
        {
          "output_type": "execute_result",
          "data": {
            "text/html": [
              "<div>\n",
              "<style scoped>\n",
              "    .dataframe tbody tr th:only-of-type {\n",
              "        vertical-align: middle;\n",
              "    }\n",
              "\n",
              "    .dataframe tbody tr th {\n",
              "        vertical-align: top;\n",
              "    }\n",
              "\n",
              "    .dataframe thead th {\n",
              "        text-align: right;\n",
              "    }\n",
              "</style>\n",
              "<table border=\"1\" class=\"dataframe\">\n",
              "  <thead>\n",
              "    <tr style=\"text-align: right;\">\n",
              "      <th></th>\n",
              "      <th>Traffic</th>\n",
              "      <th>y</th>\n",
              "      <th>ds</th>\n",
              "    </tr>\n",
              "    <tr>\n",
              "      <th>Datetime</th>\n",
              "      <th></th>\n",
              "      <th></th>\n",
              "      <th></th>\n",
              "    </tr>\n",
              "  </thead>\n",
              "  <tbody>\n",
              "    <tr>\n",
              "      <th>2012-08-25</th>\n",
              "      <td>0.0</td>\n",
              "      <td>76</td>\n",
              "      <td>2012-08-25</td>\n",
              "    </tr>\n",
              "    <tr>\n",
              "      <th>2012-08-26</th>\n",
              "      <td>0.0</td>\n",
              "      <td>88</td>\n",
              "      <td>2012-08-26</td>\n",
              "    </tr>\n",
              "    <tr>\n",
              "      <th>2012-08-27</th>\n",
              "      <td>0.0</td>\n",
              "      <td>62</td>\n",
              "      <td>2012-08-27</td>\n",
              "    </tr>\n",
              "    <tr>\n",
              "      <th>2012-08-28</th>\n",
              "      <td>0.0</td>\n",
              "      <td>58</td>\n",
              "      <td>2012-08-28</td>\n",
              "    </tr>\n",
              "    <tr>\n",
              "      <th>2012-08-29</th>\n",
              "      <td>0.0</td>\n",
              "      <td>60</td>\n",
              "      <td>2012-08-29</td>\n",
              "    </tr>\n",
              "  </tbody>\n",
              "</table>\n",
              "</div>"
            ],
            "text/plain": [
              "            Traffic   y         ds\n",
              "Datetime                          \n",
              "2012-08-25      0.0  76 2012-08-25\n",
              "2012-08-26      0.0  88 2012-08-26\n",
              "2012-08-27      0.0  62 2012-08-27\n",
              "2012-08-28      0.0  58 2012-08-28\n",
              "2012-08-29      0.0  60 2012-08-29"
            ]
          },
          "metadata": {
            "tags": []
          },
          "execution_count": 54
        }
      ]
    },
    {
      "cell_type": "code",
      "metadata": {
        "colab": {
          "base_uri": "https://localhost:8080/",
          "height": 235
        },
        "id": "CyF5DF0JBdeJ",
        "outputId": "dba5712c-3a7d-4cab-9309-3228dacbefda"
      },
      "source": [
        "test.head()"
      ],
      "execution_count": 55,
      "outputs": [
        {
          "output_type": "execute_result",
          "data": {
            "text/html": [
              "<div>\n",
              "<style scoped>\n",
              "    .dataframe tbody tr th:only-of-type {\n",
              "        vertical-align: middle;\n",
              "    }\n",
              "\n",
              "    .dataframe tbody tr th {\n",
              "        vertical-align: top;\n",
              "    }\n",
              "\n",
              "    .dataframe thead th {\n",
              "        text-align: right;\n",
              "    }\n",
              "</style>\n",
              "<table border=\"1\" class=\"dataframe\">\n",
              "  <thead>\n",
              "    <tr style=\"text-align: right;\">\n",
              "      <th></th>\n",
              "      <th>Traffic</th>\n",
              "      <th>y</th>\n",
              "      <th>ds</th>\n",
              "    </tr>\n",
              "    <tr>\n",
              "      <th>Datetime</th>\n",
              "      <th></th>\n",
              "      <th></th>\n",
              "      <th></th>\n",
              "    </tr>\n",
              "  </thead>\n",
              "  <tbody>\n",
              "    <tr>\n",
              "      <th>2014-06-18</th>\n",
              "      <td>24.0</td>\n",
              "      <td>8300</td>\n",
              "      <td>2014-06-18</td>\n",
              "    </tr>\n",
              "    <tr>\n",
              "      <th>2014-06-19</th>\n",
              "      <td>23.0</td>\n",
              "      <td>6802</td>\n",
              "      <td>2014-06-19</td>\n",
              "    </tr>\n",
              "    <tr>\n",
              "      <th>2014-06-20</th>\n",
              "      <td>24.0</td>\n",
              "      <td>9118</td>\n",
              "      <td>2014-06-20</td>\n",
              "    </tr>\n",
              "    <tr>\n",
              "      <th>2014-06-21</th>\n",
              "      <td>21.0</td>\n",
              "      <td>5282</td>\n",
              "      <td>2014-06-21</td>\n",
              "    </tr>\n",
              "    <tr>\n",
              "      <th>2014-06-22</th>\n",
              "      <td>19.0</td>\n",
              "      <td>5540</td>\n",
              "      <td>2014-06-22</td>\n",
              "    </tr>\n",
              "  </tbody>\n",
              "</table>\n",
              "</div>"
            ],
            "text/plain": [
              "            Traffic     y         ds\n",
              "Datetime                            \n",
              "2014-06-18     24.0  8300 2014-06-18\n",
              "2014-06-19     23.0  6802 2014-06-19\n",
              "2014-06-20     24.0  9118 2014-06-20\n",
              "2014-06-21     21.0  5282 2014-06-21\n",
              "2014-06-22     19.0  5540 2014-06-22"
            ]
          },
          "metadata": {
            "tags": []
          },
          "execution_count": 55
        }
      ]
    },
    {
      "cell_type": "code",
      "metadata": {
        "colab": {
          "base_uri": "https://localhost:8080/",
          "height": 235
        },
        "id": "evPDK-S7BmvS",
        "outputId": "b4cb35c4-138f-43ca-df57-8c34e3c8141d"
      },
      "source": [
        "test.tail()"
      ],
      "execution_count": 56,
      "outputs": [
        {
          "output_type": "execute_result",
          "data": {
            "text/html": [
              "<div>\n",
              "<style scoped>\n",
              "    .dataframe tbody tr th:only-of-type {\n",
              "        vertical-align: middle;\n",
              "    }\n",
              "\n",
              "    .dataframe tbody tr th {\n",
              "        vertical-align: top;\n",
              "    }\n",
              "\n",
              "    .dataframe thead th {\n",
              "        text-align: right;\n",
              "    }\n",
              "</style>\n",
              "<table border=\"1\" class=\"dataframe\">\n",
              "  <thead>\n",
              "    <tr style=\"text-align: right;\">\n",
              "      <th></th>\n",
              "      <th>Traffic</th>\n",
              "      <th>y</th>\n",
              "      <th>ds</th>\n",
              "    </tr>\n",
              "    <tr>\n",
              "      <th>Datetime</th>\n",
              "      <th></th>\n",
              "      <th></th>\n",
              "      <th></th>\n",
              "    </tr>\n",
              "  </thead>\n",
              "  <tbody>\n",
              "    <tr>\n",
              "      <th>2014-09-21</th>\n",
              "      <td>22.0</td>\n",
              "      <td>9102</td>\n",
              "      <td>2014-09-21</td>\n",
              "    </tr>\n",
              "    <tr>\n",
              "      <th>2014-09-22</th>\n",
              "      <td>24.0</td>\n",
              "      <td>14116</td>\n",
              "      <td>2014-09-22</td>\n",
              "    </tr>\n",
              "    <tr>\n",
              "      <th>2014-09-23</th>\n",
              "      <td>24.0</td>\n",
              "      <td>13304</td>\n",
              "      <td>2014-09-23</td>\n",
              "    </tr>\n",
              "    <tr>\n",
              "      <th>2014-09-24</th>\n",
              "      <td>24.0</td>\n",
              "      <td>16856</td>\n",
              "      <td>2014-09-24</td>\n",
              "    </tr>\n",
              "    <tr>\n",
              "      <th>2014-09-25</th>\n",
              "      <td>24.0</td>\n",
              "      <td>14152</td>\n",
              "      <td>2014-09-25</td>\n",
              "    </tr>\n",
              "  </tbody>\n",
              "</table>\n",
              "</div>"
            ],
            "text/plain": [
              "            Traffic      y         ds\n",
              "Datetime                             \n",
              "2014-09-21     22.0   9102 2014-09-21\n",
              "2014-09-22     24.0  14116 2014-09-22\n",
              "2014-09-23     24.0  13304 2014-09-23\n",
              "2014-09-24     24.0  16856 2014-09-24\n",
              "2014-09-25     24.0  14152 2014-09-25"
            ]
          },
          "metadata": {
            "tags": []
          },
          "execution_count": 56
        }
      ]
    },
    {
      "cell_type": "code",
      "metadata": {
        "colab": {
          "base_uri": "https://localhost:8080/"
        },
        "id": "jL3VYydkBwIZ",
        "outputId": "97a633b6-7afc-42ed-a758-64aa3faba40f"
      },
      "source": [
        "model = Prophet(yearly_seasonality=True, seasonality_prior_scale=0.9)\n",
        "model.fit(train)"
      ],
      "execution_count": 57,
      "outputs": [
        {
          "output_type": "stream",
          "text": [
            "INFO:fbprophet:Disabling daily seasonality. Run prophet with daily_seasonality=True to override this.\n"
          ],
          "name": "stderr"
        },
        {
          "output_type": "execute_result",
          "data": {
            "text/plain": [
              "<fbprophet.forecaster.Prophet at 0x7f08e90e7f10>"
            ]
          },
          "metadata": {
            "tags": []
          },
          "execution_count": 57
        }
      ]
    },
    {
      "cell_type": "code",
      "metadata": {
        "colab": {
          "base_uri": "https://localhost:8080/",
          "height": 419
        },
        "id": "YUpob0lECiGZ",
        "outputId": "51891b64-d8ae-4832-ebf3-38c2f98fa648"
      },
      "source": [
        "f_data = model.make_future_dataframe(periods=100)\n",
        "f_data"
      ],
      "execution_count": 58,
      "outputs": [
        {
          "output_type": "execute_result",
          "data": {
            "text/html": [
              "<div>\n",
              "<style scoped>\n",
              "    .dataframe tbody tr th:only-of-type {\n",
              "        vertical-align: middle;\n",
              "    }\n",
              "\n",
              "    .dataframe tbody tr th {\n",
              "        vertical-align: top;\n",
              "    }\n",
              "\n",
              "    .dataframe thead th {\n",
              "        text-align: right;\n",
              "    }\n",
              "</style>\n",
              "<table border=\"1\" class=\"dataframe\">\n",
              "  <thead>\n",
              "    <tr style=\"text-align: right;\">\n",
              "      <th></th>\n",
              "      <th>ds</th>\n",
              "    </tr>\n",
              "  </thead>\n",
              "  <tbody>\n",
              "    <tr>\n",
              "      <th>0</th>\n",
              "      <td>2012-08-25</td>\n",
              "    </tr>\n",
              "    <tr>\n",
              "      <th>1</th>\n",
              "      <td>2012-08-26</td>\n",
              "    </tr>\n",
              "    <tr>\n",
              "      <th>2</th>\n",
              "      <td>2012-08-27</td>\n",
              "    </tr>\n",
              "    <tr>\n",
              "      <th>3</th>\n",
              "      <td>2012-08-28</td>\n",
              "    </tr>\n",
              "    <tr>\n",
              "      <th>4</th>\n",
              "      <td>2012-08-29</td>\n",
              "    </tr>\n",
              "    <tr>\n",
              "      <th>...</th>\n",
              "      <td>...</td>\n",
              "    </tr>\n",
              "    <tr>\n",
              "      <th>757</th>\n",
              "      <td>2014-09-21</td>\n",
              "    </tr>\n",
              "    <tr>\n",
              "      <th>758</th>\n",
              "      <td>2014-09-22</td>\n",
              "    </tr>\n",
              "    <tr>\n",
              "      <th>759</th>\n",
              "      <td>2014-09-23</td>\n",
              "    </tr>\n",
              "    <tr>\n",
              "      <th>760</th>\n",
              "      <td>2014-09-24</td>\n",
              "    </tr>\n",
              "    <tr>\n",
              "      <th>761</th>\n",
              "      <td>2014-09-25</td>\n",
              "    </tr>\n",
              "  </tbody>\n",
              "</table>\n",
              "<p>762 rows × 1 columns</p>\n",
              "</div>"
            ],
            "text/plain": [
              "            ds\n",
              "0   2012-08-25\n",
              "1   2012-08-26\n",
              "2   2012-08-27\n",
              "3   2012-08-28\n",
              "4   2012-08-29\n",
              "..         ...\n",
              "757 2014-09-21\n",
              "758 2014-09-22\n",
              "759 2014-09-23\n",
              "760 2014-09-24\n",
              "761 2014-09-25\n",
              "\n",
              "[762 rows x 1 columns]"
            ]
          },
          "metadata": {
            "tags": []
          },
          "execution_count": 58
        }
      ]
    },
    {
      "cell_type": "code",
      "metadata": {
        "colab": {
          "base_uri": "https://localhost:8080/",
          "height": 309
        },
        "id": "rB3uewMwD04O",
        "outputId": "03e19724-a4d6-4ce5-f006-7e961e94c551"
      },
      "source": [
        "forecast = model.predict(f_data)\n",
        "forecast.head()"
      ],
      "execution_count": 59,
      "outputs": [
        {
          "output_type": "execute_result",
          "data": {
            "text/html": [
              "<div>\n",
              "<style scoped>\n",
              "    .dataframe tbody tr th:only-of-type {\n",
              "        vertical-align: middle;\n",
              "    }\n",
              "\n",
              "    .dataframe tbody tr th {\n",
              "        vertical-align: top;\n",
              "    }\n",
              "\n",
              "    .dataframe thead th {\n",
              "        text-align: right;\n",
              "    }\n",
              "</style>\n",
              "<table border=\"1\" class=\"dataframe\">\n",
              "  <thead>\n",
              "    <tr style=\"text-align: right;\">\n",
              "      <th></th>\n",
              "      <th>ds</th>\n",
              "      <th>trend</th>\n",
              "      <th>yhat_lower</th>\n",
              "      <th>yhat_upper</th>\n",
              "      <th>trend_lower</th>\n",
              "      <th>trend_upper</th>\n",
              "      <th>additive_terms</th>\n",
              "      <th>additive_terms_lower</th>\n",
              "      <th>additive_terms_upper</th>\n",
              "      <th>weekly</th>\n",
              "      <th>weekly_lower</th>\n",
              "      <th>weekly_upper</th>\n",
              "      <th>yearly</th>\n",
              "      <th>yearly_lower</th>\n",
              "      <th>yearly_upper</th>\n",
              "      <th>multiplicative_terms</th>\n",
              "      <th>multiplicative_terms_lower</th>\n",
              "      <th>multiplicative_terms_upper</th>\n",
              "      <th>yhat</th>\n",
              "    </tr>\n",
              "  </thead>\n",
              "  <tbody>\n",
              "    <tr>\n",
              "      <th>0</th>\n",
              "      <td>2012-08-25</td>\n",
              "      <td>-509.515681</td>\n",
              "      <td>-1713.428192</td>\n",
              "      <td>159.052694</td>\n",
              "      <td>-509.515681</td>\n",
              "      <td>-509.515681</td>\n",
              "      <td>-272.470704</td>\n",
              "      <td>-272.470704</td>\n",
              "      <td>-272.470704</td>\n",
              "      <td>-786.127881</td>\n",
              "      <td>-786.127881</td>\n",
              "      <td>-786.127881</td>\n",
              "      <td>513.657176</td>\n",
              "      <td>513.657176</td>\n",
              "      <td>513.657176</td>\n",
              "      <td>0.0</td>\n",
              "      <td>0.0</td>\n",
              "      <td>0.0</td>\n",
              "      <td>-781.986385</td>\n",
              "    </tr>\n",
              "    <tr>\n",
              "      <th>1</th>\n",
              "      <td>2012-08-26</td>\n",
              "      <td>-502.314109</td>\n",
              "      <td>-1772.454248</td>\n",
              "      <td>-51.406278</td>\n",
              "      <td>-502.314109</td>\n",
              "      <td>-502.314109</td>\n",
              "      <td>-388.737957</td>\n",
              "      <td>-388.737957</td>\n",
              "      <td>-388.737957</td>\n",
              "      <td>-902.932915</td>\n",
              "      <td>-902.932915</td>\n",
              "      <td>-902.932915</td>\n",
              "      <td>514.194958</td>\n",
              "      <td>514.194958</td>\n",
              "      <td>514.194958</td>\n",
              "      <td>0.0</td>\n",
              "      <td>0.0</td>\n",
              "      <td>0.0</td>\n",
              "      <td>-891.052066</td>\n",
              "    </tr>\n",
              "    <tr>\n",
              "      <th>2</th>\n",
              "      <td>2012-08-27</td>\n",
              "      <td>-495.112537</td>\n",
              "      <td>-559.181459</td>\n",
              "      <td>1266.994701</td>\n",
              "      <td>-495.112537</td>\n",
              "      <td>-495.112537</td>\n",
              "      <td>885.905234</td>\n",
              "      <td>885.905234</td>\n",
              "      <td>885.905234</td>\n",
              "      <td>372.157378</td>\n",
              "      <td>372.157378</td>\n",
              "      <td>372.157378</td>\n",
              "      <td>513.747856</td>\n",
              "      <td>513.747856</td>\n",
              "      <td>513.747856</td>\n",
              "      <td>0.0</td>\n",
              "      <td>0.0</td>\n",
              "      <td>0.0</td>\n",
              "      <td>390.792697</td>\n",
              "    </tr>\n",
              "    <tr>\n",
              "      <th>3</th>\n",
              "      <td>2012-08-28</td>\n",
              "      <td>-487.910965</td>\n",
              "      <td>-519.935274</td>\n",
              "      <td>1312.348506</td>\n",
              "      <td>-487.910965</td>\n",
              "      <td>-487.910965</td>\n",
              "      <td>930.865597</td>\n",
              "      <td>930.865597</td>\n",
              "      <td>930.865597</td>\n",
              "      <td>418.330932</td>\n",
              "      <td>418.330932</td>\n",
              "      <td>418.330932</td>\n",
              "      <td>512.534665</td>\n",
              "      <td>512.534665</td>\n",
              "      <td>512.534665</td>\n",
              "      <td>0.0</td>\n",
              "      <td>0.0</td>\n",
              "      <td>0.0</td>\n",
              "      <td>442.954632</td>\n",
              "    </tr>\n",
              "    <tr>\n",
              "      <th>4</th>\n",
              "      <td>2012-08-29</td>\n",
              "      <td>-480.709393</td>\n",
              "      <td>-538.588539</td>\n",
              "      <td>1292.937757</td>\n",
              "      <td>-480.709393</td>\n",
              "      <td>-480.709393</td>\n",
              "      <td>882.438286</td>\n",
              "      <td>882.438286</td>\n",
              "      <td>882.438286</td>\n",
              "      <td>371.679601</td>\n",
              "      <td>371.679601</td>\n",
              "      <td>371.679601</td>\n",
              "      <td>510.758685</td>\n",
              "      <td>510.758685</td>\n",
              "      <td>510.758685</td>\n",
              "      <td>0.0</td>\n",
              "      <td>0.0</td>\n",
              "      <td>0.0</td>\n",
              "      <td>401.728894</td>\n",
              "    </tr>\n",
              "  </tbody>\n",
              "</table>\n",
              "</div>"
            ],
            "text/plain": [
              "          ds       trend  ...  multiplicative_terms_upper        yhat\n",
              "0 2012-08-25 -509.515681  ...                         0.0 -781.986385\n",
              "1 2012-08-26 -502.314109  ...                         0.0 -891.052066\n",
              "2 2012-08-27 -495.112537  ...                         0.0  390.792697\n",
              "3 2012-08-28 -487.910965  ...                         0.0  442.954632\n",
              "4 2012-08-29 -480.709393  ...                         0.0  401.728894\n",
              "\n",
              "[5 rows x 19 columns]"
            ]
          },
          "metadata": {
            "tags": []
          },
          "execution_count": 59
        }
      ]
    },
    {
      "cell_type": "code",
      "metadata": {
        "colab": {
          "base_uri": "https://localhost:8080/",
          "height": 674
        },
        "id": "RB9-xkhZEVph",
        "outputId": "f20d65e8-4881-4483-9727-abd6b144288b"
      },
      "source": [
        "model.plot_components(forecast)\n",
        "pred = forecast.iloc[-100:, :]\n",
        "len(pred)"
      ],
      "execution_count": 60,
      "outputs": [
        {
          "output_type": "execute_result",
          "data": {
            "text/plain": [
              "100"
            ]
          },
          "metadata": {
            "tags": []
          },
          "execution_count": 60
        },
        {
          "output_type": "display_data",
          "data": {
            "image/png": "[encoded data removed]",
            "text/plain": [
              "<Figure size 648x648 with 3 Axes>"
            ]
          },
          "metadata": {
            "tags": []
          }
        }
      ]
    },
    {
      "cell_type": "code",
      "metadata": {
        "colab": {
          "base_uri": "https://localhost:8080/",
          "height": 428
        },
        "id": "rAVM_8djFfMO",
        "outputId": "39f417e4-2504-4da7-aacf-faec6e6ddb76"
      },
      "source": [
        "plt.figure(figsize=(10,7))\n",
        "plt.plot(test['ds'], test['y'])\n",
        "plt.plot(pred['ds'], pred['yhat'], color='red')\n",
        "plt.plot(pred['ds'], pred['yhat_lower'], color='green')\n",
        "plt.plot(pred['ds'], pred['yhat_upper'], color='orange')\n",
        "plt.show()"
      ],
      "execution_count": 61,
      "outputs": [
        {
          "output_type": "display_data",
          "data": {
            "image/png": "[encoded data removed]",
            "text/plain": [
              "<Figure size 720x504 with 1 Axes>"
            ]
          },
          "metadata": {
            "tags": [],
            "needs_background": "light"
          }
        }
      ]
    },
    {
      "cell_type": "code",
      "metadata": {
        "id": "B170PKhoFnJa",
        "colab": {
          "base_uri": "https://localhost:8080/",
          "height": 267
        },
        "outputId": "3242151c-beb6-4ed5-f56d-15505852db30"
      },
      "source": [
        "plt.plot(data['ds'], data['y'])\n",
        "plt.show()"
      ],
      "execution_count": 62,
      "outputs": [
        {
          "output_type": "display_data",
          "data": {
            "image/png": "[encoded data removed]",
            "text/plain": [
              "<Figure size 432x288 with 1 Axes>"
            ]
          },
          "metadata": {
            "tags": [],
            "needs_background": "light"
          }
        }
      ]
    },
    {
      "cell_type": "code",
      "metadata": {
        "colab": {
          "base_uri": "https://localhost:8080/",
          "height": 265
        },
        "id": "RZOKF6L8Fs-B",
        "outputId": "2ed3307d-db18-42e6-886d-fee62ac89451"
      },
      "source": [
        "plt.plot(forecast['ds'], forecast['yhat'])\n",
        "plt.show()"
      ],
      "execution_count": 63,
      "outputs": [
        {
          "output_type": "display_data",
          "data": {
            "image/png": "[encoded data removed]",
            "text/plain": [
              "<Figure size 432x288 with 1 Axes>"
            ]
          },
          "metadata": {
            "tags": [],
            "needs_background": "light"
          }
        }
      ]
    },
    {
      "cell_type": "code",
      "metadata": {
        "colab": {
          "base_uri": "https://localhost:8080/"
        },
        "id": "W5_GOHBBF0nX",
        "outputId": "d0c6f12b-ab73-4188-a893-66b19f4f3673"
      },
      "source": [
        "model = Prophet(yearly_seasonality=True, seasonality_prior_scale=0.9)\n",
        "model.fit(data)"
      ],
      "execution_count": 64,
      "outputs": [
        {
          "output_type": "stream",
          "text": [
            "INFO:fbprophet:Disabling daily seasonality. Run prophet with daily_seasonality=True to override this.\n"
          ],
          "name": "stderr"
        },
        {
          "output_type": "execute_result",
          "data": {
            "text/plain": [
              "<fbprophet.forecaster.Prophet at 0x7f08d9babb10>"
            ]
          },
          "metadata": {
            "tags": []
          },
          "execution_count": 64
        }
      ]
    },
    {
      "cell_type": "code",
      "metadata": {
        "colab": {
          "base_uri": "https://localhost:8080/",
          "height": 309
        },
        "id": "fQNFp_3NF2c1",
        "outputId": "34279b20-1894-4f7f-c7c1-d95758a351d2"
      },
      "source": [
        "future = model.make_future_dataframe(periods=200)\n",
        "forecast = model.predict(future)\n",
        "forecast.head()"
      ],
      "execution_count": 65,
      "outputs": [
        {
          "output_type": "execute_result",
          "data": {
            "text/html": [
              "<div>\n",
              "<style scoped>\n",
              "    .dataframe tbody tr th:only-of-type {\n",
              "        vertical-align: middle;\n",
              "    }\n",
              "\n",
              "    .dataframe tbody tr th {\n",
              "        vertical-align: top;\n",
              "    }\n",
              "\n",
              "    .dataframe thead th {\n",
              "        text-align: right;\n",
              "    }\n",
              "</style>\n",
              "<table border=\"1\" class=\"dataframe\">\n",
              "  <thead>\n",
              "    <tr style=\"text-align: right;\">\n",
              "      <th></th>\n",
              "      <th>ds</th>\n",
              "      <th>trend</th>\n",
              "      <th>yhat_lower</th>\n",
              "      <th>yhat_upper</th>\n",
              "      <th>trend_lower</th>\n",
              "      <th>trend_upper</th>\n",
              "      <th>additive_terms</th>\n",
              "      <th>additive_terms_lower</th>\n",
              "      <th>additive_terms_upper</th>\n",
              "      <th>weekly</th>\n",
              "      <th>weekly_lower</th>\n",
              "      <th>weekly_upper</th>\n",
              "      <th>yearly</th>\n",
              "      <th>yearly_lower</th>\n",
              "      <th>yearly_upper</th>\n",
              "      <th>multiplicative_terms</th>\n",
              "      <th>multiplicative_terms_lower</th>\n",
              "      <th>multiplicative_terms_upper</th>\n",
              "      <th>yhat</th>\n",
              "    </tr>\n",
              "  </thead>\n",
              "  <tbody>\n",
              "    <tr>\n",
              "      <th>0</th>\n",
              "      <td>2012-08-25</td>\n",
              "      <td>-691.413088</td>\n",
              "      <td>-2328.795615</td>\n",
              "      <td>134.136589</td>\n",
              "      <td>-691.413088</td>\n",
              "      <td>-691.413088</td>\n",
              "      <td>-423.432144</td>\n",
              "      <td>-423.432144</td>\n",
              "      <td>-423.432144</td>\n",
              "      <td>-995.120367</td>\n",
              "      <td>-995.120367</td>\n",
              "      <td>-995.120367</td>\n",
              "      <td>571.688223</td>\n",
              "      <td>571.688223</td>\n",
              "      <td>571.688223</td>\n",
              "      <td>0.0</td>\n",
              "      <td>0.0</td>\n",
              "      <td>0.0</td>\n",
              "      <td>-1114.845232</td>\n",
              "    </tr>\n",
              "    <tr>\n",
              "      <th>1</th>\n",
              "      <td>2012-08-26</td>\n",
              "      <td>-683.288701</td>\n",
              "      <td>-2458.364749</td>\n",
              "      <td>-31.911435</td>\n",
              "      <td>-683.288701</td>\n",
              "      <td>-683.288701</td>\n",
              "      <td>-581.426591</td>\n",
              "      <td>-581.426591</td>\n",
              "      <td>-581.426591</td>\n",
              "      <td>-1144.187184</td>\n",
              "      <td>-1144.187184</td>\n",
              "      <td>-1144.187184</td>\n",
              "      <td>562.760593</td>\n",
              "      <td>562.760593</td>\n",
              "      <td>562.760593</td>\n",
              "      <td>0.0</td>\n",
              "      <td>0.0</td>\n",
              "      <td>0.0</td>\n",
              "      <td>-1264.715292</td>\n",
              "    </tr>\n",
              "    <tr>\n",
              "      <th>2</th>\n",
              "      <td>2012-08-27</td>\n",
              "      <td>-675.164314</td>\n",
              "      <td>-867.482100</td>\n",
              "      <td>1635.216921</td>\n",
              "      <td>-675.164314</td>\n",
              "      <td>-675.164314</td>\n",
              "      <td>1008.545650</td>\n",
              "      <td>1008.545650</td>\n",
              "      <td>1008.545650</td>\n",
              "      <td>457.575538</td>\n",
              "      <td>457.575538</td>\n",
              "      <td>457.575538</td>\n",
              "      <td>550.970112</td>\n",
              "      <td>550.970112</td>\n",
              "      <td>550.970112</td>\n",
              "      <td>0.0</td>\n",
              "      <td>0.0</td>\n",
              "      <td>0.0</td>\n",
              "      <td>333.381336</td>\n",
              "    </tr>\n",
              "    <tr>\n",
              "      <th>3</th>\n",
              "      <td>2012-08-28</td>\n",
              "      <td>-667.039926</td>\n",
              "      <td>-671.111784</td>\n",
              "      <td>1626.871872</td>\n",
              "      <td>-667.039926</td>\n",
              "      <td>-667.039926</td>\n",
              "      <td>1145.477035</td>\n",
              "      <td>1145.477035</td>\n",
              "      <td>1145.477035</td>\n",
              "      <td>608.350482</td>\n",
              "      <td>608.350482</td>\n",
              "      <td>608.350482</td>\n",
              "      <td>537.126553</td>\n",
              "      <td>537.126553</td>\n",
              "      <td>537.126553</td>\n",
              "      <td>0.0</td>\n",
              "      <td>0.0</td>\n",
              "      <td>0.0</td>\n",
              "      <td>478.437108</td>\n",
              "    </tr>\n",
              "    <tr>\n",
              "      <th>4</th>\n",
              "      <td>2012-08-29</td>\n",
              "      <td>-658.915539</td>\n",
              "      <td>-681.505343</td>\n",
              "      <td>1661.045213</td>\n",
              "      <td>-658.915539</td>\n",
              "      <td>-658.915539</td>\n",
              "      <td>1078.945696</td>\n",
              "      <td>1078.945696</td>\n",
              "      <td>1078.945696</td>\n",
              "      <td>556.887062</td>\n",
              "      <td>556.887062</td>\n",
              "      <td>556.887062</td>\n",
              "      <td>522.058634</td>\n",
              "      <td>522.058634</td>\n",
              "      <td>522.058634</td>\n",
              "      <td>0.0</td>\n",
              "      <td>0.0</td>\n",
              "      <td>0.0</td>\n",
              "      <td>420.030157</td>\n",
              "    </tr>\n",
              "  </tbody>\n",
              "</table>\n",
              "</div>"
            ],
            "text/plain": [
              "          ds       trend  ...  multiplicative_terms_upper         yhat\n",
              "0 2012-08-25 -691.413088  ...                         0.0 -1114.845232\n",
              "1 2012-08-26 -683.288701  ...                         0.0 -1264.715292\n",
              "2 2012-08-27 -675.164314  ...                         0.0   333.381336\n",
              "3 2012-08-28 -667.039926  ...                         0.0   478.437108\n",
              "4 2012-08-29 -658.915539  ...                         0.0   420.030157\n",
              "\n",
              "[5 rows x 19 columns]"
            ]
          },
          "metadata": {
            "tags": []
          },
          "execution_count": 65
        }
      ]
    },
    {
      "cell_type": "code",
      "metadata": {
        "colab": {
          "base_uri": "https://localhost:8080/",
          "height": 265
        },
        "id": "1qFL86xuF9Qi",
        "outputId": "b75db7f0-8b6c-4976-a203-1a6fc31df021"
      },
      "source": [
        "plt.plot(forecast['ds'], forecast['yhat'])\n",
        "plt.show()"
      ],
      "execution_count": 66,
      "outputs": [
        {
          "output_type": "display_data",
          "data": {
            "image/png": "[encoded data removed]",
            "text/plain": [
              "<Figure size 432x288 with 1 Axes>"
            ]
          },
          "metadata": {
            "tags": [],
            "needs_background": "light"
          }
        }
      ]
    }
  ]
}