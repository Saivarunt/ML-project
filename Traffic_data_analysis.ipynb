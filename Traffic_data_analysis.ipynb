{
  "nbformat": 4,
  "nbformat_minor": 0,
  "metadata": {
    "colab": {
      "name": "Traffic_data_analysis.ipynb",
      "provenance": [],
      "collapsed_sections": []
    },
    "kernelspec": {
      "name": "python3",
      "display_name": "Python 3"
    },
    "language_info": {
      "name": "python"
    }
  },
  "cells": [
    {
      "cell_type": "markdown",
      "metadata": {
        "id": "i68-eqJnvx46"
      },
      "source": [
        "TRAFIC FORECAST USING TIME SERIES ANALYSIS\n",
        "\n",
        "The dataset contains information about the date, time and an attribute count which denotes the number of vehicles passing through a given area at that particular time. The objective behind this project is to predict the trend in traffic in that particular area at any given time or date based on the 'count' of previous years.We also try to use various different functions and other algorithms to predict the trend in the dataset."
      ]
    },
    {
      "cell_type": "markdown",
      "metadata": {
        "id": "5o5TguG2ybpL"
      },
      "source": [
        "IMPORTING NECESSARY PACKAGES"
      ]
    },
    {
      "cell_type": "code",
      "metadata": {
        "id": "k3huai6Cvws5"
      },
      "source": [
        "import pandas as pd\n",
        "import numpy as np \n",
        "from sklearn.ensemble import RandomForestClassifier\n",
        "import matplotlib.pyplot as plt\n",
        "%matplotlib inline\n",
        "import warnings\n",
        "warnings.filterwarnings('ignore')\n",
        "from fbprophet import Prophet"
      ],
      "execution_count": 40,
      "outputs": []
    },
    {
      "cell_type": "markdown",
      "metadata": {
        "id": "lF9Oe2Koyz5p"
      },
      "source": [
        "LOADING DATASET"
      ]
    },
    {
      "cell_type": "code",
      "metadata": {
        "colab": {
          "base_uri": "https://localhost:8080/",
          "height": 204
        },
        "id": "yIJWE8H_yaCX",
        "outputId": "b761033a-55ba-4105-90e7-e331d9477d4d"
      },
      "source": [
        "df = pd.read_csv('Traffic data.csv')\n",
        "df.head()"
      ],
      "execution_count": 41,
      "outputs": [
        {
          "output_type": "execute_result",
          "data": {
            "text/html": [
              "<div>\n",
              "<style scoped>\n",
              "    .dataframe tbody tr th:only-of-type {\n",
              "        vertical-align: middle;\n",
              "    }\n",
              "\n",
              "    .dataframe tbody tr th {\n",
              "        vertical-align: top;\n",
              "    }\n",
              "\n",
              "    .dataframe thead th {\n",
              "        text-align: right;\n",
              "    }\n",
              "</style>\n",
              "<table border=\"1\" class=\"dataframe\">\n",
              "  <thead>\n",
              "    <tr style=\"text-align: right;\">\n",
              "      <th></th>\n",
              "      <th>ID</th>\n",
              "      <th>Datetime</th>\n",
              "      <th>Count</th>\n",
              "    </tr>\n",
              "  </thead>\n",
              "  <tbody>\n",
              "    <tr>\n",
              "      <th>0</th>\n",
              "      <td>0</td>\n",
              "      <td>25-08-2012 00:00</td>\n",
              "      <td>8</td>\n",
              "    </tr>\n",
              "    <tr>\n",
              "      <th>1</th>\n",
              "      <td>1</td>\n",
              "      <td>25-08-2012 01:00</td>\n",
              "      <td>2</td>\n",
              "    </tr>\n",
              "    <tr>\n",
              "      <th>2</th>\n",
              "      <td>2</td>\n",
              "      <td>25-08-2012 02:00</td>\n",
              "      <td>6</td>\n",
              "    </tr>\n",
              "    <tr>\n",
              "      <th>3</th>\n",
              "      <td>3</td>\n",
              "      <td>25-08-2012 03:00</td>\n",
              "      <td>2</td>\n",
              "    </tr>\n",
              "    <tr>\n",
              "      <th>4</th>\n",
              "      <td>4</td>\n",
              "      <td>25-08-2012 04:00</td>\n",
              "      <td>2</td>\n",
              "    </tr>\n",
              "  </tbody>\n",
              "</table>\n",
              "</div>"
            ],
            "text/plain": [
              "   ID          Datetime  Count\n",
              "0   0  25-08-2012 00:00      8\n",
              "1   1  25-08-2012 01:00      2\n",
              "2   2  25-08-2012 02:00      6\n",
              "3   3  25-08-2012 03:00      2\n",
              "4   4  25-08-2012 04:00      2"
            ]
          },
          "metadata": {
            "tags": []
          },
          "execution_count": 41
        }
      ]
    },
    {
      "cell_type": "code",
      "metadata": {
        "colab": {
          "base_uri": "https://localhost:8080/",
          "height": 419
        },
        "id": "4DKNUJRYzYlK",
        "outputId": "4faf6fe7-16d8-40b1-e490-5c88369108ec"
      },
      "source": [
        "df"
      ],
      "execution_count": 42,
      "outputs": [
        {
          "output_type": "execute_result",
          "data": {
            "text/html": [
              "<div>\n",
              "<style scoped>\n",
              "    .dataframe tbody tr th:only-of-type {\n",
              "        vertical-align: middle;\n",
              "    }\n",
              "\n",
              "    .dataframe tbody tr th {\n",
              "        vertical-align: top;\n",
              "    }\n",
              "\n",
              "    .dataframe thead th {\n",
              "        text-align: right;\n",
              "    }\n",
              "</style>\n",
              "<table border=\"1\" class=\"dataframe\">\n",
              "  <thead>\n",
              "    <tr style=\"text-align: right;\">\n",
              "      <th></th>\n",
              "      <th>ID</th>\n",
              "      <th>Datetime</th>\n",
              "      <th>Count</th>\n",
              "    </tr>\n",
              "  </thead>\n",
              "  <tbody>\n",
              "    <tr>\n",
              "      <th>0</th>\n",
              "      <td>0</td>\n",
              "      <td>25-08-2012 00:00</td>\n",
              "      <td>8</td>\n",
              "    </tr>\n",
              "    <tr>\n",
              "      <th>1</th>\n",
              "      <td>1</td>\n",
              "      <td>25-08-2012 01:00</td>\n",
              "      <td>2</td>\n",
              "    </tr>\n",
              "    <tr>\n",
              "      <th>2</th>\n",
              "      <td>2</td>\n",
              "      <td>25-08-2012 02:00</td>\n",
              "      <td>6</td>\n",
              "    </tr>\n",
              "    <tr>\n",
              "      <th>3</th>\n",
              "      <td>3</td>\n",
              "      <td>25-08-2012 03:00</td>\n",
              "      <td>2</td>\n",
              "    </tr>\n",
              "    <tr>\n",
              "      <th>4</th>\n",
              "      <td>4</td>\n",
              "      <td>25-08-2012 04:00</td>\n",
              "      <td>2</td>\n",
              "    </tr>\n",
              "    <tr>\n",
              "      <th>...</th>\n",
              "      <td>...</td>\n",
              "      <td>...</td>\n",
              "      <td>...</td>\n",
              "    </tr>\n",
              "    <tr>\n",
              "      <th>18283</th>\n",
              "      <td>18283</td>\n",
              "      <td>25-09-2014 19:00</td>\n",
              "      <td>868</td>\n",
              "    </tr>\n",
              "    <tr>\n",
              "      <th>18284</th>\n",
              "      <td>18284</td>\n",
              "      <td>25-09-2014 20:00</td>\n",
              "      <td>732</td>\n",
              "    </tr>\n",
              "    <tr>\n",
              "      <th>18285</th>\n",
              "      <td>18285</td>\n",
              "      <td>25-09-2014 21:00</td>\n",
              "      <td>702</td>\n",
              "    </tr>\n",
              "    <tr>\n",
              "      <th>18286</th>\n",
              "      <td>18286</td>\n",
              "      <td>25-09-2014 22:00</td>\n",
              "      <td>580</td>\n",
              "    </tr>\n",
              "    <tr>\n",
              "      <th>18287</th>\n",
              "      <td>18287</td>\n",
              "      <td>25-09-2014 23:00</td>\n",
              "      <td>534</td>\n",
              "    </tr>\n",
              "  </tbody>\n",
              "</table>\n",
              "<p>18288 rows × 3 columns</p>\n",
              "</div>"
            ],
            "text/plain": [
              "          ID          Datetime  Count\n",
              "0          0  25-08-2012 00:00      8\n",
              "1          1  25-08-2012 01:00      2\n",
              "2          2  25-08-2012 02:00      6\n",
              "3          3  25-08-2012 03:00      2\n",
              "4          4  25-08-2012 04:00      2\n",
              "...      ...               ...    ...\n",
              "18283  18283  25-09-2014 19:00    868\n",
              "18284  18284  25-09-2014 20:00    732\n",
              "18285  18285  25-09-2014 21:00    702\n",
              "18286  18286  25-09-2014 22:00    580\n",
              "18287  18287  25-09-2014 23:00    534\n",
              "\n",
              "[18288 rows x 3 columns]"
            ]
          },
          "metadata": {
            "tags": []
          },
          "execution_count": 42
        }
      ]
    },
    {
      "cell_type": "code",
      "metadata": {
        "colab": {
          "base_uri": "https://localhost:8080/"
        },
        "id": "JIEmfwI9zlTQ",
        "outputId": "6b0ee1fe-fcfb-4480-8c22-6fda1f10fdcb"
      },
      "source": [
        "np.shape(df)"
      ],
      "execution_count": 43,
      "outputs": [
        {
          "output_type": "execute_result",
          "data": {
            "text/plain": [
              "(18288, 3)"
            ]
          },
          "metadata": {
            "tags": []
          },
          "execution_count": 43
        }
      ]
    },
    {
      "cell_type": "markdown",
      "metadata": {
        "id": "UkvCMi391G8f"
      },
      "source": [
        "PREPROCESSING"
      ]
    },
    {
      "cell_type": "code",
      "metadata": {
        "colab": {
          "base_uri": "https://localhost:8080/",
          "height": 419
        },
        "id": "NGqFhIl_z0qr",
        "outputId": "9065ff92-3fac-42d3-e4d3-f325cf35cd81"
      },
      "source": [
        "df.dropna(how='any')"
      ],
      "execution_count": 44,
      "outputs": [
        {
          "output_type": "execute_result",
          "data": {
            "text/html": [
              "<div>\n",
              "<style scoped>\n",
              "    .dataframe tbody tr th:only-of-type {\n",
              "        vertical-align: middle;\n",
              "    }\n",
              "\n",
              "    .dataframe tbody tr th {\n",
              "        vertical-align: top;\n",
              "    }\n",
              "\n",
              "    .dataframe thead th {\n",
              "        text-align: right;\n",
              "    }\n",
              "</style>\n",
              "<table border=\"1\" class=\"dataframe\">\n",
              "  <thead>\n",
              "    <tr style=\"text-align: right;\">\n",
              "      <th></th>\n",
              "      <th>ID</th>\n",
              "      <th>Datetime</th>\n",
              "      <th>Count</th>\n",
              "    </tr>\n",
              "  </thead>\n",
              "  <tbody>\n",
              "    <tr>\n",
              "      <th>0</th>\n",
              "      <td>0</td>\n",
              "      <td>25-08-2012 00:00</td>\n",
              "      <td>8</td>\n",
              "    </tr>\n",
              "    <tr>\n",
              "      <th>1</th>\n",
              "      <td>1</td>\n",
              "      <td>25-08-2012 01:00</td>\n",
              "      <td>2</td>\n",
              "    </tr>\n",
              "    <tr>\n",
              "      <th>2</th>\n",
              "      <td>2</td>\n",
              "      <td>25-08-2012 02:00</td>\n",
              "      <td>6</td>\n",
              "    </tr>\n",
              "    <tr>\n",
              "      <th>3</th>\n",
              "      <td>3</td>\n",
              "      <td>25-08-2012 03:00</td>\n",
              "      <td>2</td>\n",
              "    </tr>\n",
              "    <tr>\n",
              "      <th>4</th>\n",
              "      <td>4</td>\n",
              "      <td>25-08-2012 04:00</td>\n",
              "      <td>2</td>\n",
              "    </tr>\n",
              "    <tr>\n",
              "      <th>...</th>\n",
              "      <td>...</td>\n",
              "      <td>...</td>\n",
              "      <td>...</td>\n",
              "    </tr>\n",
              "    <tr>\n",
              "      <th>18283</th>\n",
              "      <td>18283</td>\n",
              "      <td>25-09-2014 19:00</td>\n",
              "      <td>868</td>\n",
              "    </tr>\n",
              "    <tr>\n",
              "      <th>18284</th>\n",
              "      <td>18284</td>\n",
              "      <td>25-09-2014 20:00</td>\n",
              "      <td>732</td>\n",
              "    </tr>\n",
              "    <tr>\n",
              "      <th>18285</th>\n",
              "      <td>18285</td>\n",
              "      <td>25-09-2014 21:00</td>\n",
              "      <td>702</td>\n",
              "    </tr>\n",
              "    <tr>\n",
              "      <th>18286</th>\n",
              "      <td>18286</td>\n",
              "      <td>25-09-2014 22:00</td>\n",
              "      <td>580</td>\n",
              "    </tr>\n",
              "    <tr>\n",
              "      <th>18287</th>\n",
              "      <td>18287</td>\n",
              "      <td>25-09-2014 23:00</td>\n",
              "      <td>534</td>\n",
              "    </tr>\n",
              "  </tbody>\n",
              "</table>\n",
              "<p>18288 rows × 3 columns</p>\n",
              "</div>"
            ],
            "text/plain": [
              "          ID          Datetime  Count\n",
              "0          0  25-08-2012 00:00      8\n",
              "1          1  25-08-2012 01:00      2\n",
              "2          2  25-08-2012 02:00      6\n",
              "3          3  25-08-2012 03:00      2\n",
              "4          4  25-08-2012 04:00      2\n",
              "...      ...               ...    ...\n",
              "18283  18283  25-09-2014 19:00    868\n",
              "18284  18284  25-09-2014 20:00    732\n",
              "18285  18285  25-09-2014 21:00    702\n",
              "18286  18286  25-09-2014 22:00    580\n",
              "18287  18287  25-09-2014 23:00    534\n",
              "\n",
              "[18288 rows x 3 columns]"
            ]
          },
          "metadata": {
            "tags": []
          },
          "execution_count": 44
        }
      ]
    },
    {
      "cell_type": "code",
      "metadata": {
        "colab": {
          "base_uri": "https://localhost:8080/"
        },
        "id": "XbVFmYKW07XN",
        "outputId": "b3c9ae2c-c2b5-4b24-bb46-b0bd680ddedc"
      },
      "source": [
        "df.info()"
      ],
      "execution_count": 45,
      "outputs": [
        {
          "output_type": "stream",
          "text": [
            "<class 'pandas.core.frame.DataFrame'>\n",
            "RangeIndex: 18288 entries, 0 to 18287\n",
            "Data columns (total 3 columns):\n",
            " #   Column    Non-Null Count  Dtype \n",
            "---  ------    --------------  ----- \n",
            " 0   ID        18288 non-null  int64 \n",
            " 1   Datetime  18288 non-null  object\n",
            " 2   Count     18288 non-null  int64 \n",
            "dtypes: int64(2), object(1)\n",
            "memory usage: 428.8+ KB\n"
          ],
          "name": "stdout"
        }
      ]
    },
    {
      "cell_type": "code",
      "metadata": {
        "colab": {
          "base_uri": "https://localhost:8080/"
        },
        "id": "EccAYB4WP6VZ",
        "outputId": "2a9588e2-8322-4748-904d-2ac49274767d"
      },
      "source": [
        "np.max(df['Count'])"
      ],
      "execution_count": 46,
      "outputs": [
        {
          "output_type": "execute_result",
          "data": {
            "text/plain": [
              "1244"
            ]
          },
          "metadata": {
            "tags": []
          },
          "execution_count": 46
        }
      ]
    },
    {
      "cell_type": "code",
      "metadata": {
        "colab": {
          "base_uri": "https://localhost:8080/"
        },
        "id": "itdD2Me4QJR_",
        "outputId": "09150d2c-0eac-4fc4-b5db-6225a1e2bfca"
      },
      "source": [
        "np.min(df['Count'])"
      ],
      "execution_count": 47,
      "outputs": [
        {
          "output_type": "execute_result",
          "data": {
            "text/plain": [
              "2"
            ]
          },
          "metadata": {
            "tags": []
          },
          "execution_count": 47
        }
      ]
    },
    {
      "cell_type": "code",
      "metadata": {
        "colab": {
          "base_uri": "https://localhost:8080/"
        },
        "id": "39XvHNwPQVvl",
        "outputId": "187b850e-cc39-4598-f0a2-2768b0895c52"
      },
      "source": [
        "x=df['Count']\n",
        "x.values"
      ],
      "execution_count": 48,
      "outputs": [
        {
          "output_type": "execute_result",
          "data": {
            "text/plain": [
              "array([  8,   2,   6, ..., 702, 580, 534])"
            ]
          },
          "metadata": {
            "tags": []
          },
          "execution_count": 48
        }
      ]
    },
    {
      "cell_type": "code",
      "metadata": {
        "colab": {
          "base_uri": "https://localhost:8080/"
        },
        "id": "6U2lKVxbR7sO",
        "outputId": "c216fb85-ea8b-4d87-e4c3-251443205b47"
      },
      "source": [
        "x.dtype"
      ],
      "execution_count": 49,
      "outputs": [
        {
          "output_type": "execute_result",
          "data": {
            "text/plain": [
              "dtype('int64')"
            ]
          },
          "metadata": {
            "tags": []
          },
          "execution_count": 49
        }
      ]
    },
    {
      "cell_type": "code",
      "metadata": {
        "colab": {
          "base_uri": "https://localhost:8080/"
        },
        "id": "87aXbyFMbe4i",
        "outputId": "5f5c18e9-bbaa-49ea-bb53-acc53fac2b26"
      },
      "source": [
        "x.shape"
      ],
      "execution_count": 50,
      "outputs": [
        {
          "output_type": "execute_result",
          "data": {
            "text/plain": [
              "(18288,)"
            ]
          },
          "metadata": {
            "tags": []
          },
          "execution_count": 50
        }
      ]
    },
    {
      "cell_type": "code",
      "metadata": {
        "id": "nYlw9EMUX49f"
      },
      "source": [
        "m=x.mean()"
      ],
      "execution_count": 51,
      "outputs": []
    },
    {
      "cell_type": "code",
      "metadata": {
        "colab": {
          "base_uri": "https://localhost:8080/"
        },
        "id": "45ZnZtR3TDmz",
        "outputId": "bb32bea4-d6d6-4d6d-e08c-d687cf2d74f9"
      },
      "source": [
        "high=np.empty(x.shape)\n",
        "c=0\n",
        "for i in x:\n",
        "  if i>m:\n",
        "    high[c]=1\n",
        "  else:\n",
        "    high[c]=0\n",
        "  c=c+1\n",
        "high"
      ],
      "execution_count": 52,
      "outputs": [
        {
          "output_type": "execute_result",
          "data": {
            "text/plain": [
              "array([0., 0., 0., ..., 1., 1., 1.])"
            ]
          },
          "metadata": {
            "tags": []
          },
          "execution_count": 52
        }
      ]
    },
    {
      "cell_type": "code",
      "metadata": {
        "colab": {
          "base_uri": "https://localhost:8080/"
        },
        "id": "xkEyXsibcZRc",
        "outputId": "92fdb17d-fda1-4d9b-c272-48276d3caed1"
      },
      "source": [
        "h=pd.Series(high,name=\"Traffic\")\n",
        "h"
      ],
      "execution_count": 62,
      "outputs": [
        {
          "output_type": "execute_result",
          "data": {
            "text/plain": [
              "0        0.0\n",
              "1        0.0\n",
              "2        0.0\n",
              "3        0.0\n",
              "4        0.0\n",
              "        ... \n",
              "18283    1.0\n",
              "18284    1.0\n",
              "18285    1.0\n",
              "18286    1.0\n",
              "18287    1.0\n",
              "Name: Traffic, Length: 18288, dtype: float64"
            ]
          },
          "metadata": {
            "tags": []
          },
          "execution_count": 62
        }
      ]
    },
    {
      "cell_type": "code",
      "metadata": {
        "id": "AaECY9gydEsj"
      },
      "source": [
        "data=pd.merge(df,h,left_on=\"ID\",right_index=True)"
      ],
      "execution_count": 67,
      "outputs": []
    },
    {
      "cell_type": "code",
      "metadata": {
        "colab": {
          "base_uri": "https://localhost:8080/",
          "height": 419
        },
        "id": "hPisXVDuYZXA",
        "outputId": "cf100c6d-b75a-49d4-fb62-05d0613c5caa"
      },
      "source": [
        "data"
      ],
      "execution_count": 68,
      "outputs": [
        {
          "output_type": "execute_result",
          "data": {
            "text/html": [
              "<div>\n",
              "<style scoped>\n",
              "    .dataframe tbody tr th:only-of-type {\n",
              "        vertical-align: middle;\n",
              "    }\n",
              "\n",
              "    .dataframe tbody tr th {\n",
              "        vertical-align: top;\n",
              "    }\n",
              "\n",
              "    .dataframe thead th {\n",
              "        text-align: right;\n",
              "    }\n",
              "</style>\n",
              "<table border=\"1\" class=\"dataframe\">\n",
              "  <thead>\n",
              "    <tr style=\"text-align: right;\">\n",
              "      <th></th>\n",
              "      <th>ID</th>\n",
              "      <th>Datetime</th>\n",
              "      <th>Count</th>\n",
              "      <th>Traffic</th>\n",
              "    </tr>\n",
              "  </thead>\n",
              "  <tbody>\n",
              "    <tr>\n",
              "      <th>0</th>\n",
              "      <td>0</td>\n",
              "      <td>25-08-2012 00:00</td>\n",
              "      <td>8</td>\n",
              "      <td>0.0</td>\n",
              "    </tr>\n",
              "    <tr>\n",
              "      <th>1</th>\n",
              "      <td>1</td>\n",
              "      <td>25-08-2012 01:00</td>\n",
              "      <td>2</td>\n",
              "      <td>0.0</td>\n",
              "    </tr>\n",
              "    <tr>\n",
              "      <th>2</th>\n",
              "      <td>2</td>\n",
              "      <td>25-08-2012 02:00</td>\n",
              "      <td>6</td>\n",
              "      <td>0.0</td>\n",
              "    </tr>\n",
              "    <tr>\n",
              "      <th>3</th>\n",
              "      <td>3</td>\n",
              "      <td>25-08-2012 03:00</td>\n",
              "      <td>2</td>\n",
              "      <td>0.0</td>\n",
              "    </tr>\n",
              "    <tr>\n",
              "      <th>4</th>\n",
              "      <td>4</td>\n",
              "      <td>25-08-2012 04:00</td>\n",
              "      <td>2</td>\n",
              "      <td>0.0</td>\n",
              "    </tr>\n",
              "    <tr>\n",
              "      <th>...</th>\n",
              "      <td>...</td>\n",
              "      <td>...</td>\n",
              "      <td>...</td>\n",
              "      <td>...</td>\n",
              "    </tr>\n",
              "    <tr>\n",
              "      <th>18283</th>\n",
              "      <td>18283</td>\n",
              "      <td>25-09-2014 19:00</td>\n",
              "      <td>868</td>\n",
              "      <td>1.0</td>\n",
              "    </tr>\n",
              "    <tr>\n",
              "      <th>18284</th>\n",
              "      <td>18284</td>\n",
              "      <td>25-09-2014 20:00</td>\n",
              "      <td>732</td>\n",
              "      <td>1.0</td>\n",
              "    </tr>\n",
              "    <tr>\n",
              "      <th>18285</th>\n",
              "      <td>18285</td>\n",
              "      <td>25-09-2014 21:00</td>\n",
              "      <td>702</td>\n",
              "      <td>1.0</td>\n",
              "    </tr>\n",
              "    <tr>\n",
              "      <th>18286</th>\n",
              "      <td>18286</td>\n",
              "      <td>25-09-2014 22:00</td>\n",
              "      <td>580</td>\n",
              "      <td>1.0</td>\n",
              "    </tr>\n",
              "    <tr>\n",
              "      <th>18287</th>\n",
              "      <td>18287</td>\n",
              "      <td>25-09-2014 23:00</td>\n",
              "      <td>534</td>\n",
              "      <td>1.0</td>\n",
              "    </tr>\n",
              "  </tbody>\n",
              "</table>\n",
              "<p>18288 rows × 4 columns</p>\n",
              "</div>"
            ],
            "text/plain": [
              "          ID          Datetime  Count  Traffic\n",
              "0          0  25-08-2012 00:00      8      0.0\n",
              "1          1  25-08-2012 01:00      2      0.0\n",
              "2          2  25-08-2012 02:00      6      0.0\n",
              "3          3  25-08-2012 03:00      2      0.0\n",
              "4          4  25-08-2012 04:00      2      0.0\n",
              "...      ...               ...    ...      ...\n",
              "18283  18283  25-09-2014 19:00    868      1.0\n",
              "18284  18284  25-09-2014 20:00    732      1.0\n",
              "18285  18285  25-09-2014 21:00    702      1.0\n",
              "18286  18286  25-09-2014 22:00    580      1.0\n",
              "18287  18287  25-09-2014 23:00    534      1.0\n",
              "\n",
              "[18288 rows x 4 columns]"
            ]
          },
          "metadata": {
            "tags": []
          },
          "execution_count": 68
        }
      ]
    },
    {
      "cell_type": "code",
      "metadata": {
        "colab": {
          "base_uri": "https://localhost:8080/"
        },
        "id": "r1Vb1vrp1nAO",
        "outputId": "a10f25ad-0213-4d3b-c7ae-9128166a8ad2"
      },
      "source": [
        "data['Datetime'] = pd.to_datetime(data['Datetime'], format='%d-%m-%Y %H:%M')\n",
        "df.info()"
      ],
      "execution_count": 69,
      "outputs": [
        {
          "output_type": "stream",
          "text": [
            "<class 'pandas.core.frame.DataFrame'>\n",
            "RangeIndex: 18288 entries, 0 to 18287\n",
            "Data columns (total 3 columns):\n",
            " #   Column    Non-Null Count  Dtype \n",
            "---  ------    --------------  ----- \n",
            " 0   ID        18288 non-null  int64 \n",
            " 1   Datetime  18288 non-null  object\n",
            " 2   Count     18288 non-null  int64 \n",
            "dtypes: int64(2), object(1)\n",
            "memory usage: 428.8+ KB\n"
          ],
          "name": "stdout"
        }
      ]
    },
    {
      "cell_type": "code",
      "metadata": {
        "colab": {
          "base_uri": "https://localhost:8080/",
          "height": 235
        },
        "id": "y2lT9lnF8wSb",
        "outputId": "617dd1cb-dfb4-4389-8267-552a9fca8e39"
      },
      "source": [
        "data.index=data['Datetime']\n",
        "data['y'] = data['Count']\n",
        "data.drop(columns=['ID', 'Datetime', 'Count'], axis=1, inplace=True)\n",
        "data = data.resample('D').sum()\n",
        "data.head()"
      ],
      "execution_count": 70,
      "outputs": [
        {
          "output_type": "execute_result",
          "data": {
            "text/html": [
              "<div>\n",
              "<style scoped>\n",
              "    .dataframe tbody tr th:only-of-type {\n",
              "        vertical-align: middle;\n",
              "    }\n",
              "\n",
              "    .dataframe tbody tr th {\n",
              "        vertical-align: top;\n",
              "    }\n",
              "\n",
              "    .dataframe thead th {\n",
              "        text-align: right;\n",
              "    }\n",
              "</style>\n",
              "<table border=\"1\" class=\"dataframe\">\n",
              "  <thead>\n",
              "    <tr style=\"text-align: right;\">\n",
              "      <th></th>\n",
              "      <th>Traffic</th>\n",
              "      <th>y</th>\n",
              "    </tr>\n",
              "    <tr>\n",
              "      <th>Datetime</th>\n",
              "      <th></th>\n",
              "      <th></th>\n",
              "    </tr>\n",
              "  </thead>\n",
              "  <tbody>\n",
              "    <tr>\n",
              "      <th>2012-08-25</th>\n",
              "      <td>0.0</td>\n",
              "      <td>76</td>\n",
              "    </tr>\n",
              "    <tr>\n",
              "      <th>2012-08-26</th>\n",
              "      <td>0.0</td>\n",
              "      <td>88</td>\n",
              "    </tr>\n",
              "    <tr>\n",
              "      <th>2012-08-27</th>\n",
              "      <td>0.0</td>\n",
              "      <td>62</td>\n",
              "    </tr>\n",
              "    <tr>\n",
              "      <th>2012-08-28</th>\n",
              "      <td>0.0</td>\n",
              "      <td>58</td>\n",
              "    </tr>\n",
              "    <tr>\n",
              "      <th>2012-08-29</th>\n",
              "      <td>0.0</td>\n",
              "      <td>60</td>\n",
              "    </tr>\n",
              "  </tbody>\n",
              "</table>\n",
              "</div>"
            ],
            "text/plain": [
              "            Traffic   y\n",
              "Datetime               \n",
              "2012-08-25      0.0  76\n",
              "2012-08-26      0.0  88\n",
              "2012-08-27      0.0  62\n",
              "2012-08-28      0.0  58\n",
              "2012-08-29      0.0  60"
            ]
          },
          "metadata": {
            "tags": []
          },
          "execution_count": 70
        }
      ]
    },
    {
      "cell_type": "code",
      "metadata": {
        "id": "KyjijrPpqkAh"
      },
      "source": [
        "train, test=data[data[\"Traffic\"]==1], data[data[\"Traffic\"]==0]"
      ],
      "execution_count": 105,
      "outputs": []
    },
    {
      "cell_type": "code",
      "metadata": {
        "colab": {
          "base_uri": "https://localhost:8080/"
        },
        "id": "2oFLK2TFq5KU",
        "outputId": "b2924f59-e123-4a60-d236-61342a4191aa"
      },
      "source": [
        "len(train)"
      ],
      "execution_count": 106,
      "outputs": [
        {
          "output_type": "execute_result",
          "data": {
            "text/plain": [
              "18"
            ]
          },
          "metadata": {
            "tags": []
          },
          "execution_count": 106
        }
      ]
    },
    {
      "cell_type": "code",
      "metadata": {
        "colab": {
          "base_uri": "https://localhost:8080/"
        },
        "id": "pFFtvwj7q-z4",
        "outputId": "5fcad666-4067-4ca7-d98d-214de312402e"
      },
      "source": [
        "len(test)"
      ],
      "execution_count": 107,
      "outputs": [
        {
          "output_type": "execute_result",
          "data": {
            "text/plain": [
              "345"
            ]
          },
          "metadata": {
            "tags": []
          },
          "execution_count": 107
        }
      ]
    },
    {
      "cell_type": "code",
      "metadata": {
        "id": "YAdovHO3rml4"
      },
      "source": [
        "features=data.columns[:2]"
      ],
      "execution_count": 108,
      "outputs": []
    },
    {
      "cell_type": "code",
      "metadata": {
        "id": "8dnjC5FHrKJj"
      },
      "source": [
        "y=pd.factorize(train['Traffic'])[0]"
      ],
      "execution_count": 109,
      "outputs": []
    },
    {
      "cell_type": "code",
      "metadata": {
        "colab": {
          "base_uri": "https://localhost:8080/"
        },
        "id": "WAJgQc8IrdFp",
        "outputId": "cbd9e08e-0c7e-4f97-db9e-c0927bf696eb"
      },
      "source": [
        "y"
      ],
      "execution_count": 110,
      "outputs": [
        {
          "output_type": "execute_result",
          "data": {
            "text/plain": [
              "array([0, 0, 0, 0, 0, 0, 0, 0, 0, 0, 0, 0, 0, 0, 0, 0, 0, 0])"
            ]
          },
          "metadata": {
            "tags": []
          },
          "execution_count": 110
        }
      ]
    },
    {
      "cell_type": "code",
      "metadata": {
        "id": "zXVxfnISreu9"
      },
      "source": [
        "clf=RandomForestClassifier(n_jobs=2,random_state=0)"
      ],
      "execution_count": 111,
      "outputs": []
    },
    {
      "cell_type": "code",
      "metadata": {
        "colab": {
          "base_uri": "https://localhost:8080/"
        },
        "id": "hpCZgddyrk2c",
        "outputId": "8addb911-1901-454d-f37a-03f792e46b37"
      },
      "source": [
        "clf.fit(train[features],y)"
      ],
      "execution_count": 112,
      "outputs": [
        {
          "output_type": "execute_result",
          "data": {
            "text/plain": [
              "RandomForestClassifier(bootstrap=True, ccp_alpha=0.0, class_weight=None,\n",
              "                       criterion='gini', max_depth=None, max_features='auto',\n",
              "                       max_leaf_nodes=None, max_samples=None,\n",
              "                       min_impurity_decrease=0.0, min_impurity_split=None,\n",
              "                       min_samples_leaf=1, min_samples_split=2,\n",
              "                       min_weight_fraction_leaf=0.0, n_estimators=100, n_jobs=2,\n",
              "                       oob_score=False, random_state=0, verbose=0,\n",
              "                       warm_start=False)"
            ]
          },
          "metadata": {
            "tags": []
          },
          "execution_count": 112
        }
      ]
    },
    {
      "cell_type": "code",
      "metadata": {
        "colab": {
          "base_uri": "https://localhost:8080/"
        },
        "id": "i7VvXmrtsDGV",
        "outputId": "e8113282-fa6a-49d7-803d-0c4da3397208"
      },
      "source": [
        "clf.predict(test[features])"
      ],
      "execution_count": 113,
      "outputs": [
        {
          "output_type": "execute_result",
          "data": {
            "text/plain": [
              "array([0, 0, 0, 0, 0, 0, 0, 0, 0, 0, 0, 0, 0, 0, 0, 0, 0, 0, 0, 0, 0, 0,\n",
              "       0, 0, 0, 0, 0, 0, 0, 0, 0, 0, 0, 0, 0, 0, 0, 0, 0, 0, 0, 0, 0, 0,\n",
              "       0, 0, 0, 0, 0, 0, 0, 0, 0, 0, 0, 0, 0, 0, 0, 0, 0, 0, 0, 0, 0, 0,\n",
              "       0, 0, 0, 0, 0, 0, 0, 0, 0, 0, 0, 0, 0, 0, 0, 0, 0, 0, 0, 0, 0, 0,\n",
              "       0, 0, 0, 0, 0, 0, 0, 0, 0, 0, 0, 0, 0, 0, 0, 0, 0, 0, 0, 0, 0, 0,\n",
              "       0, 0, 0, 0, 0, 0, 0, 0, 0, 0, 0, 0, 0, 0, 0, 0, 0, 0, 0, 0, 0, 0,\n",
              "       0, 0, 0, 0, 0, 0, 0, 0, 0, 0, 0, 0, 0, 0, 0, 0, 0, 0, 0, 0, 0, 0,\n",
              "       0, 0, 0, 0, 0, 0, 0, 0, 0, 0, 0, 0, 0, 0, 0, 0, 0, 0, 0, 0, 0, 0,\n",
              "       0, 0, 0, 0, 0, 0, 0, 0, 0, 0, 0, 0, 0, 0, 0, 0, 0, 0, 0, 0, 0, 0,\n",
              "       0, 0, 0, 0, 0, 0, 0, 0, 0, 0, 0, 0, 0, 0, 0, 0, 0, 0, 0, 0, 0, 0,\n",
              "       0, 0, 0, 0, 0, 0, 0, 0, 0, 0, 0, 0, 0, 0, 0, 0, 0, 0, 0, 0, 0, 0,\n",
              "       0, 0, 0, 0, 0, 0, 0, 0, 0, 0, 0, 0, 0, 0, 0, 0, 0, 0, 0, 0, 0, 0,\n",
              "       0, 0, 0, 0, 0, 0, 0, 0, 0, 0, 0, 0, 0, 0, 0, 0, 0, 0, 0, 0, 0, 0,\n",
              "       0, 0, 0, 0, 0, 0, 0, 0, 0, 0, 0, 0, 0, 0, 0, 0, 0, 0, 0, 0, 0, 0,\n",
              "       0, 0, 0, 0, 0, 0, 0, 0, 0, 0, 0, 0, 0, 0, 0, 0, 0, 0, 0, 0, 0, 0,\n",
              "       0, 0, 0, 0, 0, 0, 0, 0, 0, 0, 0, 0, 0, 0, 0])"
            ]
          },
          "metadata": {
            "tags": []
          },
          "execution_count": 113
        }
      ]
    },
    {
      "cell_type": "code",
      "metadata": {
        "colab": {
          "base_uri": "https://localhost:8080/",
          "height": 235
        },
        "id": "o7huPJ_8-lze",
        "outputId": "5dcbeb4e-fe58-4b81-a728-5bb2ddf7ea06"
      },
      "source": [
        "data['ds'] = data.index\n",
        "data.head()"
      ],
      "execution_count": 114,
      "outputs": [
        {
          "output_type": "execute_result",
          "data": {
            "text/html": [
              "<div>\n",
              "<style scoped>\n",
              "    .dataframe tbody tr th:only-of-type {\n",
              "        vertical-align: middle;\n",
              "    }\n",
              "\n",
              "    .dataframe tbody tr th {\n",
              "        vertical-align: top;\n",
              "    }\n",
              "\n",
              "    .dataframe thead th {\n",
              "        text-align: right;\n",
              "    }\n",
              "</style>\n",
              "<table border=\"1\" class=\"dataframe\">\n",
              "  <thead>\n",
              "    <tr style=\"text-align: right;\">\n",
              "      <th></th>\n",
              "      <th>Traffic</th>\n",
              "      <th>y</th>\n",
              "      <th>ds</th>\n",
              "    </tr>\n",
              "    <tr>\n",
              "      <th>Datetime</th>\n",
              "      <th></th>\n",
              "      <th></th>\n",
              "      <th></th>\n",
              "    </tr>\n",
              "  </thead>\n",
              "  <tbody>\n",
              "    <tr>\n",
              "      <th>2012-08-25</th>\n",
              "      <td>0.0</td>\n",
              "      <td>76</td>\n",
              "      <td>2012-08-25</td>\n",
              "    </tr>\n",
              "    <tr>\n",
              "      <th>2012-08-26</th>\n",
              "      <td>0.0</td>\n",
              "      <td>88</td>\n",
              "      <td>2012-08-26</td>\n",
              "    </tr>\n",
              "    <tr>\n",
              "      <th>2012-08-27</th>\n",
              "      <td>0.0</td>\n",
              "      <td>62</td>\n",
              "      <td>2012-08-27</td>\n",
              "    </tr>\n",
              "    <tr>\n",
              "      <th>2012-08-28</th>\n",
              "      <td>0.0</td>\n",
              "      <td>58</td>\n",
              "      <td>2012-08-28</td>\n",
              "    </tr>\n",
              "    <tr>\n",
              "      <th>2012-08-29</th>\n",
              "      <td>0.0</td>\n",
              "      <td>60</td>\n",
              "      <td>2012-08-29</td>\n",
              "    </tr>\n",
              "  </tbody>\n",
              "</table>\n",
              "</div>"
            ],
            "text/plain": [
              "            Traffic   y         ds\n",
              "Datetime                          \n",
              "2012-08-25      0.0  76 2012-08-25\n",
              "2012-08-26      0.0  88 2012-08-26\n",
              "2012-08-27      0.0  62 2012-08-27\n",
              "2012-08-28      0.0  58 2012-08-28\n",
              "2012-08-29      0.0  60 2012-08-29"
            ]
          },
          "metadata": {
            "tags": []
          },
          "execution_count": 114
        }
      ]
    },
    {
      "cell_type": "markdown",
      "metadata": {
        "id": "zwv6iFoNAkSc"
      },
      "source": [
        "VISUALIZING TREND BETWEEN DT AND VC"
      ]
    },
    {
      "cell_type": "code",
      "metadata": {
        "colab": {
          "base_uri": "https://localhost:8080/",
          "height": 428
        },
        "id": "kmimIGVF_D3_",
        "outputId": "2360013e-7bac-40ad-8e20-803e880198b4"
      },
      "source": [
        "plt.figure(figsize=(10,7))\n",
        "plt.plot(data['ds'], data['y'])\n",
        "plt.show()"
      ],
      "execution_count": 115,
      "outputs": [
        {
          "output_type": "display_data",
          "data": {
            "image/png": "[encoded data removed]",
            "text/plain": [
              "<Figure size 720x504 with 1 Axes>"
            ]
          },
          "metadata": {
            "tags": [],
            "needs_background": "light"
          }
        }
      ]
    },
    {
      "cell_type": "code",
      "metadata": {
        "colab": {
          "base_uri": "https://localhost:8080/",
          "height": 235
        },
        "id": "CIHwiTHoBAKz",
        "outputId": "1794a35b-2551-4b84-d62a-b995ac0ee142"
      },
      "source": [
        "size = 100\n",
        "from sklearn.model_selection import train_test_split\n",
        "train, test = train_test_split(data, test_size=size/len(data), shuffle=False)\n",
        "train.head()"
      ],
      "execution_count": 116,
      "outputs": [
        {
          "output_type": "execute_result",
          "data": {
            "text/html": [
              "<div>\n",
              "<style scoped>\n",
              "    .dataframe tbody tr th:only-of-type {\n",
              "        vertical-align: middle;\n",
              "    }\n",
              "\n",
              "    .dataframe tbody tr th {\n",
              "        vertical-align: top;\n",
              "    }\n",
              "\n",
              "    .dataframe thead th {\n",
              "        text-align: right;\n",
              "    }\n",
              "</style>\n",
              "<table border=\"1\" class=\"dataframe\">\n",
              "  <thead>\n",
              "    <tr style=\"text-align: right;\">\n",
              "      <th></th>\n",
              "      <th>Traffic</th>\n",
              "      <th>y</th>\n",
              "      <th>ds</th>\n",
              "    </tr>\n",
              "    <tr>\n",
              "      <th>Datetime</th>\n",
              "      <th></th>\n",
              "      <th></th>\n",
              "      <th></th>\n",
              "    </tr>\n",
              "  </thead>\n",
              "  <tbody>\n",
              "    <tr>\n",
              "      <th>2012-08-25</th>\n",
              "      <td>0.0</td>\n",
              "      <td>76</td>\n",
              "      <td>2012-08-25</td>\n",
              "    </tr>\n",
              "    <tr>\n",
              "      <th>2012-08-26</th>\n",
              "      <td>0.0</td>\n",
              "      <td>88</td>\n",
              "      <td>2012-08-26</td>\n",
              "    </tr>\n",
              "    <tr>\n",
              "      <th>2012-08-27</th>\n",
              "      <td>0.0</td>\n",
              "      <td>62</td>\n",
              "      <td>2012-08-27</td>\n",
              "    </tr>\n",
              "    <tr>\n",
              "      <th>2012-08-28</th>\n",
              "      <td>0.0</td>\n",
              "      <td>58</td>\n",
              "      <td>2012-08-28</td>\n",
              "    </tr>\n",
              "    <tr>\n",
              "      <th>2012-08-29</th>\n",
              "      <td>0.0</td>\n",
              "      <td>60</td>\n",
              "      <td>2012-08-29</td>\n",
              "    </tr>\n",
              "  </tbody>\n",
              "</table>\n",
              "</div>"
            ],
            "text/plain": [
              "            Traffic   y         ds\n",
              "Datetime                          \n",
              "2012-08-25      0.0  76 2012-08-25\n",
              "2012-08-26      0.0  88 2012-08-26\n",
              "2012-08-27      0.0  62 2012-08-27\n",
              "2012-08-28      0.0  58 2012-08-28\n",
              "2012-08-29      0.0  60 2012-08-29"
            ]
          },
          "metadata": {
            "tags": []
          },
          "execution_count": 116
        }
      ]
    },
    {
      "cell_type": "code",
      "metadata": {
        "colab": {
          "base_uri": "https://localhost:8080/",
          "height": 235
        },
        "id": "CyF5DF0JBdeJ",
        "outputId": "a186f4d4-75e9-4463-8eec-822a3db50f94"
      },
      "source": [
        "test.head()"
      ],
      "execution_count": 117,
      "outputs": [
        {
          "output_type": "execute_result",
          "data": {
            "text/html": [
              "<div>\n",
              "<style scoped>\n",
              "    .dataframe tbody tr th:only-of-type {\n",
              "        vertical-align: middle;\n",
              "    }\n",
              "\n",
              "    .dataframe tbody tr th {\n",
              "        vertical-align: top;\n",
              "    }\n",
              "\n",
              "    .dataframe thead th {\n",
              "        text-align: right;\n",
              "    }\n",
              "</style>\n",
              "<table border=\"1\" class=\"dataframe\">\n",
              "  <thead>\n",
              "    <tr style=\"text-align: right;\">\n",
              "      <th></th>\n",
              "      <th>Traffic</th>\n",
              "      <th>y</th>\n",
              "      <th>ds</th>\n",
              "    </tr>\n",
              "    <tr>\n",
              "      <th>Datetime</th>\n",
              "      <th></th>\n",
              "      <th></th>\n",
              "      <th></th>\n",
              "    </tr>\n",
              "  </thead>\n",
              "  <tbody>\n",
              "    <tr>\n",
              "      <th>2014-06-18</th>\n",
              "      <td>24.0</td>\n",
              "      <td>8300</td>\n",
              "      <td>2014-06-18</td>\n",
              "    </tr>\n",
              "    <tr>\n",
              "      <th>2014-06-19</th>\n",
              "      <td>23.0</td>\n",
              "      <td>6802</td>\n",
              "      <td>2014-06-19</td>\n",
              "    </tr>\n",
              "    <tr>\n",
              "      <th>2014-06-20</th>\n",
              "      <td>24.0</td>\n",
              "      <td>9118</td>\n",
              "      <td>2014-06-20</td>\n",
              "    </tr>\n",
              "    <tr>\n",
              "      <th>2014-06-21</th>\n",
              "      <td>21.0</td>\n",
              "      <td>5282</td>\n",
              "      <td>2014-06-21</td>\n",
              "    </tr>\n",
              "    <tr>\n",
              "      <th>2014-06-22</th>\n",
              "      <td>19.0</td>\n",
              "      <td>5540</td>\n",
              "      <td>2014-06-22</td>\n",
              "    </tr>\n",
              "  </tbody>\n",
              "</table>\n",
              "</div>"
            ],
            "text/plain": [
              "            Traffic     y         ds\n",
              "Datetime                            \n",
              "2014-06-18     24.0  8300 2014-06-18\n",
              "2014-06-19     23.0  6802 2014-06-19\n",
              "2014-06-20     24.0  9118 2014-06-20\n",
              "2014-06-21     21.0  5282 2014-06-21\n",
              "2014-06-22     19.0  5540 2014-06-22"
            ]
          },
          "metadata": {
            "tags": []
          },
          "execution_count": 117
        }
      ]
    },
    {
      "cell_type": "code",
      "metadata": {
        "colab": {
          "base_uri": "https://localhost:8080/",
          "height": 235
        },
        "id": "evPDK-S7BmvS",
        "outputId": "16ad3c9a-2112-4494-cba0-6a5620131d9a"
      },
      "source": [
        "test.tail()"
      ],
      "execution_count": 118,
      "outputs": [
        {
          "output_type": "execute_result",
          "data": {
            "text/html": [
              "<div>\n",
              "<style scoped>\n",
              "    .dataframe tbody tr th:only-of-type {\n",
              "        vertical-align: middle;\n",
              "    }\n",
              "\n",
              "    .dataframe tbody tr th {\n",
              "        vertical-align: top;\n",
              "    }\n",
              "\n",
              "    .dataframe thead th {\n",
              "        text-align: right;\n",
              "    }\n",
              "</style>\n",
              "<table border=\"1\" class=\"dataframe\">\n",
              "  <thead>\n",
              "    <tr style=\"text-align: right;\">\n",
              "      <th></th>\n",
              "      <th>Traffic</th>\n",
              "      <th>y</th>\n",
              "      <th>ds</th>\n",
              "    </tr>\n",
              "    <tr>\n",
              "      <th>Datetime</th>\n",
              "      <th></th>\n",
              "      <th></th>\n",
              "      <th></th>\n",
              "    </tr>\n",
              "  </thead>\n",
              "  <tbody>\n",
              "    <tr>\n",
              "      <th>2014-09-21</th>\n",
              "      <td>22.0</td>\n",
              "      <td>9102</td>\n",
              "      <td>2014-09-21</td>\n",
              "    </tr>\n",
              "    <tr>\n",
              "      <th>2014-09-22</th>\n",
              "      <td>24.0</td>\n",
              "      <td>14116</td>\n",
              "      <td>2014-09-22</td>\n",
              "    </tr>\n",
              "    <tr>\n",
              "      <th>2014-09-23</th>\n",
              "      <td>24.0</td>\n",
              "      <td>13304</td>\n",
              "      <td>2014-09-23</td>\n",
              "    </tr>\n",
              "    <tr>\n",
              "      <th>2014-09-24</th>\n",
              "      <td>24.0</td>\n",
              "      <td>16856</td>\n",
              "      <td>2014-09-24</td>\n",
              "    </tr>\n",
              "    <tr>\n",
              "      <th>2014-09-25</th>\n",
              "      <td>24.0</td>\n",
              "      <td>14152</td>\n",
              "      <td>2014-09-25</td>\n",
              "    </tr>\n",
              "  </tbody>\n",
              "</table>\n",
              "</div>"
            ],
            "text/plain": [
              "            Traffic      y         ds\n",
              "Datetime                             \n",
              "2014-09-21     22.0   9102 2014-09-21\n",
              "2014-09-22     24.0  14116 2014-09-22\n",
              "2014-09-23     24.0  13304 2014-09-23\n",
              "2014-09-24     24.0  16856 2014-09-24\n",
              "2014-09-25     24.0  14152 2014-09-25"
            ]
          },
          "metadata": {
            "tags": []
          },
          "execution_count": 118
        }
      ]
    },
    {
      "cell_type": "code",
      "metadata": {
        "colab": {
          "base_uri": "https://localhost:8080/"
        },
        "id": "jL3VYydkBwIZ",
        "outputId": "cab9237f-ffb0-4637-b723-bbc881a34928"
      },
      "source": [
        "model = Prophet(yearly_seasonality=True, seasonality_prior_scale=0.9)\n",
        "model.fit(train)"
      ],
      "execution_count": 119,
      "outputs": [
        {
          "output_type": "stream",
          "text": [
            "INFO:fbprophet:Disabling daily seasonality. Run prophet with daily_seasonality=True to override this.\n"
          ],
          "name": "stderr"
        },
        {
          "output_type": "execute_result",
          "data": {
            "text/plain": [
              "<fbprophet.forecaster.Prophet at 0x7f9d71a55750>"
            ]
          },
          "metadata": {
            "tags": []
          },
          "execution_count": 119
        }
      ]
    },
    {
      "cell_type": "code",
      "metadata": {
        "colab": {
          "base_uri": "https://localhost:8080/",
          "height": 419
        },
        "id": "YUpob0lECiGZ",
        "outputId": "1d154e2e-ce14-4d30-e455-c6ae5da9fd1c"
      },
      "source": [
        "f_data = model.make_future_dataframe(periods=100)\n",
        "f_data"
      ],
      "execution_count": 120,
      "outputs": [
        {
          "output_type": "execute_result",
          "data": {
            "text/html": [
              "<div>\n",
              "<style scoped>\n",
              "    .dataframe tbody tr th:only-of-type {\n",
              "        vertical-align: middle;\n",
              "    }\n",
              "\n",
              "    .dataframe tbody tr th {\n",
              "        vertical-align: top;\n",
              "    }\n",
              "\n",
              "    .dataframe thead th {\n",
              "        text-align: right;\n",
              "    }\n",
              "</style>\n",
              "<table border=\"1\" class=\"dataframe\">\n",
              "  <thead>\n",
              "    <tr style=\"text-align: right;\">\n",
              "      <th></th>\n",
              "      <th>ds</th>\n",
              "    </tr>\n",
              "  </thead>\n",
              "  <tbody>\n",
              "    <tr>\n",
              "      <th>0</th>\n",
              "      <td>2012-08-25</td>\n",
              "    </tr>\n",
              "    <tr>\n",
              "      <th>1</th>\n",
              "      <td>2012-08-26</td>\n",
              "    </tr>\n",
              "    <tr>\n",
              "      <th>2</th>\n",
              "      <td>2012-08-27</td>\n",
              "    </tr>\n",
              "    <tr>\n",
              "      <th>3</th>\n",
              "      <td>2012-08-28</td>\n",
              "    </tr>\n",
              "    <tr>\n",
              "      <th>4</th>\n",
              "      <td>2012-08-29</td>\n",
              "    </tr>\n",
              "    <tr>\n",
              "      <th>...</th>\n",
              "      <td>...</td>\n",
              "    </tr>\n",
              "    <tr>\n",
              "      <th>757</th>\n",
              "      <td>2014-09-21</td>\n",
              "    </tr>\n",
              "    <tr>\n",
              "      <th>758</th>\n",
              "      <td>2014-09-22</td>\n",
              "    </tr>\n",
              "    <tr>\n",
              "      <th>759</th>\n",
              "      <td>2014-09-23</td>\n",
              "    </tr>\n",
              "    <tr>\n",
              "      <th>760</th>\n",
              "      <td>2014-09-24</td>\n",
              "    </tr>\n",
              "    <tr>\n",
              "      <th>761</th>\n",
              "      <td>2014-09-25</td>\n",
              "    </tr>\n",
              "  </tbody>\n",
              "</table>\n",
              "<p>762 rows × 1 columns</p>\n",
              "</div>"
            ],
            "text/plain": [
              "            ds\n",
              "0   2012-08-25\n",
              "1   2012-08-26\n",
              "2   2012-08-27\n",
              "3   2012-08-28\n",
              "4   2012-08-29\n",
              "..         ...\n",
              "757 2014-09-21\n",
              "758 2014-09-22\n",
              "759 2014-09-23\n",
              "760 2014-09-24\n",
              "761 2014-09-25\n",
              "\n",
              "[762 rows x 1 columns]"
            ]
          },
          "metadata": {
            "tags": []
          },
          "execution_count": 120
        }
      ]
    },
    {
      "cell_type": "code",
      "metadata": {
        "colab": {
          "base_uri": "https://localhost:8080/",
          "height": 309
        },
        "id": "rB3uewMwD04O",
        "outputId": "5aa5a9ed-9c37-42b1-c9d1-bc9a79568121"
      },
      "source": [
        "forecast = model.predict(f_data)\n",
        "forecast.head()"
      ],
      "execution_count": 121,
      "outputs": [
        {
          "output_type": "execute_result",
          "data": {
            "text/html": [
              "<div>\n",
              "<style scoped>\n",
              "    .dataframe tbody tr th:only-of-type {\n",
              "        vertical-align: middle;\n",
              "    }\n",
              "\n",
              "    .dataframe tbody tr th {\n",
              "        vertical-align: top;\n",
              "    }\n",
              "\n",
              "    .dataframe thead th {\n",
              "        text-align: right;\n",
              "    }\n",
              "</style>\n",
              "<table border=\"1\" class=\"dataframe\">\n",
              "  <thead>\n",
              "    <tr style=\"text-align: right;\">\n",
              "      <th></th>\n",
              "      <th>ds</th>\n",
              "      <th>trend</th>\n",
              "      <th>yhat_lower</th>\n",
              "      <th>yhat_upper</th>\n",
              "      <th>trend_lower</th>\n",
              "      <th>trend_upper</th>\n",
              "      <th>additive_terms</th>\n",
              "      <th>additive_terms_lower</th>\n",
              "      <th>additive_terms_upper</th>\n",
              "      <th>weekly</th>\n",
              "      <th>weekly_lower</th>\n",
              "      <th>weekly_upper</th>\n",
              "      <th>yearly</th>\n",
              "      <th>yearly_lower</th>\n",
              "      <th>yearly_upper</th>\n",
              "      <th>multiplicative_terms</th>\n",
              "      <th>multiplicative_terms_lower</th>\n",
              "      <th>multiplicative_terms_upper</th>\n",
              "      <th>yhat</th>\n",
              "    </tr>\n",
              "  </thead>\n",
              "  <tbody>\n",
              "    <tr>\n",
              "      <th>0</th>\n",
              "      <td>2012-08-25</td>\n",
              "      <td>-509.515681</td>\n",
              "      <td>-1567.583070</td>\n",
              "      <td>118.033448</td>\n",
              "      <td>-509.515681</td>\n",
              "      <td>-509.515681</td>\n",
              "      <td>-272.470704</td>\n",
              "      <td>-272.470704</td>\n",
              "      <td>-272.470704</td>\n",
              "      <td>-786.127881</td>\n",
              "      <td>-786.127881</td>\n",
              "      <td>-786.127881</td>\n",
              "      <td>513.657176</td>\n",
              "      <td>513.657176</td>\n",
              "      <td>513.657176</td>\n",
              "      <td>0.0</td>\n",
              "      <td>0.0</td>\n",
              "      <td>0.0</td>\n",
              "      <td>-781.986385</td>\n",
              "    </tr>\n",
              "    <tr>\n",
              "      <th>1</th>\n",
              "      <td>2012-08-26</td>\n",
              "      <td>-502.314109</td>\n",
              "      <td>-1770.968421</td>\n",
              "      <td>56.382654</td>\n",
              "      <td>-502.314109</td>\n",
              "      <td>-502.314109</td>\n",
              "      <td>-388.737957</td>\n",
              "      <td>-388.737957</td>\n",
              "      <td>-388.737957</td>\n",
              "      <td>-902.932915</td>\n",
              "      <td>-902.932915</td>\n",
              "      <td>-902.932915</td>\n",
              "      <td>514.194958</td>\n",
              "      <td>514.194958</td>\n",
              "      <td>514.194958</td>\n",
              "      <td>0.0</td>\n",
              "      <td>0.0</td>\n",
              "      <td>0.0</td>\n",
              "      <td>-891.052066</td>\n",
              "    </tr>\n",
              "    <tr>\n",
              "      <th>2</th>\n",
              "      <td>2012-08-27</td>\n",
              "      <td>-495.112537</td>\n",
              "      <td>-522.476991</td>\n",
              "      <td>1306.323239</td>\n",
              "      <td>-495.112537</td>\n",
              "      <td>-495.112537</td>\n",
              "      <td>885.905234</td>\n",
              "      <td>885.905234</td>\n",
              "      <td>885.905234</td>\n",
              "      <td>372.157378</td>\n",
              "      <td>372.157378</td>\n",
              "      <td>372.157378</td>\n",
              "      <td>513.747856</td>\n",
              "      <td>513.747856</td>\n",
              "      <td>513.747856</td>\n",
              "      <td>0.0</td>\n",
              "      <td>0.0</td>\n",
              "      <td>0.0</td>\n",
              "      <td>390.792697</td>\n",
              "    </tr>\n",
              "    <tr>\n",
              "      <th>3</th>\n",
              "      <td>2012-08-28</td>\n",
              "      <td>-487.910965</td>\n",
              "      <td>-450.542174</td>\n",
              "      <td>1331.905092</td>\n",
              "      <td>-487.910965</td>\n",
              "      <td>-487.910965</td>\n",
              "      <td>930.865597</td>\n",
              "      <td>930.865597</td>\n",
              "      <td>930.865597</td>\n",
              "      <td>418.330932</td>\n",
              "      <td>418.330932</td>\n",
              "      <td>418.330932</td>\n",
              "      <td>512.534665</td>\n",
              "      <td>512.534665</td>\n",
              "      <td>512.534665</td>\n",
              "      <td>0.0</td>\n",
              "      <td>0.0</td>\n",
              "      <td>0.0</td>\n",
              "      <td>442.954632</td>\n",
              "    </tr>\n",
              "    <tr>\n",
              "      <th>4</th>\n",
              "      <td>2012-08-29</td>\n",
              "      <td>-480.709393</td>\n",
              "      <td>-505.309514</td>\n",
              "      <td>1272.716739</td>\n",
              "      <td>-480.709393</td>\n",
              "      <td>-480.709393</td>\n",
              "      <td>882.438286</td>\n",
              "      <td>882.438286</td>\n",
              "      <td>882.438286</td>\n",
              "      <td>371.679601</td>\n",
              "      <td>371.679601</td>\n",
              "      <td>371.679601</td>\n",
              "      <td>510.758685</td>\n",
              "      <td>510.758685</td>\n",
              "      <td>510.758685</td>\n",
              "      <td>0.0</td>\n",
              "      <td>0.0</td>\n",
              "      <td>0.0</td>\n",
              "      <td>401.728894</td>\n",
              "    </tr>\n",
              "  </tbody>\n",
              "</table>\n",
              "</div>"
            ],
            "text/plain": [
              "          ds       trend  ...  multiplicative_terms_upper        yhat\n",
              "0 2012-08-25 -509.515681  ...                         0.0 -781.986385\n",
              "1 2012-08-26 -502.314109  ...                         0.0 -891.052066\n",
              "2 2012-08-27 -495.112537  ...                         0.0  390.792697\n",
              "3 2012-08-28 -487.910965  ...                         0.0  442.954632\n",
              "4 2012-08-29 -480.709393  ...                         0.0  401.728894\n",
              "\n",
              "[5 rows x 19 columns]"
            ]
          },
          "metadata": {
            "tags": []
          },
          "execution_count": 121
        }
      ]
    },
    {
      "cell_type": "code",
      "metadata": {
        "colab": {
          "base_uri": "https://localhost:8080/",
          "height": 674
        },
        "id": "RB9-xkhZEVph",
        "outputId": "f3c68eb7-1839-45d1-b5f3-e3070fe713b4"
      },
      "source": [
        "model.plot_components(forecast)\n",
        "pred = forecast.iloc[-100:, :]\n",
        "len(pred)"
      ],
      "execution_count": 122,
      "outputs": [
        {
          "output_type": "execute_result",
          "data": {
            "text/plain": [
              "100"
            ]
          },
          "metadata": {
            "tags": []
          },
          "execution_count": 122
        },
        {
          "output_type": "display_data",
          "data": {
            "image/png": "[encoded data removed]",
            "text/plain": [
              "<Figure size 648x648 with 3 Axes>"
            ]
          },
          "metadata": {
            "tags": []
          }
        }
      ]
    },
    {
      "cell_type": "code",
      "metadata": {
        "colab": {
          "base_uri": "https://localhost:8080/",
          "height": 428
        },
        "id": "rAVM_8djFfMO",
        "outputId": "84a81bf7-658c-41a9-bee6-1f9c97ac7250"
      },
      "source": [
        "plt.figure(figsize=(10,7))\n",
        "plt.plot(test['ds'], test['y'])\n",
        "plt.plot(pred['ds'], pred['yhat'], color='red')\n",
        "plt.plot(pred['ds'], pred['yhat_lower'], color='green')\n",
        "plt.plot(pred['ds'], pred['yhat_upper'], color='orange')\n",
        "plt.show()"
      ],
      "execution_count": 123,
      "outputs": [
        {
          "output_type": "display_data",
          "data": {
            "image/png": "[encoded data removed]",
            "text/plain": [
              "<Figure size 720x504 with 1 Axes>"
            ]
          },
          "metadata": {
            "tags": [],
            "needs_background": "light"
          }
        }
      ]
    },
    {
      "cell_type": "code",
      "metadata": {
        "id": "B170PKhoFnJa",
        "colab": {
          "base_uri": "https://localhost:8080/",
          "height": 267
        },
        "outputId": "b9c50263-6f71-44c2-e9fb-8a250cb12fc0"
      },
      "source": [
        "plt.plot(data['ds'], data['y'])\n",
        "plt.show()"
      ],
      "execution_count": 124,
      "outputs": [
        {
          "output_type": "display_data",
          "data": {
            "image/png": "[encoded data removed]",
            "text/plain": [
              "<Figure size 432x288 with 1 Axes>"
            ]
          },
          "metadata": {
            "tags": [],
            "needs_background": "light"
          }
        }
      ]
    },
    {
      "cell_type": "code",
      "metadata": {
        "colab": {
          "base_uri": "https://localhost:8080/",
          "height": 265
        },
        "id": "RZOKF6L8Fs-B",
        "outputId": "b44485c7-1621-4e4b-ef60-6ae9491ccbd4"
      },
      "source": [
        "plt.plot(forecast['ds'], forecast['yhat'])\n",
        "plt.show()"
      ],
      "execution_count": 125,
      "outputs": [
        {
          "output_type": "display_data",
          "data": {
            "image/png": "[encoded data removed]",
            "text/plain": [
              "<Figure size 432x288 with 1 Axes>"
            ]
          },
          "metadata": {
            "tags": [],
            "needs_background": "light"
          }
        }
      ]
    },
    {
      "cell_type": "code",
      "metadata": {
        "colab": {
          "base_uri": "https://localhost:8080/"
        },
        "id": "W5_GOHBBF0nX",
        "outputId": "3a208a6c-77f3-45fa-9830-8d5037d34144"
      },
      "source": [
        "model = Prophet(yearly_seasonality=True, seasonality_prior_scale=0.9)\n",
        "model.fit(data)"
      ],
      "execution_count": 126,
      "outputs": [
        {
          "output_type": "stream",
          "text": [
            "INFO:fbprophet:Disabling daily seasonality. Run prophet with daily_seasonality=True to override this.\n"
          ],
          "name": "stderr"
        },
        {
          "output_type": "execute_result",
          "data": {
            "text/plain": [
              "<fbprophet.forecaster.Prophet at 0x7f9d719956d0>"
            ]
          },
          "metadata": {
            "tags": []
          },
          "execution_count": 126
        }
      ]
    },
    {
      "cell_type": "code",
      "metadata": {
        "colab": {
          "base_uri": "https://localhost:8080/",
          "height": 309
        },
        "id": "fQNFp_3NF2c1",
        "outputId": "3db3d351-0eaa-448f-810d-74acdda4f9d5"
      },
      "source": [
        "future = model.make_future_dataframe(periods=200)\n",
        "forecast = model.predict(future)\n",
        "forecast.head()"
      ],
      "execution_count": 127,
      "outputs": [
        {
          "output_type": "execute_result",
          "data": {
            "text/html": [
              "<div>\n",
              "<style scoped>\n",
              "    .dataframe tbody tr th:only-of-type {\n",
              "        vertical-align: middle;\n",
              "    }\n",
              "\n",
              "    .dataframe tbody tr th {\n",
              "        vertical-align: top;\n",
              "    }\n",
              "\n",
              "    .dataframe thead th {\n",
              "        text-align: right;\n",
              "    }\n",
              "</style>\n",
              "<table border=\"1\" class=\"dataframe\">\n",
              "  <thead>\n",
              "    <tr style=\"text-align: right;\">\n",
              "      <th></th>\n",
              "      <th>ds</th>\n",
              "      <th>trend</th>\n",
              "      <th>yhat_lower</th>\n",
              "      <th>yhat_upper</th>\n",
              "      <th>trend_lower</th>\n",
              "      <th>trend_upper</th>\n",
              "      <th>additive_terms</th>\n",
              "      <th>additive_terms_lower</th>\n",
              "      <th>additive_terms_upper</th>\n",
              "      <th>weekly</th>\n",
              "      <th>weekly_lower</th>\n",
              "      <th>weekly_upper</th>\n",
              "      <th>yearly</th>\n",
              "      <th>yearly_lower</th>\n",
              "      <th>yearly_upper</th>\n",
              "      <th>multiplicative_terms</th>\n",
              "      <th>multiplicative_terms_lower</th>\n",
              "      <th>multiplicative_terms_upper</th>\n",
              "      <th>yhat</th>\n",
              "    </tr>\n",
              "  </thead>\n",
              "  <tbody>\n",
              "    <tr>\n",
              "      <th>0</th>\n",
              "      <td>2012-08-25</td>\n",
              "      <td>-691.413088</td>\n",
              "      <td>-2347.647223</td>\n",
              "      <td>110.125689</td>\n",
              "      <td>-691.413088</td>\n",
              "      <td>-691.413088</td>\n",
              "      <td>-423.432144</td>\n",
              "      <td>-423.432144</td>\n",
              "      <td>-423.432144</td>\n",
              "      <td>-995.120367</td>\n",
              "      <td>-995.120367</td>\n",
              "      <td>-995.120367</td>\n",
              "      <td>571.688223</td>\n",
              "      <td>571.688223</td>\n",
              "      <td>571.688223</td>\n",
              "      <td>0.0</td>\n",
              "      <td>0.0</td>\n",
              "      <td>0.0</td>\n",
              "      <td>-1114.845232</td>\n",
              "    </tr>\n",
              "    <tr>\n",
              "      <th>1</th>\n",
              "      <td>2012-08-26</td>\n",
              "      <td>-683.288701</td>\n",
              "      <td>-2420.714598</td>\n",
              "      <td>-128.498530</td>\n",
              "      <td>-683.288701</td>\n",
              "      <td>-683.288701</td>\n",
              "      <td>-581.426591</td>\n",
              "      <td>-581.426591</td>\n",
              "      <td>-581.426591</td>\n",
              "      <td>-1144.187184</td>\n",
              "      <td>-1144.187184</td>\n",
              "      <td>-1144.187184</td>\n",
              "      <td>562.760593</td>\n",
              "      <td>562.760593</td>\n",
              "      <td>562.760593</td>\n",
              "      <td>0.0</td>\n",
              "      <td>0.0</td>\n",
              "      <td>0.0</td>\n",
              "      <td>-1264.715292</td>\n",
              "    </tr>\n",
              "    <tr>\n",
              "      <th>2</th>\n",
              "      <td>2012-08-27</td>\n",
              "      <td>-675.164314</td>\n",
              "      <td>-826.852552</td>\n",
              "      <td>1507.200252</td>\n",
              "      <td>-675.164314</td>\n",
              "      <td>-675.164314</td>\n",
              "      <td>1008.545650</td>\n",
              "      <td>1008.545650</td>\n",
              "      <td>1008.545650</td>\n",
              "      <td>457.575538</td>\n",
              "      <td>457.575538</td>\n",
              "      <td>457.575538</td>\n",
              "      <td>550.970112</td>\n",
              "      <td>550.970112</td>\n",
              "      <td>550.970112</td>\n",
              "      <td>0.0</td>\n",
              "      <td>0.0</td>\n",
              "      <td>0.0</td>\n",
              "      <td>333.381336</td>\n",
              "    </tr>\n",
              "    <tr>\n",
              "      <th>3</th>\n",
              "      <td>2012-08-28</td>\n",
              "      <td>-667.039926</td>\n",
              "      <td>-717.091794</td>\n",
              "      <td>1711.440512</td>\n",
              "      <td>-667.039926</td>\n",
              "      <td>-667.039926</td>\n",
              "      <td>1145.477035</td>\n",
              "      <td>1145.477035</td>\n",
              "      <td>1145.477035</td>\n",
              "      <td>608.350482</td>\n",
              "      <td>608.350482</td>\n",
              "      <td>608.350482</td>\n",
              "      <td>537.126553</td>\n",
              "      <td>537.126553</td>\n",
              "      <td>537.126553</td>\n",
              "      <td>0.0</td>\n",
              "      <td>0.0</td>\n",
              "      <td>0.0</td>\n",
              "      <td>478.437108</td>\n",
              "    </tr>\n",
              "    <tr>\n",
              "      <th>4</th>\n",
              "      <td>2012-08-29</td>\n",
              "      <td>-658.915539</td>\n",
              "      <td>-782.058450</td>\n",
              "      <td>1646.645540</td>\n",
              "      <td>-658.915539</td>\n",
              "      <td>-658.915539</td>\n",
              "      <td>1078.945696</td>\n",
              "      <td>1078.945696</td>\n",
              "      <td>1078.945696</td>\n",
              "      <td>556.887062</td>\n",
              "      <td>556.887062</td>\n",
              "      <td>556.887062</td>\n",
              "      <td>522.058634</td>\n",
              "      <td>522.058634</td>\n",
              "      <td>522.058634</td>\n",
              "      <td>0.0</td>\n",
              "      <td>0.0</td>\n",
              "      <td>0.0</td>\n",
              "      <td>420.030157</td>\n",
              "    </tr>\n",
              "  </tbody>\n",
              "</table>\n",
              "</div>"
            ],
            "text/plain": [
              "          ds       trend  ...  multiplicative_terms_upper         yhat\n",
              "0 2012-08-25 -691.413088  ...                         0.0 -1114.845232\n",
              "1 2012-08-26 -683.288701  ...                         0.0 -1264.715292\n",
              "2 2012-08-27 -675.164314  ...                         0.0   333.381336\n",
              "3 2012-08-28 -667.039926  ...                         0.0   478.437108\n",
              "4 2012-08-29 -658.915539  ...                         0.0   420.030157\n",
              "\n",
              "[5 rows x 19 columns]"
            ]
          },
          "metadata": {
            "tags": []
          },
          "execution_count": 127
        }
      ]
    },
    {
      "cell_type": "code",
      "metadata": {
        "colab": {
          "base_uri": "https://localhost:8080/",
          "height": 265
        },
        "id": "1qFL86xuF9Qi",
        "outputId": "b8d73375-b52e-45ff-dad6-413041c5de25"
      },
      "source": [
        "plt.plot(forecast['ds'], forecast['yhat'])\n",
        "plt.show()"
      ],
      "execution_count": 128,
      "outputs": [
        {
          "output_type": "display_data",
          "data": {
            "image/png": "[encoded data removed]",
            "text/plain": [
              "<Figure size 432x288 with 1 Axes>"
            ]
          },
          "metadata": {
            "tags": [],
            "needs_background": "light"
          }
        }
      ]
    }
  ]
}