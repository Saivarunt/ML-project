{
  "nbformat": 4,
  "nbformat_minor": 0,
  "metadata": {
    "colab": {
      "name": "Traffic_data_analysis.ipynb",
      "provenance": [],
      "collapsed_sections": []
    },
    "kernelspec": {
      "name": "python3",
      "display_name": "Python 3"
    },
    "language_info": {
      "name": "python"
    }
  },
  "cells": [
    {
      "cell_type": "markdown",
      "metadata": {
        "id": "i68-eqJnvx46"
      },
      "source": [
        "TRAFIC FORECAST USING TIME SERIES ANALYSIS\n",
        "\n",
        "The dataset contains information about the date, time and an attribute count which denotes the number of vehicles passing through a given area at that particular time. The objective behind this project is to predict the trend in traffic in that particular area at any given time or date based on the 'count' of previous years.We also try to use various different functions and other algorithms to predict the trend in the dataset."
      ]
    },
    {
      "cell_type": "markdown",
      "metadata": {
        "id": "5o5TguG2ybpL"
      },
      "source": [
        "IMPORTING NECESSARY PACKAGES"
      ]
    },
    {
      "cell_type": "code",
      "metadata": {
        "id": "k3huai6Cvws5"
      },
      "source": [
        "import pandas as pd\n",
        "import numpy as np \n",
        "from sklearn.ensemble import RandomForestClassifier\n",
        "import matplotlib.pyplot as plt\n",
        "%matplotlib inline\n",
        "import warnings\n",
        "warnings.filterwarnings('ignore')\n",
        "from fbprophet import Prophet"
      ],
      "execution_count": 40,
      "outputs": []
    },
    {
      "cell_type": "markdown",
      "metadata": {
        "id": "lF9Oe2Koyz5p"
      },
      "source": [
        "LOADING DATASET"
      ]
    },
    {
      "cell_type": "code",
      "metadata": {
        "colab": {
          "base_uri": "https://localhost:8080/",
          "height": 204
        },
        "id": "yIJWE8H_yaCX",
        "outputId": "b761033a-55ba-4105-90e7-e331d9477d4d"
      },
      "source": [
        "df = pd.read_csv('Traffic data.csv')\n",
        "df.head()"
      ],
      "execution_count": 41,
      "outputs": [
        {
          "output_type": "execute_result",
          "data": {
            "text/html": [
              "<div>\n",
              "<style scoped>\n",
              "    .dataframe tbody tr th:only-of-type {\n",
              "        vertical-align: middle;\n",
              "    }\n",
              "\n",
              "    .dataframe tbody tr th {\n",
              "        vertical-align: top;\n",
              "    }\n",
              "\n",
              "    .dataframe thead th {\n",
              "        text-align: right;\n",
              "    }\n",
              "</style>\n",
              "<table border=\"1\" class=\"dataframe\">\n",
              "  <thead>\n",
              "    <tr style=\"text-align: right;\">\n",
              "      <th></th>\n",
              "      <th>ID</th>\n",
              "      <th>Datetime</th>\n",
              "      <th>Count</th>\n",
              "    </tr>\n",
              "  </thead>\n",
              "  <tbody>\n",
              "    <tr>\n",
              "      <th>0</th>\n",
              "      <td>0</td>\n",
              "      <td>25-08-2012 00:00</td>\n",
              "      <td>8</td>\n",
              "    </tr>\n",
              "    <tr>\n",
              "      <th>1</th>\n",
              "      <td>1</td>\n",
              "      <td>25-08-2012 01:00</td>\n",
              "      <td>2</td>\n",
              "    </tr>\n",
              "    <tr>\n",
              "      <th>2</th>\n",
              "      <td>2</td>\n",
              "      <td>25-08-2012 02:00</td>\n",
              "      <td>6</td>\n",
              "    </tr>\n",
              "    <tr>\n",
              "      <th>3</th>\n",
              "      <td>3</td>\n",
              "      <td>25-08-2012 03:00</td>\n",
              "      <td>2</td>\n",
              "    </tr>\n",
              "    <tr>\n",
              "      <th>4</th>\n",
              "      <td>4</td>\n",
              "      <td>25-08-2012 04:00</td>\n",
              "      <td>2</td>\n",
              "    </tr>\n",
              "  </tbody>\n",
              "</table>\n",
              "</div>"
            ],
            "text/plain": [
              "   ID          Datetime  Count\n",
              "0   0  25-08-2012 00:00      8\n",
              "1   1  25-08-2012 01:00      2\n",
              "2   2  25-08-2012 02:00      6\n",
              "3   3  25-08-2012 03:00      2\n",
              "4   4  25-08-2012 04:00      2"
            ]
          },
          "metadata": {
            "tags": []
          },
          "execution_count": 41
        }
      ]
    },
    {
      "cell_type": "code",
      "metadata": {
        "colab": {
          "base_uri": "https://localhost:8080/",
          "height": 419
        },
        "id": "4DKNUJRYzYlK",
        "outputId": "4faf6fe7-16d8-40b1-e490-5c88369108ec"
      },
      "source": [
        "df"
      ],
      "execution_count": 42,
      "outputs": [
        {
          "output_type": "execute_result",
          "data": {
            "text/html": [
              "<div>\n",
              "<style scoped>\n",
              "    .dataframe tbody tr th:only-of-type {\n",
              "        vertical-align: middle;\n",
              "    }\n",
              "\n",
              "    .dataframe tbody tr th {\n",
              "        vertical-align: top;\n",
              "    }\n",
              "\n",
              "    .dataframe thead th {\n",
              "        text-align: right;\n",
              "    }\n",
              "</style>\n",
              "<table border=\"1\" class=\"dataframe\">\n",
              "  <thead>\n",
              "    <tr style=\"text-align: right;\">\n",
              "      <th></th>\n",
              "      <th>ID</th>\n",
              "      <th>Datetime</th>\n",
              "      <th>Count</th>\n",
              "    </tr>\n",
              "  </thead>\n",
              "  <tbody>\n",
              "    <tr>\n",
              "      <th>0</th>\n",
              "      <td>0</td>\n",
              "      <td>25-08-2012 00:00</td>\n",
              "      <td>8</td>\n",
              "    </tr>\n",
              "    <tr>\n",
              "      <th>1</th>\n",
              "      <td>1</td>\n",
              "      <td>25-08-2012 01:00</td>\n",
              "      <td>2</td>\n",
              "    </tr>\n",
              "    <tr>\n",
              "      <th>2</th>\n",
              "      <td>2</td>\n",
              "      <td>25-08-2012 02:00</td>\n",
              "      <td>6</td>\n",
              "    </tr>\n",
              "    <tr>\n",
              "      <th>3</th>\n",
              "      <td>3</td>\n",
              "      <td>25-08-2012 03:00</td>\n",
              "      <td>2</td>\n",
              "    </tr>\n",
              "    <tr>\n",
              "      <th>4</th>\n",
              "      <td>4</td>\n",
              "      <td>25-08-2012 04:00</td>\n",
              "      <td>2</td>\n",
              "    </tr>\n",
              "    <tr>\n",
              "      <th>...</th>\n",
              "      <td>...</td>\n",
              "      <td>...</td>\n",
              "      <td>...</td>\n",
              "    </tr>\n",
              "    <tr>\n",
              "      <th>18283</th>\n",
              "      <td>18283</td>\n",
              "      <td>25-09-2014 19:00</td>\n",
              "      <td>868</td>\n",
              "    </tr>\n",
              "    <tr>\n",
              "      <th>18284</th>\n",
              "      <td>18284</td>\n",
              "      <td>25-09-2014 20:00</td>\n",
              "      <td>732</td>\n",
              "    </tr>\n",
              "    <tr>\n",
              "      <th>18285</th>\n",
              "      <td>18285</td>\n",
              "      <td>25-09-2014 21:00</td>\n",
              "      <td>702</td>\n",
              "    </tr>\n",
              "    <tr>\n",
              "      <th>18286</th>\n",
              "      <td>18286</td>\n",
              "      <td>25-09-2014 22:00</td>\n",
              "      <td>580</td>\n",
              "    </tr>\n",
              "    <tr>\n",
              "      <th>18287</th>\n",
              "      <td>18287</td>\n",
              "      <td>25-09-2014 23:00</td>\n",
              "      <td>534</td>\n",
              "    </tr>\n",
              "  </tbody>\n",
              "</table>\n",
              "<p>18288 rows × 3 columns</p>\n",
              "</div>"
            ],
            "text/plain": [
              "          ID          Datetime  Count\n",
              "0          0  25-08-2012 00:00      8\n",
              "1          1  25-08-2012 01:00      2\n",
              "2          2  25-08-2012 02:00      6\n",
              "3          3  25-08-2012 03:00      2\n",
              "4          4  25-08-2012 04:00      2\n",
              "...      ...               ...    ...\n",
              "18283  18283  25-09-2014 19:00    868\n",
              "18284  18284  25-09-2014 20:00    732\n",
              "18285  18285  25-09-2014 21:00    702\n",
              "18286  18286  25-09-2014 22:00    580\n",
              "18287  18287  25-09-2014 23:00    534\n",
              "\n",
              "[18288 rows x 3 columns]"
            ]
          },
          "metadata": {
            "tags": []
          },
          "execution_count": 42
        }
      ]
    },
    {
      "cell_type": "code",
      "metadata": {
        "colab": {
          "base_uri": "https://localhost:8080/"
        },
        "id": "JIEmfwI9zlTQ",
        "outputId": "6b0ee1fe-fcfb-4480-8c22-6fda1f10fdcb"
      },
      "source": [
        "np.shape(df)"
      ],
      "execution_count": 43,
      "outputs": [
        {
          "output_type": "execute_result",
          "data": {
            "text/plain": [
              "(18288, 3)"
            ]
          },
          "metadata": {
            "tags": []
          },
          "execution_count": 43
        }
      ]
    },
    {
      "cell_type": "markdown",
      "metadata": {
        "id": "UkvCMi391G8f"
      },
      "source": [
        "PREPROCESSING"
      ]
    },
    {
      "cell_type": "code",
      "metadata": {
        "colab": {
          "base_uri": "https://localhost:8080/",
          "height": 419
        },
        "id": "NGqFhIl_z0qr",
        "outputId": "9065ff92-3fac-42d3-e4d3-f325cf35cd81"
      },
      "source": [
        "df.dropna(how='any')"
      ],
      "execution_count": 44,
      "outputs": [
        {
          "output_type": "execute_result",
          "data": {
            "text/html": [
              "<div>\n",
              "<style scoped>\n",
              "    .dataframe tbody tr th:only-of-type {\n",
              "        vertical-align: middle;\n",
              "    }\n",
              "\n",
              "    .dataframe tbody tr th {\n",
              "        vertical-align: top;\n",
              "    }\n",
              "\n",
              "    .dataframe thead th {\n",
              "        text-align: right;\n",
              "    }\n",
              "</style>\n",
              "<table border=\"1\" class=\"dataframe\">\n",
              "  <thead>\n",
              "    <tr style=\"text-align: right;\">\n",
              "      <th></th>\n",
              "      <th>ID</th>\n",
              "      <th>Datetime</th>\n",
              "      <th>Count</th>\n",
              "    </tr>\n",
              "  </thead>\n",
              "  <tbody>\n",
              "    <tr>\n",
              "      <th>0</th>\n",
              "      <td>0</td>\n",
              "      <td>25-08-2012 00:00</td>\n",
              "      <td>8</td>\n",
              "    </tr>\n",
              "    <tr>\n",
              "      <th>1</th>\n",
              "      <td>1</td>\n",
              "      <td>25-08-2012 01:00</td>\n",
              "      <td>2</td>\n",
              "    </tr>\n",
              "    <tr>\n",
              "      <th>2</th>\n",
              "      <td>2</td>\n",
              "      <td>25-08-2012 02:00</td>\n",
              "      <td>6</td>\n",
              "    </tr>\n",
              "    <tr>\n",
              "      <th>3</th>\n",
              "      <td>3</td>\n",
              "      <td>25-08-2012 03:00</td>\n",
              "      <td>2</td>\n",
              "    </tr>\n",
              "    <tr>\n",
              "      <th>4</th>\n",
              "      <td>4</td>\n",
              "      <td>25-08-2012 04:00</td>\n",
              "      <td>2</td>\n",
              "    </tr>\n",
              "    <tr>\n",
              "      <th>...</th>\n",
              "      <td>...</td>\n",
              "      <td>...</td>\n",
              "      <td>...</td>\n",
              "    </tr>\n",
              "    <tr>\n",
              "      <th>18283</th>\n",
              "      <td>18283</td>\n",
              "      <td>25-09-2014 19:00</td>\n",
              "      <td>868</td>\n",
              "    </tr>\n",
              "    <tr>\n",
              "      <th>18284</th>\n",
              "      <td>18284</td>\n",
              "      <td>25-09-2014 20:00</td>\n",
              "      <td>732</td>\n",
              "    </tr>\n",
              "    <tr>\n",
              "      <th>18285</th>\n",
              "      <td>18285</td>\n",
              "      <td>25-09-2014 21:00</td>\n",
              "      <td>702</td>\n",
              "    </tr>\n",
              "    <tr>\n",
              "      <th>18286</th>\n",
              "      <td>18286</td>\n",
              "      <td>25-09-2014 22:00</td>\n",
              "      <td>580</td>\n",
              "    </tr>\n",
              "    <tr>\n",
              "      <th>18287</th>\n",
              "      <td>18287</td>\n",
              "      <td>25-09-2014 23:00</td>\n",
              "      <td>534</td>\n",
              "    </tr>\n",
              "  </tbody>\n",
              "</table>\n",
              "<p>18288 rows × 3 columns</p>\n",
              "</div>"
            ],
            "text/plain": [
              "          ID          Datetime  Count\n",
              "0          0  25-08-2012 00:00      8\n",
              "1          1  25-08-2012 01:00      2\n",
              "2          2  25-08-2012 02:00      6\n",
              "3          3  25-08-2012 03:00      2\n",
              "4          4  25-08-2012 04:00      2\n",
              "...      ...               ...    ...\n",
              "18283  18283  25-09-2014 19:00    868\n",
              "18284  18284  25-09-2014 20:00    732\n",
              "18285  18285  25-09-2014 21:00    702\n",
              "18286  18286  25-09-2014 22:00    580\n",
              "18287  18287  25-09-2014 23:00    534\n",
              "\n",
              "[18288 rows x 3 columns]"
            ]
          },
          "metadata": {
            "tags": []
          },
          "execution_count": 44
        }
      ]
    },
    {
      "cell_type": "code",
      "metadata": {
        "colab": {
          "base_uri": "https://localhost:8080/"
        },
        "id": "XbVFmYKW07XN",
        "outputId": "b3c9ae2c-c2b5-4b24-bb46-b0bd680ddedc"
      },
      "source": [
        "df.info()"
      ],
      "execution_count": 45,
      "outputs": [
        {
          "output_type": "stream",
          "text": [
            "<class 'pandas.core.frame.DataFrame'>\n",
            "RangeIndex: 18288 entries, 0 to 18287\n",
            "Data columns (total 3 columns):\n",
            " #   Column    Non-Null Count  Dtype \n",
            "---  ------    --------------  ----- \n",
            " 0   ID        18288 non-null  int64 \n",
            " 1   Datetime  18288 non-null  object\n",
            " 2   Count     18288 non-null  int64 \n",
            "dtypes: int64(2), object(1)\n",
            "memory usage: 428.8+ KB\n"
          ],
          "name": "stdout"
        }
      ]
    },
    {
      "cell_type": "code",
      "metadata": {
        "colab": {
          "base_uri": "https://localhost:8080/"
        },
        "id": "EccAYB4WP6VZ",
        "outputId": "2a9588e2-8322-4748-904d-2ac49274767d"
      },
      "source": [
        "np.max(df['Count'])"
      ],
      "execution_count": 46,
      "outputs": [
        {
          "output_type": "execute_result",
          "data": {
            "text/plain": [
              "1244"
            ]
          },
          "metadata": {
            "tags": []
          },
          "execution_count": 46
        }
      ]
    },
    {
      "cell_type": "code",
      "metadata": {
        "colab": {
          "base_uri": "https://localhost:8080/"
        },
        "id": "itdD2Me4QJR_",
        "outputId": "09150d2c-0eac-4fc4-b5db-6225a1e2bfca"
      },
      "source": [
        "np.min(df['Count'])"
      ],
      "execution_count": 47,
      "outputs": [
        {
          "output_type": "execute_result",
          "data": {
            "text/plain": [
              "2"
            ]
          },
          "metadata": {
            "tags": []
          },
          "execution_count": 47
        }
      ]
    },
    {
      "cell_type": "code",
      "metadata": {
        "colab": {
          "base_uri": "https://localhost:8080/"
        },
        "id": "39XvHNwPQVvl",
        "outputId": "187b850e-cc39-4598-f0a2-2768b0895c52"
      },
      "source": [
        "x=df['Count']\n",
        "x.values"
      ],
      "execution_count": 48,
      "outputs": [
        {
          "output_type": "execute_result",
          "data": {
            "text/plain": [
              "array([  8,   2,   6, ..., 702, 580, 534])"
            ]
          },
          "metadata": {
            "tags": []
          },
          "execution_count": 48
        }
      ]
    },
    {
      "cell_type": "code",
      "metadata": {
        "colab": {
          "base_uri": "https://localhost:8080/"
        },
        "id": "6U2lKVxbR7sO",
        "outputId": "c216fb85-ea8b-4d87-e4c3-251443205b47"
      },
      "source": [
        "x.dtype"
      ],
      "execution_count": 49,
      "outputs": [
        {
          "output_type": "execute_result",
          "data": {
            "text/plain": [
              "dtype('int64')"
            ]
          },
          "metadata": {
            "tags": []
          },
          "execution_count": 49
        }
      ]
    },
    {
      "cell_type": "code",
      "metadata": {
        "colab": {
          "base_uri": "https://localhost:8080/"
        },
        "id": "87aXbyFMbe4i",
        "outputId": "5f5c18e9-bbaa-49ea-bb53-acc53fac2b26"
      },
      "source": [
        "x.shape"
      ],
      "execution_count": 50,
      "outputs": [
        {
          "output_type": "execute_result",
          "data": {
            "text/plain": [
              "(18288,)"
            ]
          },
          "metadata": {
            "tags": []
          },
          "execution_count": 50
        }
      ]
    },
    {
      "cell_type": "code",
      "metadata": {
        "id": "nYlw9EMUX49f"
      },
      "source": [
        "m=x.mean()"
      ],
      "execution_count": 51,
      "outputs": []
    },
    {
      "cell_type": "code",
      "metadata": {
        "colab": {
          "base_uri": "https://localhost:8080/"
        },
        "id": "45ZnZtR3TDmz",
        "outputId": "bb32bea4-d6d6-4d6d-e08c-d687cf2d74f9"
      },
      "source": [
        "high=np.empty(x.shape)\n",
        "c=0\n",
        "for i in x:\n",
        "  if i>m:\n",
        "    high[c]=1\n",
        "  else:\n",
        "    high[c]=0\n",
        "  c=c+1\n",
        "high"
      ],
      "execution_count": 52,
      "outputs": [
        {
          "output_type": "execute_result",
          "data": {
            "text/plain": [
              "array([0., 0., 0., ..., 1., 1., 1.])"
            ]
          },
          "metadata": {
            "tags": []
          },
          "execution_count": 52
        }
      ]
    },
    {
      "cell_type": "code",
      "metadata": {
        "colab": {
          "base_uri": "https://localhost:8080/"
        },
        "id": "xkEyXsibcZRc",
        "outputId": "92fdb17d-fda1-4d9b-c272-48276d3caed1"
      },
      "source": [
        "h=pd.Series(high,name=\"Traffic\")\n",
        "h"
      ],
      "execution_count": 62,
      "outputs": [
        {
          "output_type": "execute_result",
          "data": {
            "text/plain": [
              "0        0.0\n",
              "1        0.0\n",
              "2        0.0\n",
              "3        0.0\n",
              "4        0.0\n",
              "        ... \n",
              "18283    1.0\n",
              "18284    1.0\n",
              "18285    1.0\n",
              "18286    1.0\n",
              "18287    1.0\n",
              "Name: Traffic, Length: 18288, dtype: float64"
            ]
          },
          "metadata": {
            "tags": []
          },
          "execution_count": 62
        }
      ]
    },
    {
      "cell_type": "code",
      "metadata": {
        "id": "AaECY9gydEsj"
      },
      "source": [
        "data=pd.merge(df,h,left_on=\"ID\",right_index=True)"
      ],
      "execution_count": 67,
      "outputs": []
    },
    {
      "cell_type": "code",
      "metadata": {
        "colab": {
          "base_uri": "https://localhost:8080/",
          "height": 419
        },
        "id": "hPisXVDuYZXA",
        "outputId": "cf100c6d-b75a-49d4-fb62-05d0613c5caa"
      },
      "source": [
        "data"
      ],
      "execution_count": 68,
      "outputs": [
        {
          "output_type": "execute_result",
          "data": {
            "text/html": [
              "<div>\n",
              "<style scoped>\n",
              "    .dataframe tbody tr th:only-of-type {\n",
              "        vertical-align: middle;\n",
              "    }\n",
              "\n",
              "    .dataframe tbody tr th {\n",
              "        vertical-align: top;\n",
              "    }\n",
              "\n",
              "    .dataframe thead th {\n",
              "        text-align: right;\n",
              "    }\n",
              "</style>\n",
              "<table border=\"1\" class=\"dataframe\">\n",
              "  <thead>\n",
              "    <tr style=\"text-align: right;\">\n",
              "      <th></th>\n",
              "      <th>ID</th>\n",
              "      <th>Datetime</th>\n",
              "      <th>Count</th>\n",
              "      <th>Traffic</th>\n",
              "    </tr>\n",
              "  </thead>\n",
              "  <tbody>\n",
              "    <tr>\n",
              "      <th>0</th>\n",
              "      <td>0</td>\n",
              "      <td>25-08-2012 00:00</td>\n",
              "      <td>8</td>\n",
              "      <td>0.0</td>\n",
              "    </tr>\n",
              "    <tr>\n",
              "      <th>1</th>\n",
              "      <td>1</td>\n",
              "      <td>25-08-2012 01:00</td>\n",
              "      <td>2</td>\n",
              "      <td>0.0</td>\n",
              "    </tr>\n",
              "    <tr>\n",
              "      <th>2</th>\n",
              "      <td>2</td>\n",
              "      <td>25-08-2012 02:00</td>\n",
              "      <td>6</td>\n",
              "      <td>0.0</td>\n",
              "    </tr>\n",
              "    <tr>\n",
              "      <th>3</th>\n",
              "      <td>3</td>\n",
              "      <td>25-08-2012 03:00</td>\n",
              "      <td>2</td>\n",
              "      <td>0.0</td>\n",
              "    </tr>\n",
              "    <tr>\n",
              "      <th>4</th>\n",
              "      <td>4</td>\n",
              "      <td>25-08-2012 04:00</td>\n",
              "      <td>2</td>\n",
              "      <td>0.0</td>\n",
              "    </tr>\n",
              "    <tr>\n",
              "      <th>...</th>\n",
              "      <td>...</td>\n",
              "      <td>...</td>\n",
              "      <td>...</td>\n",
              "      <td>...</td>\n",
              "    </tr>\n",
              "    <tr>\n",
              "      <th>18283</th>\n",
              "      <td>18283</td>\n",
              "      <td>25-09-2014 19:00</td>\n",
              "      <td>868</td>\n",
              "      <td>1.0</td>\n",
              "    </tr>\n",
              "    <tr>\n",
              "      <th>18284</th>\n",
              "      <td>18284</td>\n",
              "      <td>25-09-2014 20:00</td>\n",
              "      <td>732</td>\n",
              "      <td>1.0</td>\n",
              "    </tr>\n",
              "    <tr>\n",
              "      <th>18285</th>\n",
              "      <td>18285</td>\n",
              "      <td>25-09-2014 21:00</td>\n",
              "      <td>702</td>\n",
              "      <td>1.0</td>\n",
              "    </tr>\n",
              "    <tr>\n",
              "      <th>18286</th>\n",
              "      <td>18286</td>\n",
              "      <td>25-09-2014 22:00</td>\n",
              "      <td>580</td>\n",
              "      <td>1.0</td>\n",
              "    </tr>\n",
              "    <tr>\n",
              "      <th>18287</th>\n",
              "      <td>18287</td>\n",
              "      <td>25-09-2014 23:00</td>\n",
              "      <td>534</td>\n",
              "      <td>1.0</td>\n",
              "    </tr>\n",
              "  </tbody>\n",
              "</table>\n",
              "<p>18288 rows × 4 columns</p>\n",
              "</div>"
            ],
            "text/plain": [
              "          ID          Datetime  Count  Traffic\n",
              "0          0  25-08-2012 00:00      8      0.0\n",
              "1          1  25-08-2012 01:00      2      0.0\n",
              "2          2  25-08-2012 02:00      6      0.0\n",
              "3          3  25-08-2012 03:00      2      0.0\n",
              "4          4  25-08-2012 04:00      2      0.0\n",
              "...      ...               ...    ...      ...\n",
              "18283  18283  25-09-2014 19:00    868      1.0\n",
              "18284  18284  25-09-2014 20:00    732      1.0\n",
              "18285  18285  25-09-2014 21:00    702      1.0\n",
              "18286  18286  25-09-2014 22:00    580      1.0\n",
              "18287  18287  25-09-2014 23:00    534      1.0\n",
              "\n",
              "[18288 rows x 4 columns]"
            ]
          },
          "metadata": {
            "tags": []
          },
          "execution_count": 68
        }
      ]
    },
    {
      "cell_type": "code",
      "metadata": {
        "colab": {
          "base_uri": "https://localhost:8080/"
        },
        "id": "r1Vb1vrp1nAO",
        "outputId": "a10f25ad-0213-4d3b-c7ae-9128166a8ad2"
      },
      "source": [
        "data['Datetime'] = pd.to_datetime(data['Datetime'], format='%d-%m-%Y %H:%M')\n",
        "df.info()"
      ],
      "execution_count": 69,
      "outputs": [
        {
          "output_type": "stream",
          "text": [
            "<class 'pandas.core.frame.DataFrame'>\n",
            "RangeIndex: 18288 entries, 0 to 18287\n",
            "Data columns (total 3 columns):\n",
            " #   Column    Non-Null Count  Dtype \n",
            "---  ------    --------------  ----- \n",
            " 0   ID        18288 non-null  int64 \n",
            " 1   Datetime  18288 non-null  object\n",
            " 2   Count     18288 non-null  int64 \n",
            "dtypes: int64(2), object(1)\n",
            "memory usage: 428.8+ KB\n"
          ],
          "name": "stdout"
        }
      ]
    },
    {
      "cell_type": "code",
      "metadata": {
        "colab": {
          "base_uri": "https://localhost:8080/",
          "height": 235
        },
        "id": "y2lT9lnF8wSb",
        "outputId": "617dd1cb-dfb4-4389-8267-552a9fca8e39"
      },
      "source": [
        "data.index=data['Datetime']\n",
        "data['y'] = data['Count']\n",
        "data.drop(columns=['ID', 'Datetime', 'Count'], axis=1, inplace=True)\n",
        "data = data.resample('D').sum()\n",
        "data.head()"
      ],
      "execution_count": 70,
      "outputs": [
        {
          "output_type": "execute_result",
          "data": {
            "text/html": [
              "<div>\n",
              "<style scoped>\n",
              "    .dataframe tbody tr th:only-of-type {\n",
              "        vertical-align: middle;\n",
              "    }\n",
              "\n",
              "    .dataframe tbody tr th {\n",
              "        vertical-align: top;\n",
              "    }\n",
              "\n",
              "    .dataframe thead th {\n",
              "        text-align: right;\n",
              "    }\n",
              "</style>\n",
              "<table border=\"1\" class=\"dataframe\">\n",
              "  <thead>\n",
              "    <tr style=\"text-align: right;\">\n",
              "      <th></th>\n",
              "      <th>Traffic</th>\n",
              "      <th>y</th>\n",
              "    </tr>\n",
              "    <tr>\n",
              "      <th>Datetime</th>\n",
              "      <th></th>\n",
              "      <th></th>\n",
              "    </tr>\n",
              "  </thead>\n",
              "  <tbody>\n",
              "    <tr>\n",
              "      <th>2012-08-25</th>\n",
              "      <td>0.0</td>\n",
              "      <td>76</td>\n",
              "    </tr>\n",
              "    <tr>\n",
              "      <th>2012-08-26</th>\n",
              "      <td>0.0</td>\n",
              "      <td>88</td>\n",
              "    </tr>\n",
              "    <tr>\n",
              "      <th>2012-08-27</th>\n",
              "      <td>0.0</td>\n",
              "      <td>62</td>\n",
              "    </tr>\n",
              "    <tr>\n",
              "      <th>2012-08-28</th>\n",
              "      <td>0.0</td>\n",
              "      <td>58</td>\n",
              "    </tr>\n",
              "    <tr>\n",
              "      <th>2012-08-29</th>\n",
              "      <td>0.0</td>\n",
              "      <td>60</td>\n",
              "    </tr>\n",
              "  </tbody>\n",
              "</table>\n",
              "</div>"
            ],
            "text/plain": [
              "            Traffic   y\n",
              "Datetime               \n",
              "2012-08-25      0.0  76\n",
              "2012-08-26      0.0  88\n",
              "2012-08-27      0.0  62\n",
              "2012-08-28      0.0  58\n",
              "2012-08-29      0.0  60"
            ]
          },
          "metadata": {
            "tags": []
          },
          "execution_count": 70
        }
      ]
    },
    {
      "cell_type": "code",
      "metadata": {
        "id": "KyjijrPpqkAh"
      },
      "source": [
        "train, test=data[data[\"Traffic\"]==1], data[data[\"Traffic\"]==1]"
      ],
      "execution_count": 71,
      "outputs": []
    },
    {
      "cell_type": "code",
      "metadata": {
        "colab": {
          "base_uri": "https://localhost:8080/"
        },
        "id": "2oFLK2TFq5KU",
        "outputId": "f1ababee-f8c6-446a-9d62-2438b9d1d765"
      },
      "source": [
        "len(train)"
      ],
      "execution_count": 72,
      "outputs": [
        {
          "output_type": "execute_result",
          "data": {
            "text/plain": [
              "18"
            ]
          },
          "metadata": {
            "tags": []
          },
          "execution_count": 72
        }
      ]
    },
    {
      "cell_type": "code",
      "metadata": {
        "colab": {
          "base_uri": "https://localhost:8080/"
        },
        "id": "pFFtvwj7q-z4",
        "outputId": "fab15995-b96e-4dfd-e565-31afa6253221"
      },
      "source": [
        "len(test)"
      ],
      "execution_count": 73,
      "outputs": [
        {
          "output_type": "execute_result",
          "data": {
            "text/plain": [
              "18"
            ]
          },
          "metadata": {
            "tags": []
          },
          "execution_count": 73
        }
      ]
    },
    {
      "cell_type": "code",
      "metadata": {
        "id": "YAdovHO3rml4"
      },
      "source": [
        "features=data.columns[:2]"
      ],
      "execution_count": 81,
      "outputs": []
    },
    {
      "cell_type": "code",
      "metadata": {
        "id": "8dnjC5FHrKJj"
      },
      "source": [
        "y=pd.factorize(train['Traffic'])[0]"
      ],
      "execution_count": 82,
      "outputs": []
    },
    {
      "cell_type": "code",
      "metadata": {
        "colab": {
          "base_uri": "https://localhost:8080/"
        },
        "id": "WAJgQc8IrdFp",
        "outputId": "510f9e32-fac3-495d-81f4-2d13b93d99be"
      },
      "source": [
        "y"
      ],
      "execution_count": 83,
      "outputs": [
        {
          "output_type": "execute_result",
          "data": {
            "text/plain": [
              "array([0, 0, 0, 0, 0, 0, 0, 0, 0, 0, 0, 0, 0, 0, 0, 0, 0, 0])"
            ]
          },
          "metadata": {
            "tags": []
          },
          "execution_count": 83
        }
      ]
    },
    {
      "cell_type": "code",
      "metadata": {
        "id": "zXVxfnISreu9"
      },
      "source": [
        "clf=RandomForestClassifier(n_jobs=2,random_state=0)"
      ],
      "execution_count": 84,
      "outputs": []
    },
    {
      "cell_type": "code",
      "metadata": {
        "colab": {
          "base_uri": "https://localhost:8080/"
        },
        "id": "hpCZgddyrk2c",
        "outputId": "e5d1ca37-3320-4b82-f6cf-b8617a6b1995"
      },
      "source": [
        "clf.fit(train[features],y)"
      ],
      "execution_count": 85,
      "outputs": [
        {
          "output_type": "execute_result",
          "data": {
            "text/plain": [
              "RandomForestClassifier(bootstrap=True, ccp_alpha=0.0, class_weight=None,\n",
              "                       criterion='gini', max_depth=None, max_features='auto',\n",
              "                       max_leaf_nodes=None, max_samples=None,\n",
              "                       min_impurity_decrease=0.0, min_impurity_split=None,\n",
              "                       min_samples_leaf=1, min_samples_split=2,\n",
              "                       min_weight_fraction_leaf=0.0, n_estimators=100, n_jobs=2,\n",
              "                       oob_score=False, random_state=0, verbose=0,\n",
              "                       warm_start=False)"
            ]
          },
          "metadata": {
            "tags": []
          },
          "execution_count": 85
        }
      ]
    },
    {
      "cell_type": "code",
      "metadata": {
        "colab": {
          "base_uri": "https://localhost:8080/"
        },
        "id": "i7VvXmrtsDGV",
        "outputId": "4fd5ed15-900d-4fa3-9140-d6a52a2bd3af"
      },
      "source": [
        "clf.predict(test[features])"
      ],
      "execution_count": 86,
      "outputs": [
        {
          "output_type": "execute_result",
          "data": {
            "text/plain": [
              "array([0, 0, 0, 0, 0, 0, 0, 0, 0, 0, 0, 0, 0, 0, 0, 0, 0, 0])"
            ]
          },
          "metadata": {
            "tags": []
          },
          "execution_count": 86
        }
      ]
    },
    {
      "cell_type": "code",
      "metadata": {
        "colab": {
          "base_uri": "https://localhost:8080/",
          "height": 235
        },
        "id": "o7huPJ_8-lze",
        "outputId": "8da908d9-034e-4854-8c71-d90773bdb7c4"
      },
      "source": [
        "data['ds'] = data.index\n",
        "data.head()"
      ],
      "execution_count": 89,
      "outputs": [
        {
          "output_type": "execute_result",
          "data": {
            "text/html": [
              "<div>\n",
              "<style scoped>\n",
              "    .dataframe tbody tr th:only-of-type {\n",
              "        vertical-align: middle;\n",
              "    }\n",
              "\n",
              "    .dataframe tbody tr th {\n",
              "        vertical-align: top;\n",
              "    }\n",
              "\n",
              "    .dataframe thead th {\n",
              "        text-align: right;\n",
              "    }\n",
              "</style>\n",
              "<table border=\"1\" class=\"dataframe\">\n",
              "  <thead>\n",
              "    <tr style=\"text-align: right;\">\n",
              "      <th></th>\n",
              "      <th>Traffic</th>\n",
              "      <th>y</th>\n",
              "      <th>ds</th>\n",
              "    </tr>\n",
              "    <tr>\n",
              "      <th>Datetime</th>\n",
              "      <th></th>\n",
              "      <th></th>\n",
              "      <th></th>\n",
              "    </tr>\n",
              "  </thead>\n",
              "  <tbody>\n",
              "    <tr>\n",
              "      <th>2012-08-25</th>\n",
              "      <td>0.0</td>\n",
              "      <td>76</td>\n",
              "      <td>2012-08-25</td>\n",
              "    </tr>\n",
              "    <tr>\n",
              "      <th>2012-08-26</th>\n",
              "      <td>0.0</td>\n",
              "      <td>88</td>\n",
              "      <td>2012-08-26</td>\n",
              "    </tr>\n",
              "    <tr>\n",
              "      <th>2012-08-27</th>\n",
              "      <td>0.0</td>\n",
              "      <td>62</td>\n",
              "      <td>2012-08-27</td>\n",
              "    </tr>\n",
              "    <tr>\n",
              "      <th>2012-08-28</th>\n",
              "      <td>0.0</td>\n",
              "      <td>58</td>\n",
              "      <td>2012-08-28</td>\n",
              "    </tr>\n",
              "    <tr>\n",
              "      <th>2012-08-29</th>\n",
              "      <td>0.0</td>\n",
              "      <td>60</td>\n",
              "      <td>2012-08-29</td>\n",
              "    </tr>\n",
              "  </tbody>\n",
              "</table>\n",
              "</div>"
            ],
            "text/plain": [
              "            Traffic   y         ds\n",
              "Datetime                          \n",
              "2012-08-25      0.0  76 2012-08-25\n",
              "2012-08-26      0.0  88 2012-08-26\n",
              "2012-08-27      0.0  62 2012-08-27\n",
              "2012-08-28      0.0  58 2012-08-28\n",
              "2012-08-29      0.0  60 2012-08-29"
            ]
          },
          "metadata": {
            "tags": []
          },
          "execution_count": 89
        }
      ]
    },
    {
      "cell_type": "markdown",
      "metadata": {
        "id": "zwv6iFoNAkSc"
      },
      "source": [
        "VISUALIZING TREND BETWEEN DT AND VC"
      ]
    },
    {
      "cell_type": "code",
      "metadata": {
        "colab": {
          "base_uri": "https://localhost:8080/",
          "height": 428
        },
        "id": "kmimIGVF_D3_",
        "outputId": "dfd286df-7c5e-4831-a708-d7b1e0da6b05"
      },
      "source": [
        "plt.figure(figsize=(10,7))\n",
        "plt.plot(data['ds'], data['y'])\n",
        "plt.show()"
      ],
      "execution_count": 90,
      "outputs": [
        {
          "output_type": "display_data",
          "data": {
            "image/png": "[encoded data removed]",
            "text/plain": [
              "<Figure size 720x504 with 1 Axes>"
            ]
          },
          "metadata": {
            "tags": [],
            "needs_background": "light"
          }
        }
      ]
    },
    {
      "cell_type": "code",
      "metadata": {
        "colab": {
          "base_uri": "https://localhost:8080/",
          "height": 235
        },
        "id": "CIHwiTHoBAKz",
        "outputId": "52fa61fd-4e14-4249-a1cf-e6657ddf271d"
      },
      "source": [
        "size = 100\n",
        "from sklearn.model_selection import train_test_split\n",
        "train, test = train_test_split(data, test_size=size/len(data), shuffle=False)\n",
        "train.head()"
      ],
      "execution_count": 91,
      "outputs": [
        {
          "output_type": "execute_result",
          "data": {
            "text/html": [
              "<div>\n",
              "<style scoped>\n",
              "    .dataframe tbody tr th:only-of-type {\n",
              "        vertical-align: middle;\n",
              "    }\n",
              "\n",
              "    .dataframe tbody tr th {\n",
              "        vertical-align: top;\n",
              "    }\n",
              "\n",
              "    .dataframe thead th {\n",
              "        text-align: right;\n",
              "    }\n",
              "</style>\n",
              "<table border=\"1\" class=\"dataframe\">\n",
              "  <thead>\n",
              "    <tr style=\"text-align: right;\">\n",
              "      <th></th>\n",
              "      <th>Traffic</th>\n",
              "      <th>y</th>\n",
              "      <th>ds</th>\n",
              "    </tr>\n",
              "    <tr>\n",
              "      <th>Datetime</th>\n",
              "      <th></th>\n",
              "      <th></th>\n",
              "      <th></th>\n",
              "    </tr>\n",
              "  </thead>\n",
              "  <tbody>\n",
              "    <tr>\n",
              "      <th>2012-08-25</th>\n",
              "      <td>0.0</td>\n",
              "      <td>76</td>\n",
              "      <td>2012-08-25</td>\n",
              "    </tr>\n",
              "    <tr>\n",
              "      <th>2012-08-26</th>\n",
              "      <td>0.0</td>\n",
              "      <td>88</td>\n",
              "      <td>2012-08-26</td>\n",
              "    </tr>\n",
              "    <tr>\n",
              "      <th>2012-08-27</th>\n",
              "      <td>0.0</td>\n",
              "      <td>62</td>\n",
              "      <td>2012-08-27</td>\n",
              "    </tr>\n",
              "    <tr>\n",
              "      <th>2012-08-28</th>\n",
              "      <td>0.0</td>\n",
              "      <td>58</td>\n",
              "      <td>2012-08-28</td>\n",
              "    </tr>\n",
              "    <tr>\n",
              "      <th>2012-08-29</th>\n",
              "      <td>0.0</td>\n",
              "      <td>60</td>\n",
              "      <td>2012-08-29</td>\n",
              "    </tr>\n",
              "  </tbody>\n",
              "</table>\n",
              "</div>"
            ],
            "text/plain": [
              "            Traffic   y         ds\n",
              "Datetime                          \n",
              "2012-08-25      0.0  76 2012-08-25\n",
              "2012-08-26      0.0  88 2012-08-26\n",
              "2012-08-27      0.0  62 2012-08-27\n",
              "2012-08-28      0.0  58 2012-08-28\n",
              "2012-08-29      0.0  60 2012-08-29"
            ]
          },
          "metadata": {
            "tags": []
          },
          "execution_count": 91
        }
      ]
    },
    {
      "cell_type": "code",
      "metadata": {
        "colab": {
          "base_uri": "https://localhost:8080/",
          "height": 235
        },
        "id": "CyF5DF0JBdeJ",
        "outputId": "11d50f6f-7120-498f-aade-ec9d99b78512"
      },
      "source": [
        "test.head()"
      ],
      "execution_count": 92,
      "outputs": [
        {
          "output_type": "execute_result",
          "data": {
            "text/html": [
              "<div>\n",
              "<style scoped>\n",
              "    .dataframe tbody tr th:only-of-type {\n",
              "        vertical-align: middle;\n",
              "    }\n",
              "\n",
              "    .dataframe tbody tr th {\n",
              "        vertical-align: top;\n",
              "    }\n",
              "\n",
              "    .dataframe thead th {\n",
              "        text-align: right;\n",
              "    }\n",
              "</style>\n",
              "<table border=\"1\" class=\"dataframe\">\n",
              "  <thead>\n",
              "    <tr style=\"text-align: right;\">\n",
              "      <th></th>\n",
              "      <th>Traffic</th>\n",
              "      <th>y</th>\n",
              "      <th>ds</th>\n",
              "    </tr>\n",
              "    <tr>\n",
              "      <th>Datetime</th>\n",
              "      <th></th>\n",
              "      <th></th>\n",
              "      <th></th>\n",
              "    </tr>\n",
              "  </thead>\n",
              "  <tbody>\n",
              "    <tr>\n",
              "      <th>2014-06-18</th>\n",
              "      <td>24.0</td>\n",
              "      <td>8300</td>\n",
              "      <td>2014-06-18</td>\n",
              "    </tr>\n",
              "    <tr>\n",
              "      <th>2014-06-19</th>\n",
              "      <td>23.0</td>\n",
              "      <td>6802</td>\n",
              "      <td>2014-06-19</td>\n",
              "    </tr>\n",
              "    <tr>\n",
              "      <th>2014-06-20</th>\n",
              "      <td>24.0</td>\n",
              "      <td>9118</td>\n",
              "      <td>2014-06-20</td>\n",
              "    </tr>\n",
              "    <tr>\n",
              "      <th>2014-06-21</th>\n",
              "      <td>21.0</td>\n",
              "      <td>5282</td>\n",
              "      <td>2014-06-21</td>\n",
              "    </tr>\n",
              "    <tr>\n",
              "      <th>2014-06-22</th>\n",
              "      <td>19.0</td>\n",
              "      <td>5540</td>\n",
              "      <td>2014-06-22</td>\n",
              "    </tr>\n",
              "  </tbody>\n",
              "</table>\n",
              "</div>"
            ],
            "text/plain": [
              "            Traffic     y         ds\n",
              "Datetime                            \n",
              "2014-06-18     24.0  8300 2014-06-18\n",
              "2014-06-19     23.0  6802 2014-06-19\n",
              "2014-06-20     24.0  9118 2014-06-20\n",
              "2014-06-21     21.0  5282 2014-06-21\n",
              "2014-06-22     19.0  5540 2014-06-22"
            ]
          },
          "metadata": {
            "tags": []
          },
          "execution_count": 92
        }
      ]
    },
    {
      "cell_type": "code",
      "metadata": {
        "colab": {
          "base_uri": "https://localhost:8080/",
          "height": 235
        },
        "id": "evPDK-S7BmvS",
        "outputId": "8a034b34-4c81-4b53-f939-8fa4f1bb6ff5"
      },
      "source": [
        "test.tail()"
      ],
      "execution_count": 93,
      "outputs": [
        {
          "output_type": "execute_result",
          "data": {
            "text/html": [
              "<div>\n",
              "<style scoped>\n",
              "    .dataframe tbody tr th:only-of-type {\n",
              "        vertical-align: middle;\n",
              "    }\n",
              "\n",
              "    .dataframe tbody tr th {\n",
              "        vertical-align: top;\n",
              "    }\n",
              "\n",
              "    .dataframe thead th {\n",
              "        text-align: right;\n",
              "    }\n",
              "</style>\n",
              "<table border=\"1\" class=\"dataframe\">\n",
              "  <thead>\n",
              "    <tr style=\"text-align: right;\">\n",
              "      <th></th>\n",
              "      <th>Traffic</th>\n",
              "      <th>y</th>\n",
              "      <th>ds</th>\n",
              "    </tr>\n",
              "    <tr>\n",
              "      <th>Datetime</th>\n",
              "      <th></th>\n",
              "      <th></th>\n",
              "      <th></th>\n",
              "    </tr>\n",
              "  </thead>\n",
              "  <tbody>\n",
              "    <tr>\n",
              "      <th>2014-09-21</th>\n",
              "      <td>22.0</td>\n",
              "      <td>9102</td>\n",
              "      <td>2014-09-21</td>\n",
              "    </tr>\n",
              "    <tr>\n",
              "      <th>2014-09-22</th>\n",
              "      <td>24.0</td>\n",
              "      <td>14116</td>\n",
              "      <td>2014-09-22</td>\n",
              "    </tr>\n",
              "    <tr>\n",
              "      <th>2014-09-23</th>\n",
              "      <td>24.0</td>\n",
              "      <td>13304</td>\n",
              "      <td>2014-09-23</td>\n",
              "    </tr>\n",
              "    <tr>\n",
              "      <th>2014-09-24</th>\n",
              "      <td>24.0</td>\n",
              "      <td>16856</td>\n",
              "      <td>2014-09-24</td>\n",
              "    </tr>\n",
              "    <tr>\n",
              "      <th>2014-09-25</th>\n",
              "      <td>24.0</td>\n",
              "      <td>14152</td>\n",
              "      <td>2014-09-25</td>\n",
              "    </tr>\n",
              "  </tbody>\n",
              "</table>\n",
              "</div>"
            ],
            "text/plain": [
              "            Traffic      y         ds\n",
              "Datetime                             \n",
              "2014-09-21     22.0   9102 2014-09-21\n",
              "2014-09-22     24.0  14116 2014-09-22\n",
              "2014-09-23     24.0  13304 2014-09-23\n",
              "2014-09-24     24.0  16856 2014-09-24\n",
              "2014-09-25     24.0  14152 2014-09-25"
            ]
          },
          "metadata": {
            "tags": []
          },
          "execution_count": 93
        }
      ]
    },
    {
      "cell_type": "code",
      "metadata": {
        "colab": {
          "base_uri": "https://localhost:8080/"
        },
        "id": "jL3VYydkBwIZ",
        "outputId": "21543999-c18d-4bc1-e71c-60c61ad55dfc"
      },
      "source": [
        "model = Prophet(yearly_seasonality=True, seasonality_prior_scale=0.9)\n",
        "model.fit(train)"
      ],
      "execution_count": 94,
      "outputs": [
        {
          "output_type": "stream",
          "text": [
            "INFO:fbprophet:Disabling daily seasonality. Run prophet with daily_seasonality=True to override this.\n"
          ],
          "name": "stderr"
        },
        {
          "output_type": "execute_result",
          "data": {
            "text/plain": [
              "<fbprophet.forecaster.Prophet at 0x7f9d7e2787d0>"
            ]
          },
          "metadata": {
            "tags": []
          },
          "execution_count": 94
        }
      ]
    },
    {
      "cell_type": "code",
      "metadata": {
        "colab": {
          "base_uri": "https://localhost:8080/",
          "height": 419
        },
        "id": "YUpob0lECiGZ",
        "outputId": "0f7bd2a7-1954-4ef9-b324-ff83de8a30ab"
      },
      "source": [
        "f_data = model.make_future_dataframe(periods=100)\n",
        "f_data"
      ],
      "execution_count": 95,
      "outputs": [
        {
          "output_type": "execute_result",
          "data": {
            "text/html": [
              "<div>\n",
              "<style scoped>\n",
              "    .dataframe tbody tr th:only-of-type {\n",
              "        vertical-align: middle;\n",
              "    }\n",
              "\n",
              "    .dataframe tbody tr th {\n",
              "        vertical-align: top;\n",
              "    }\n",
              "\n",
              "    .dataframe thead th {\n",
              "        text-align: right;\n",
              "    }\n",
              "</style>\n",
              "<table border=\"1\" class=\"dataframe\">\n",
              "  <thead>\n",
              "    <tr style=\"text-align: right;\">\n",
              "      <th></th>\n",
              "      <th>ds</th>\n",
              "    </tr>\n",
              "  </thead>\n",
              "  <tbody>\n",
              "    <tr>\n",
              "      <th>0</th>\n",
              "      <td>2012-08-25</td>\n",
              "    </tr>\n",
              "    <tr>\n",
              "      <th>1</th>\n",
              "      <td>2012-08-26</td>\n",
              "    </tr>\n",
              "    <tr>\n",
              "      <th>2</th>\n",
              "      <td>2012-08-27</td>\n",
              "    </tr>\n",
              "    <tr>\n",
              "      <th>3</th>\n",
              "      <td>2012-08-28</td>\n",
              "    </tr>\n",
              "    <tr>\n",
              "      <th>4</th>\n",
              "      <td>2012-08-29</td>\n",
              "    </tr>\n",
              "    <tr>\n",
              "      <th>...</th>\n",
              "      <td>...</td>\n",
              "    </tr>\n",
              "    <tr>\n",
              "      <th>757</th>\n",
              "      <td>2014-09-21</td>\n",
              "    </tr>\n",
              "    <tr>\n",
              "      <th>758</th>\n",
              "      <td>2014-09-22</td>\n",
              "    </tr>\n",
              "    <tr>\n",
              "      <th>759</th>\n",
              "      <td>2014-09-23</td>\n",
              "    </tr>\n",
              "    <tr>\n",
              "      <th>760</th>\n",
              "      <td>2014-09-24</td>\n",
              "    </tr>\n",
              "    <tr>\n",
              "      <th>761</th>\n",
              "      <td>2014-09-25</td>\n",
              "    </tr>\n",
              "  </tbody>\n",
              "</table>\n",
              "<p>762 rows × 1 columns</p>\n",
              "</div>"
            ],
            "text/plain": [
              "            ds\n",
              "0   2012-08-25\n",
              "1   2012-08-26\n",
              "2   2012-08-27\n",
              "3   2012-08-28\n",
              "4   2012-08-29\n",
              "..         ...\n",
              "757 2014-09-21\n",
              "758 2014-09-22\n",
              "759 2014-09-23\n",
              "760 2014-09-24\n",
              "761 2014-09-25\n",
              "\n",
              "[762 rows x 1 columns]"
            ]
          },
          "metadata": {
            "tags": []
          },
          "execution_count": 95
        }
      ]
    },
    {
      "cell_type": "code",
      "metadata": {
        "colab": {
          "base_uri": "https://localhost:8080/",
          "height": 309
        },
        "id": "rB3uewMwD04O",
        "outputId": "21b3249e-cef0-4d07-fdcc-0e65b74308b1"
      },
      "source": [
        "forecast = model.predict(f_data)\n",
        "forecast.head()"
      ],
      "execution_count": 96,
      "outputs": [
        {
          "output_type": "execute_result",
          "data": {
            "text/html": [
              "<div>\n",
              "<style scoped>\n",
              "    .dataframe tbody tr th:only-of-type {\n",
              "        vertical-align: middle;\n",
              "    }\n",
              "\n",
              "    .dataframe tbody tr th {\n",
              "        vertical-align: top;\n",
              "    }\n",
              "\n",
              "    .dataframe thead th {\n",
              "        text-align: right;\n",
              "    }\n",
              "</style>\n",
              "<table border=\"1\" class=\"dataframe\">\n",
              "  <thead>\n",
              "    <tr style=\"text-align: right;\">\n",
              "      <th></th>\n",
              "      <th>ds</th>\n",
              "      <th>trend</th>\n",
              "      <th>yhat_lower</th>\n",
              "      <th>yhat_upper</th>\n",
              "      <th>trend_lower</th>\n",
              "      <th>trend_upper</th>\n",
              "      <th>additive_terms</th>\n",
              "      <th>additive_terms_lower</th>\n",
              "      <th>additive_terms_upper</th>\n",
              "      <th>weekly</th>\n",
              "      <th>weekly_lower</th>\n",
              "      <th>weekly_upper</th>\n",
              "      <th>yearly</th>\n",
              "      <th>yearly_lower</th>\n",
              "      <th>yearly_upper</th>\n",
              "      <th>multiplicative_terms</th>\n",
              "      <th>multiplicative_terms_lower</th>\n",
              "      <th>multiplicative_terms_upper</th>\n",
              "      <th>yhat</th>\n",
              "    </tr>\n",
              "  </thead>\n",
              "  <tbody>\n",
              "    <tr>\n",
              "      <th>0</th>\n",
              "      <td>2012-08-25</td>\n",
              "      <td>-509.515681</td>\n",
              "      <td>-1709.371101</td>\n",
              "      <td>115.694725</td>\n",
              "      <td>-509.515681</td>\n",
              "      <td>-509.515681</td>\n",
              "      <td>-272.470704</td>\n",
              "      <td>-272.470704</td>\n",
              "      <td>-272.470704</td>\n",
              "      <td>-786.127881</td>\n",
              "      <td>-786.127881</td>\n",
              "      <td>-786.127881</td>\n",
              "      <td>513.657176</td>\n",
              "      <td>513.657176</td>\n",
              "      <td>513.657176</td>\n",
              "      <td>0.0</td>\n",
              "      <td>0.0</td>\n",
              "      <td>0.0</td>\n",
              "      <td>-781.986385</td>\n",
              "    </tr>\n",
              "    <tr>\n",
              "      <th>1</th>\n",
              "      <td>2012-08-26</td>\n",
              "      <td>-502.314109</td>\n",
              "      <td>-1766.648799</td>\n",
              "      <td>-0.593778</td>\n",
              "      <td>-502.314109</td>\n",
              "      <td>-502.314109</td>\n",
              "      <td>-388.737957</td>\n",
              "      <td>-388.737957</td>\n",
              "      <td>-388.737957</td>\n",
              "      <td>-902.932915</td>\n",
              "      <td>-902.932915</td>\n",
              "      <td>-902.932915</td>\n",
              "      <td>514.194958</td>\n",
              "      <td>514.194958</td>\n",
              "      <td>514.194958</td>\n",
              "      <td>0.0</td>\n",
              "      <td>0.0</td>\n",
              "      <td>0.0</td>\n",
              "      <td>-891.052066</td>\n",
              "    </tr>\n",
              "    <tr>\n",
              "      <th>2</th>\n",
              "      <td>2012-08-27</td>\n",
              "      <td>-495.112537</td>\n",
              "      <td>-503.177356</td>\n",
              "      <td>1305.415318</td>\n",
              "      <td>-495.112537</td>\n",
              "      <td>-495.112537</td>\n",
              "      <td>885.905234</td>\n",
              "      <td>885.905234</td>\n",
              "      <td>885.905234</td>\n",
              "      <td>372.157378</td>\n",
              "      <td>372.157378</td>\n",
              "      <td>372.157378</td>\n",
              "      <td>513.747856</td>\n",
              "      <td>513.747856</td>\n",
              "      <td>513.747856</td>\n",
              "      <td>0.0</td>\n",
              "      <td>0.0</td>\n",
              "      <td>0.0</td>\n",
              "      <td>390.792697</td>\n",
              "    </tr>\n",
              "    <tr>\n",
              "      <th>3</th>\n",
              "      <td>2012-08-28</td>\n",
              "      <td>-487.910965</td>\n",
              "      <td>-496.734949</td>\n",
              "      <td>1316.156166</td>\n",
              "      <td>-487.910965</td>\n",
              "      <td>-487.910965</td>\n",
              "      <td>930.865597</td>\n",
              "      <td>930.865597</td>\n",
              "      <td>930.865597</td>\n",
              "      <td>418.330932</td>\n",
              "      <td>418.330932</td>\n",
              "      <td>418.330932</td>\n",
              "      <td>512.534665</td>\n",
              "      <td>512.534665</td>\n",
              "      <td>512.534665</td>\n",
              "      <td>0.0</td>\n",
              "      <td>0.0</td>\n",
              "      <td>0.0</td>\n",
              "      <td>442.954632</td>\n",
              "    </tr>\n",
              "    <tr>\n",
              "      <th>4</th>\n",
              "      <td>2012-08-29</td>\n",
              "      <td>-480.709393</td>\n",
              "      <td>-442.922153</td>\n",
              "      <td>1316.799765</td>\n",
              "      <td>-480.709393</td>\n",
              "      <td>-480.709393</td>\n",
              "      <td>882.438286</td>\n",
              "      <td>882.438286</td>\n",
              "      <td>882.438286</td>\n",
              "      <td>371.679601</td>\n",
              "      <td>371.679601</td>\n",
              "      <td>371.679601</td>\n",
              "      <td>510.758685</td>\n",
              "      <td>510.758685</td>\n",
              "      <td>510.758685</td>\n",
              "      <td>0.0</td>\n",
              "      <td>0.0</td>\n",
              "      <td>0.0</td>\n",
              "      <td>401.728894</td>\n",
              "    </tr>\n",
              "  </tbody>\n",
              "</table>\n",
              "</div>"
            ],
            "text/plain": [
              "          ds       trend  ...  multiplicative_terms_upper        yhat\n",
              "0 2012-08-25 -509.515681  ...                         0.0 -781.986385\n",
              "1 2012-08-26 -502.314109  ...                         0.0 -891.052066\n",
              "2 2012-08-27 -495.112537  ...                         0.0  390.792697\n",
              "3 2012-08-28 -487.910965  ...                         0.0  442.954632\n",
              "4 2012-08-29 -480.709393  ...                         0.0  401.728894\n",
              "\n",
              "[5 rows x 19 columns]"
            ]
          },
          "metadata": {
            "tags": []
          },
          "execution_count": 96
        }
      ]
    },
    {
      "cell_type": "code",
      "metadata": {
        "colab": {
          "base_uri": "https://localhost:8080/",
          "height": 674
        },
        "id": "RB9-xkhZEVph",
        "outputId": "ede80221-1fb4-4076-99a2-ae661dfcc60b"
      },
      "source": [
        "model.plot_components(forecast)\n",
        "pred = forecast.iloc[-100:, :]\n",
        "len(pred)"
      ],
      "execution_count": 97,
      "outputs": [
        {
          "output_type": "execute_result",
          "data": {
            "text/plain": [
              "100"
            ]
          },
          "metadata": {
            "tags": []
          },
          "execution_count": 97
        },
        {
          "output_type": "display_data",
          "data": {
            "image/png": "[encoded data removed]",
            "text/plain": [
              "<Figure size 648x648 with 3 Axes>"
            ]
          },
          "metadata": {
            "tags": []
          }
        }
      ]
    },
    {
      "cell_type": "code",
      "metadata": {
        "colab": {
          "base_uri": "https://localhost:8080/",
          "height": 428
        },
        "id": "rAVM_8djFfMO",
        "outputId": "e54311a4-665c-4283-9b91-81ce4db4317b"
      },
      "source": [
        "plt.figure(figsize=(10,7))\n",
        "plt.plot(test['ds'], test['y'])\n",
        "plt.plot(pred['ds'], pred['yhat'], color='red')\n",
        "plt.plot(pred['ds'], pred['yhat_lower'], color='green')\n",
        "plt.plot(pred['ds'], pred['yhat_upper'], color='orange')\n",
        "plt.show()"
      ],
      "execution_count": 98,
      "outputs": [
        {
          "output_type": "display_data",
          "data": {
            "image/png": "[encoded data removed]",
            "text/plain": [
              "<Figure size 720x504 with 1 Axes>"
            ]
          },
          "metadata": {
            "tags": [],
            "needs_background": "light"
          }
        }
      ]
    },
    {
      "cell_type": "code",
      "metadata": {
        "id": "B170PKhoFnJa",
        "colab": {
          "base_uri": "https://localhost:8080/",
          "height": 267
        },
        "outputId": "c98330cd-ede3-49a8-b31f-c728c9205b79"
      },
      "source": [
        "plt.plot(data['ds'], data['y'])\n",
        "plt.show()"
      ],
      "execution_count": 100,
      "outputs": [
        {
          "output_type": "display_data",
          "data": {
            "image/png": "[encoded data removed]",
            "text/plain": [
              "<Figure size 432x288 with 1 Axes>"
            ]
          },
          "metadata": {
            "tags": [],
            "needs_background": "light"
          }
        }
      ]
    },
    {
      "cell_type": "code",
      "metadata": {
        "colab": {
          "base_uri": "https://localhost:8080/",
          "height": 265
        },
        "id": "RZOKF6L8Fs-B",
        "outputId": "21e56363-b6e8-4d7f-c69c-3576b7cb30df"
      },
      "source": [
        "plt.plot(forecast['ds'], forecast['yhat'])\n",
        "plt.show()"
      ],
      "execution_count": 101,
      "outputs": [
        {
          "output_type": "display_data",
          "data": {
            "image/png": "[encoded data removed]",
            "text/plain": [
              "<Figure size 432x288 with 1 Axes>"
            ]
          },
          "metadata": {
            "tags": [],
            "needs_background": "light"
          }
        }
      ]
    },
    {
      "cell_type": "code",
      "metadata": {
        "colab": {
          "base_uri": "https://localhost:8080/"
        },
        "id": "W5_GOHBBF0nX",
        "outputId": "993e7525-21ae-462e-ad9e-d35a5a18f01a"
      },
      "source": [
        "model = Prophet(yearly_seasonality=True, seasonality_prior_scale=0.9)\n",
        "model.fit(data)"
      ],
      "execution_count": 102,
      "outputs": [
        {
          "output_type": "stream",
          "text": [
            "INFO:fbprophet:Disabling daily seasonality. Run prophet with daily_seasonality=True to override this.\n"
          ],
          "name": "stderr"
        },
        {
          "output_type": "execute_result",
          "data": {
            "text/plain": [
              "<fbprophet.forecaster.Prophet at 0x7f9d719d6090>"
            ]
          },
          "metadata": {
            "tags": []
          },
          "execution_count": 102
        }
      ]
    },
    {
      "cell_type": "code",
      "metadata": {
        "colab": {
          "base_uri": "https://localhost:8080/",
          "height": 309
        },
        "id": "fQNFp_3NF2c1",
        "outputId": "fceb4a2e-0070-4203-f497-0204c7858ead"
      },
      "source": [
        "future = model.make_future_dataframe(periods=200)\n",
        "forecast = model.predict(future)\n",
        "forecast.head()"
      ],
      "execution_count": 104,
      "outputs": [
        {
          "output_type": "execute_result",
          "data": {
            "text/html": [
              "<div>\n",
              "<style scoped>\n",
              "    .dataframe tbody tr th:only-of-type {\n",
              "        vertical-align: middle;\n",
              "    }\n",
              "\n",
              "    .dataframe tbody tr th {\n",
              "        vertical-align: top;\n",
              "    }\n",
              "\n",
              "    .dataframe thead th {\n",
              "        text-align: right;\n",
              "    }\n",
              "</style>\n",
              "<table border=\"1\" class=\"dataframe\">\n",
              "  <thead>\n",
              "    <tr style=\"text-align: right;\">\n",
              "      <th></th>\n",
              "      <th>ds</th>\n",
              "      <th>trend</th>\n",
              "      <th>yhat_lower</th>\n",
              "      <th>yhat_upper</th>\n",
              "      <th>trend_lower</th>\n",
              "      <th>trend_upper</th>\n",
              "      <th>additive_terms</th>\n",
              "      <th>additive_terms_lower</th>\n",
              "      <th>additive_terms_upper</th>\n",
              "      <th>weekly</th>\n",
              "      <th>weekly_lower</th>\n",
              "      <th>weekly_upper</th>\n",
              "      <th>yearly</th>\n",
              "      <th>yearly_lower</th>\n",
              "      <th>yearly_upper</th>\n",
              "      <th>multiplicative_terms</th>\n",
              "      <th>multiplicative_terms_lower</th>\n",
              "      <th>multiplicative_terms_upper</th>\n",
              "      <th>yhat</th>\n",
              "    </tr>\n",
              "  </thead>\n",
              "  <tbody>\n",
              "    <tr>\n",
              "      <th>0</th>\n",
              "      <td>2012-08-25</td>\n",
              "      <td>-691.413088</td>\n",
              "      <td>-2282.023638</td>\n",
              "      <td>150.189929</td>\n",
              "      <td>-691.413088</td>\n",
              "      <td>-691.413088</td>\n",
              "      <td>-423.432144</td>\n",
              "      <td>-423.432144</td>\n",
              "      <td>-423.432144</td>\n",
              "      <td>-995.120367</td>\n",
              "      <td>-995.120367</td>\n",
              "      <td>-995.120367</td>\n",
              "      <td>571.688223</td>\n",
              "      <td>571.688223</td>\n",
              "      <td>571.688223</td>\n",
              "      <td>0.0</td>\n",
              "      <td>0.0</td>\n",
              "      <td>0.0</td>\n",
              "      <td>-1114.845232</td>\n",
              "    </tr>\n",
              "    <tr>\n",
              "      <th>1</th>\n",
              "      <td>2012-08-26</td>\n",
              "      <td>-683.288701</td>\n",
              "      <td>-2463.892197</td>\n",
              "      <td>-17.291816</td>\n",
              "      <td>-683.288701</td>\n",
              "      <td>-683.288701</td>\n",
              "      <td>-581.426591</td>\n",
              "      <td>-581.426591</td>\n",
              "      <td>-581.426591</td>\n",
              "      <td>-1144.187184</td>\n",
              "      <td>-1144.187184</td>\n",
              "      <td>-1144.187184</td>\n",
              "      <td>562.760593</td>\n",
              "      <td>562.760593</td>\n",
              "      <td>562.760593</td>\n",
              "      <td>0.0</td>\n",
              "      <td>0.0</td>\n",
              "      <td>0.0</td>\n",
              "      <td>-1264.715292</td>\n",
              "    </tr>\n",
              "    <tr>\n",
              "      <th>2</th>\n",
              "      <td>2012-08-27</td>\n",
              "      <td>-675.164314</td>\n",
              "      <td>-739.441875</td>\n",
              "      <td>1522.664890</td>\n",
              "      <td>-675.164314</td>\n",
              "      <td>-675.164314</td>\n",
              "      <td>1008.545650</td>\n",
              "      <td>1008.545650</td>\n",
              "      <td>1008.545650</td>\n",
              "      <td>457.575538</td>\n",
              "      <td>457.575538</td>\n",
              "      <td>457.575538</td>\n",
              "      <td>550.970112</td>\n",
              "      <td>550.970112</td>\n",
              "      <td>550.970112</td>\n",
              "      <td>0.0</td>\n",
              "      <td>0.0</td>\n",
              "      <td>0.0</td>\n",
              "      <td>333.381336</td>\n",
              "    </tr>\n",
              "    <tr>\n",
              "      <th>3</th>\n",
              "      <td>2012-08-28</td>\n",
              "      <td>-667.039926</td>\n",
              "      <td>-672.255811</td>\n",
              "      <td>1662.294760</td>\n",
              "      <td>-667.039926</td>\n",
              "      <td>-667.039926</td>\n",
              "      <td>1145.477035</td>\n",
              "      <td>1145.477035</td>\n",
              "      <td>1145.477035</td>\n",
              "      <td>608.350482</td>\n",
              "      <td>608.350482</td>\n",
              "      <td>608.350482</td>\n",
              "      <td>537.126553</td>\n",
              "      <td>537.126553</td>\n",
              "      <td>537.126553</td>\n",
              "      <td>0.0</td>\n",
              "      <td>0.0</td>\n",
              "      <td>0.0</td>\n",
              "      <td>478.437108</td>\n",
              "    </tr>\n",
              "    <tr>\n",
              "      <th>4</th>\n",
              "      <td>2012-08-29</td>\n",
              "      <td>-658.915539</td>\n",
              "      <td>-751.606988</td>\n",
              "      <td>1639.358962</td>\n",
              "      <td>-658.915539</td>\n",
              "      <td>-658.915539</td>\n",
              "      <td>1078.945696</td>\n",
              "      <td>1078.945696</td>\n",
              "      <td>1078.945696</td>\n",
              "      <td>556.887062</td>\n",
              "      <td>556.887062</td>\n",
              "      <td>556.887062</td>\n",
              "      <td>522.058634</td>\n",
              "      <td>522.058634</td>\n",
              "      <td>522.058634</td>\n",
              "      <td>0.0</td>\n",
              "      <td>0.0</td>\n",
              "      <td>0.0</td>\n",
              "      <td>420.030157</td>\n",
              "    </tr>\n",
              "  </tbody>\n",
              "</table>\n",
              "</div>"
            ],
            "text/plain": [
              "          ds       trend  ...  multiplicative_terms_upper         yhat\n",
              "0 2012-08-25 -691.413088  ...                         0.0 -1114.845232\n",
              "1 2012-08-26 -683.288701  ...                         0.0 -1264.715292\n",
              "2 2012-08-27 -675.164314  ...                         0.0   333.381336\n",
              "3 2012-08-28 -667.039926  ...                         0.0   478.437108\n",
              "4 2012-08-29 -658.915539  ...                         0.0   420.030157\n",
              "\n",
              "[5 rows x 19 columns]"
            ]
          },
          "metadata": {
            "tags": []
          },
          "execution_count": 104
        }
      ]
    },
    {
      "cell_type": "code",
      "metadata": {
        "colab": {
          "base_uri": "https://localhost:8080/",
          "height": 265
        },
        "id": "1qFL86xuF9Qi",
        "outputId": "3b7cd5d3-d06b-4ea3-b0c3-a0e5ecd74a84"
      },
      "source": [
        "plt.plot(forecast['ds'], forecast['yhat'])\n",
        "plt.show()"
      ],
      "execution_count": 103,
      "outputs": [
        {
          "output_type": "display_data",
          "data": {
            "image/png": "[encoded data removed]",
            "text/plain": [
              "<Figure size 432x288 with 1 Axes>"
            ]
          },
          "metadata": {
            "tags": [],
            "needs_background": "light"
          }
        }
      ]
    }
  ]
}